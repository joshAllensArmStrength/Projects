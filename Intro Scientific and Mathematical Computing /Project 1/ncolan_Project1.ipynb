{
 "cells": [
  {
   "cell_type": "markdown",
   "metadata": {},
   "source": [
    "# MTH 337 - Project 1: *A Prime Or Not A Prime*\n",
    "### Nicholas Colan\n",
    "#### Section: MW 11-12:50"
   ]
  },
  {
   "cell_type": "markdown",
   "metadata": {},
   "source": [
    "# Prime Numbers\n",
    "A **natural  number** is any positive integer between $1$ and infinity. **Prime numbers** are any natural number greater than $1$ whose only factors are itself and $1$. Any number that is also greater than $1$ but has other factors besides itself and $1$ are called **composite numbers**. For example, $4$ is a **composite number** because its factors are: (1,2,4), while $5$ is a **prime number** because its only factors are: (1,5). The first five prime numbers are: (2, 3, 5, 7, and 11).\n",
    "\n",
    "Prime numbers are extremely important in the study of mathematics, specifically in the field of number theory due to the **fundamental theory of arithmetic**, which states that every natural number greater than 1 is either a prime number or can be factorized as a unique product of prime numbers.\n",
    "\n",
    "The method of determining **primality** (whether a number is prime or not) is a simple process, but one that can be slow when checking primality for larger and larger natural numbers. Determining the primality of an integer $n$ requires trial division for every integer between $2$ and $\\sqrt{n}$ to determine if $n$ is a multiple of any of those integers. If there are no integers between $2$ and $\\sqrt{n}$ which evenly divide $n$ (n%integer = 0), then $n$ is a prime number. Below is the method that I will be using to determine if a number is prime or not:"
   ]
  },
  {
   "cell_type": "code",
   "execution_count": null,
   "metadata": {},
   "outputs": [],
   "source": [
    "from math import sqrt"
   ]
  },
  {
   "cell_type": "code",
   "execution_count": 7,
   "metadata": {},
   "outputs": [],
   "source": [
    "# The 'isPrime(x)' function takes a single input and determines \n",
    "# if the input is a prime number using trial divison, returning a Boolean value. \n",
    "def isPrime(n):\n",
    "    prime = True\n",
    "    if n <2:\n",
    "        prime = False\n",
    "    else:\n",
    "        for d in range(2,int(sqrt(n)+1)):\n",
    "            if n%d == 0:\n",
    "                prime = False\n",
    "                break\n",
    "    return prime"
   ]
  },
  {
   "cell_type": "markdown",
   "metadata": {},
   "source": [
    "Here is an example of the `isPrime(n)` function determining the primality of all natural numbers between 1 and 20 (all prime numbers will be printed out):"
   ]
  },
  {
   "cell_type": "code",
   "execution_count": 33,
   "metadata": {},
   "outputs": [
    {
     "name": "stdout",
     "output_type": "stream",
     "text": [
      "[2, 3, 5, 7, 11, 13, 17, 19]\n"
     ]
    }
   ],
   "source": [
    "# The 'myPrimes(x)' function takes a single input (must be an integer) and iteratively \n",
    "# looks at each number between 2 and 'x' to generate a list of every prime between 2 and 'x' \n",
    "# using list comprehension.\n",
    "def myPrimes(n):\n",
    "    primes = [p for p in range(n) if isPrime(p)]\n",
    "    return primes\n",
    "\n",
    "print(myPrimes(20))"
   ]
  },
  {
   "cell_type": "markdown",
   "metadata": {},
   "source": [
    "As stated above, prime numbers are extremely important in the study of mathematics due to the **fundamental theory of arithmetic**, which states that every natural number greater than 1 is either a prime number or can be factorized as a unique product of prime numbers. This unique product of prime numbers is also known as the **primary decomposition** of a natural, non-prime number `n`. The function below, `primary(n)`, generates the primary decomosition of a number using the [Ladder Method](https://courses.lumenlearning.com/prealgebra/chapter/finding-the-prime-factorization-of-a-composite-number/)."
   ]
  },
  {
   "cell_type": "code",
   "execution_count": 14,
   "metadata": {},
   "outputs": [],
   "source": [
    "def primary(n):\n",
    "    \n",
    "    primeFacto = []\n",
    "    \n",
    "    # This sub-function, 'primeFactors(x,y)', takes two inputs -- 'x' and 'y' and first checks to make  \n",
    "    # sure that the divisor(y) is less or equal to the number that is being divided(x). Then, once it is \n",
    "    # determined that the divisor is both a prime number and a factor of 'x' this function will add this\n",
    "    # prime number to the factorization list. After this the function will divide the original \n",
    "    # numerator by the divisor(starting at the smallest prime number of 2) and will recursively call \n",
    "    # itself with an input of: (x/y, y) in order to find further prime factors.\n",
    "    \n",
    "    # If the inputted divisor is not a prime number and/or doesn't properly divide the numerator, then the \n",
    "    # function will recursively call itself with an input of: (x, y+1) in order to find the next larger\n",
    "    # prime factor.\n",
    "    def primeFactors(N, d):\n",
    "        if d <= N:\n",
    "            if isPrime(d) and N % d == 0:\n",
    "                primeFacto.append(d)\n",
    "                primeFactors(N/d, d)\n",
    "            else:\n",
    "                primeFactors(N, d+1)\n",
    "    # ---------------------    \n",
    "    \n",
    "    if isPrime(n):\n",
    "        primeFacto.append(n)\n",
    "    else:\n",
    "        primeFactors(n, 2)\n",
    "   \n",
    "    return primeFacto"
   ]
  },
  {
   "cell_type": "markdown",
   "metadata": {},
   "source": [
    "Below is an example of the primary decomposition of the natural number `100`. The `primary(n)` function will determine whether `100` is a prime number or not, and if it is not then it will generate the primary decompsotion of that number."
   ]
  },
  {
   "cell_type": "code",
   "execution_count": 15,
   "metadata": {},
   "outputs": [
    {
     "name": "stdout",
     "output_type": "stream",
     "text": [
      "[2, 2, 5, 5]\n"
     ]
    }
   ],
   "source": [
    "print(primary(100))"
   ]
  },
  {
   "cell_type": "code",
   "execution_count": 16,
   "metadata": {},
   "outputs": [
    {
     "name": "stdout",
     "output_type": "stream",
     "text": [
      "100\n"
     ]
    }
   ],
   "source": [
    "print(2*2*5*5)"
   ]
  },
  {
   "cell_type": "markdown",
   "metadata": {},
   "source": [
    "Here is an example of the output of `primary(n)` when n is a prime number. Note how the only output for a prime number is itself, as the fundamental theory of arithmitec does not hold true for prime numbers."
   ]
  },
  {
   "cell_type": "code",
   "execution_count": 19,
   "metadata": {},
   "outputs": [
    {
     "data": {
      "text/plain": [
       "True"
      ]
     },
     "execution_count": 19,
     "metadata": {},
     "output_type": "execute_result"
    }
   ],
   "source": [
    "isPrime(13)"
   ]
  },
  {
   "cell_type": "code",
   "execution_count": 20,
   "metadata": {},
   "outputs": [
    {
     "data": {
      "text/plain": [
       "[13]"
      ]
     },
     "execution_count": 20,
     "metadata": {},
     "output_type": "execute_result"
    }
   ],
   "source": [
    "primary(13)"
   ]
  },
  {
   "cell_type": "markdown",
   "metadata": {},
   "source": [
    "## Fermat's Little Theorum\n",
    "\n",
    "[Fermat's little theorem](https://en.wikipedia.org/wiki/Fermat%27s_little_theorem): If $p$ is a prime, then for every $0 \\leq a < p$, we have\n",
    "$$\n",
    "a^p \\equiv a \\quad (\\text{mod} p)\n",
    "$$\n",
    "for any integer $0 \\leq a < p$\n",
    "\n",
    "Below the function `isPrimeLike(n)` determines if a number `n` satisfies Fermat's Little Theroum, and therefore is *prime-like*. The line: `pow(a,p,p)` runs the same operation as $a^p$ % $p$, but in a much faster fashion.\n"
   ]
  },
  {
   "cell_type": "code",
   "execution_count": 35,
   "metadata": {},
   "outputs": [],
   "source": [
    "def isPrimeLike(p):\n",
    "    prime = True\n",
    "    for a in range(1,p):\n",
    "        if not (pow(a,p,p) == a % p):\n",
    "            prime = False\n",
    "            break\n",
    "    return prime"
   ]
  },
  {
   "cell_type": "code",
   "execution_count": 36,
   "metadata": {},
   "outputs": [
    {
     "data": {
      "text/plain": [
       "True"
      ]
     },
     "execution_count": 36,
     "metadata": {},
     "output_type": "execute_result"
    }
   ],
   "source": [
    "isPrimeLike(13)"
   ]
  },
  {
   "cell_type": "code",
   "execution_count": 37,
   "metadata": {},
   "outputs": [
    {
     "data": {
      "text/plain": [
       "True"
      ]
     },
     "execution_count": 37,
     "metadata": {},
     "output_type": "execute_result"
    }
   ],
   "source": [
    "isPrimeLike(23)"
   ]
  },
  {
   "cell_type": "code",
   "execution_count": 38,
   "metadata": {},
   "outputs": [
    {
     "data": {
      "text/plain": [
       "False"
      ]
     },
     "execution_count": 38,
     "metadata": {},
     "output_type": "execute_result"
    }
   ],
   "source": [
    "isPrimeLike(16)"
   ]
  },
  {
   "cell_type": "markdown",
   "metadata": {},
   "source": [
    "### False Primes\n",
    "\n",
    "A natural number that is not prime, but does satisfy Fermat's Little Theorum is considered to be a **false prime**. These numbers are also referred to as **Carmichael Numbers**. The first *false prime* is `561`. Here we will test to see if Fermat's Little Theorum determines whether `561` is *prime-like*, and then we will see if that number is actually a prme number."
   ]
  },
  {
   "cell_type": "code",
   "execution_count": 39,
   "metadata": {},
   "outputs": [
    {
     "data": {
      "text/plain": [
       "True"
      ]
     },
     "execution_count": 39,
     "metadata": {},
     "output_type": "execute_result"
    }
   ],
   "source": [
    "isPrimeLike(561)"
   ]
  },
  {
   "cell_type": "code",
   "execution_count": 40,
   "metadata": {},
   "outputs": [
    {
     "data": {
      "text/plain": [
       "False"
      ]
     },
     "execution_count": 40,
     "metadata": {},
     "output_type": "execute_result"
    }
   ],
   "source": [
    "isPrime(561)"
   ]
  },
  {
   "cell_type": "markdown",
   "metadata": {},
   "source": [
    "## Part 1: Find the First 20 False Primes\n",
    "The below function, `firstNFalsePrimes(n)`, takes an integer `n` as input and finds the first `n` **false primes**."
   ]
  },
  {
   "cell_type": "code",
   "execution_count": 44,
   "metadata": {},
   "outputs": [],
   "source": [
    "def firstNFalsePrimes(n):\n",
    "    falsePrimes = []\n",
    "    start = 2\n",
    "    while len(falsePrimes) < n:\n",
    "        if not isPrime(start) and isPrimeLike(start):\n",
    "            falsePrimes.append(start)\n",
    "        start += 1\n",
    "        \n",
    "    return falsePrimes"
   ]
  },
  {
   "cell_type": "code",
   "execution_count": 57,
   "metadata": {},
   "outputs": [
    {
     "data": {
      "text/plain": [
       "[561,\n",
       " 1105,\n",
       " 1729,\n",
       " 2465,\n",
       " 2821,\n",
       " 6601,\n",
       " 8911,\n",
       " 10585,\n",
       " 15841,\n",
       " 29341,\n",
       " 41041,\n",
       " 46657,\n",
       " 52633,\n",
       " 62745,\n",
       " 63973,\n",
       " 75361,\n",
       " 101101,\n",
       " 115921,\n",
       " 126217,\n",
       " 162401]"
      ]
     },
     "execution_count": 57,
     "metadata": {},
     "output_type": "execute_result"
    }
   ],
   "source": [
    "firstNFalsePrimes(20)"
   ]
  },
  {
   "cell_type": "markdown",
   "metadata": {},
   "source": [
    "## **Part 2: Calculate the Primary Decomposition of the First 20 False Primes**\n",
    "\n",
    "For readibility purposes, I converted the false-primes `n` into a string when outputting the list."
   ]
  },
  {
   "cell_type": "code",
   "execution_count": 54,
   "metadata": {},
   "outputs": [
    {
     "name": "stdout",
     "output_type": "stream",
     "text": [
      "[['561', [3, 11, 17]], ['1105', [5, 13, 17]], ['1729', [7, 13, 19]], ['2465', [5, 17, 29]], ['2821', [7, 13, 31]], ['6601', [7, 23, 41]], ['8911', [7, 19, 67]], ['10585', [5, 29, 73]], ['15841', [7, 31, 73]], ['29341', [13, 37, 61]], ['41041', [7, 11, 13, 41]], ['46657', [13, 37, 97]], ['52633', [7, 73, 103]], ['62745', [3, 5, 47, 89]], ['63973', [7, 13, 19, 37]], ['75361', [11, 13, 17, 31]], ['101101', [7, 11, 13, 101]], ['115921', [13, 37, 241]], ['126217', [7, 13, 19, 73]], ['162401', [17, 41, 233]]]\n"
     ]
    }
   ],
   "source": [
    "primeDecompFalsePrimes = []\n",
    "for n in firstNFalsePrimes(20):\n",
    "    primeDecompFalsePrimes.append([str(n),primary(n)])\n",
    "print(primeDecompFalsePrimes)"
   ]
  },
  {
   "cell_type": "code",
   "execution_count": 50,
   "metadata": {},
   "outputs": [
    {
     "data": {
      "text/plain": [
       "561"
      ]
     },
     "execution_count": 50,
     "metadata": {},
     "output_type": "execute_result"
    }
   ],
   "source": [
    "3*11*17"
   ]
  },
  {
   "cell_type": "code",
   "execution_count": 51,
   "metadata": {},
   "outputs": [
    {
     "data": {
      "text/plain": [
       "1105"
      ]
     },
     "execution_count": 51,
     "metadata": {},
     "output_type": "execute_result"
    }
   ],
   "source": [
    "5*13*17"
   ]
  },
  {
   "cell_type": "code",
   "execution_count": 55,
   "metadata": {},
   "outputs": [
    {
     "data": {
      "text/plain": [
       "162401"
      ]
     },
     "execution_count": 55,
     "metadata": {},
     "output_type": "execute_result"
    }
   ],
   "source": [
    "17*41*233"
   ]
  },
  {
   "cell_type": "code",
   "execution_count": 60,
   "metadata": {},
   "outputs": [
    {
     "name": "stdout",
     "output_type": "stream",
     "text": [
      "162401:\n",
      "Is prime? -- False\n",
      "Is prime-like? -- True\n",
      "True\n"
     ]
    }
   ],
   "source": [
    "print(\"162401:\")\n",
    "print(\"Is prime? -- {:}\".format(isPrime(162401)))\n",
    "print(\"Is prime-like? -- {:}\".format(isPrimeLike(162401)))\n",
    "print(isPrime(17) and isPrime(41) and isPrime(233))"
   ]
  },
  {
   "cell_type": "markdown",
   "metadata": {},
   "source": [
    "## Part 3: Properties of False Primes\n",
    "\n",
    "From working on this project, I noted that all **false primes** are odd-numbers. I also noticed that every **false prime** number is a product of atleast **three** prime numbers. The most intersting property of **false primes** that I discovered by working on this project is that the prime factorization of every **false prime** contains no repeated factors. This property is called being \"**squarefree**\".\n",
    "\n",
    "Last, **false primes** are actually very important because their existence shows that Fermat's Little Theorum cannot be relied upon to determine primality for every natural number."
   ]
  },
  {
   "cell_type": "code",
   "execution_count": null,
   "metadata": {},
   "outputs": [],
   "source": []
  }
 ],
 "metadata": {
  "kernelspec": {
   "display_name": "Python 3",
   "language": "python",
   "name": "python3"
  },
  "language_info": {
   "codemirror_mode": {
    "name": "ipython",
    "version": 3
   },
   "file_extension": ".py",
   "mimetype": "text/x-python",
   "name": "python",
   "nbconvert_exporter": "python",
   "pygments_lexer": "ipython3",
   "version": "3.7.4"
  }
 },
 "nbformat": 4,
 "nbformat_minor": 2
}
