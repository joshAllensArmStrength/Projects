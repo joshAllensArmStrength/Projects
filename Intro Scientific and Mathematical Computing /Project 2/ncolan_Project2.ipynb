{
 "cells": [
  {
   "cell_type": "markdown",
   "metadata": {},
   "source": [
    "# Project 2 - Pythagorean triples\n",
    "### Nicholas Colan"
   ]
  },
  {
   "cell_type": "markdown",
   "metadata": {},
   "source": [
    "# Introduction\n",
    "\n",
    "\n",
    "[Project 2](https://jllottes.github.io/Projects/pythagorean_triples/pythagorean_triples.html)\n",
    "\n",
    "A tuple of integers $(a,b,c)$ is a **Pythagorean triple** if $a^2 + b^2 = c^2$.\n",
    "\n",
    "Let's start with a function that takes in an integer and checks if it is a perfect square. **Add info about triangles and perfect squares**."
   ]
  },
  {
   "cell_type": "code",
   "execution_count": 2,
   "metadata": {},
   "outputs": [],
   "source": [
    "from math import sqrt # _X_ why are we importing this?"
   ]
  },
  {
   "cell_type": "code",
   "execution_count": null,
   "metadata": {},
   "outputs": [],
   "source": [
    "def is_square(n): # _X_ Add notation for how this function works\n",
    "    if int(sqrt(n)) ** 2 == n:\n",
    "        return True\n",
    "    else: return False"
   ]
  }
 ],
 "metadata": {
  "kernelspec": {
   "display_name": "Python 3",
   "language": "python",
   "name": "python3"
  },
  "language_info": {
   "codemirror_mode": {
    "name": "ipython",
    "version": 3
   },
   "file_extension": ".py",
   "mimetype": "text/x-python",
   "name": "python",
   "nbconvert_exporter": "python",
   "pygments_lexer": "ipython3",
   "version": "3.7.4"
  }
 },
 "nbformat": 4,
 "nbformat_minor": 2
}
