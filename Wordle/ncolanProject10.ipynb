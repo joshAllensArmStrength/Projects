{
 "cells": [
  {
   "cell_type": "markdown",
   "metadata": {},
   "source": [
    "# Wordle\n",
    "\n",
    "Nicholas Colan"
   ]
  },
  {
   "cell_type": "markdown",
   "metadata": {},
   "source": [
    "# Introduction\n",
    "\n",
    "Wordle is a simple $5$ x $6$ grid based puzzle game that challenges the player to find the correct five-letter word in six guesses. To help the player guess the correct word within the six alloted guesses, the game will give a letter by letter feedback for each guess. \n",
    "\n",
    "If a letter's grid is colored `gray`, that means that letter does not appear in the puzzle's answer. If a letter's grid is colored `yellow`, that means that the letter does appear in the puzzle's answer, but it is currently not in the correct position. And if a letter's grid is colored `green`, that letter appears in the puzzle's answer in that same position. The puzzle is thereby solved when every letter tile is colored `green`.\n",
    "\n",
    "In this project we will analyze every possible word that can appear in this iteration of Wordle, and see how different starting word guesses affect the number of guesses needed to solve the Wordle puzzle.\n",
    "\n",
    "Here is an example of a wordle game:"
   ]
  },
  {
   "cell_type": "code",
   "execution_count": null,
   "metadata": {},
   "outputs": [],
   "source": [
    "from IPython.display import Image\n",
    "Image('wordleExample.png')"
   ]
  },
  {
   "cell_type": "code",
   "execution_count": null,
   "metadata": {},
   "outputs": [],
   "source": [
    "import requests\n",
    "from wordle import *\n",
    "from random import randrange\n",
    "import matplotlib.pyplot as plt\n",
    "import numpy as np"
   ]
  },
  {
   "cell_type": "code",
   "execution_count": null,
   "metadata": {},
   "outputs": [],
   "source": [
    "%config InlineBackend.figure_format = 'retina' # Used to sharpen image"
   ]
  },
  {
   "cell_type": "code",
   "execution_count": null,
   "metadata": {},
   "outputs": [],
   "source": [
    "with open('wordle_words.txt','r') as f:\n",
    "    words = f.read().split()"
   ]
  },
  {
   "cell_type": "code",
   "execution_count": null,
   "metadata": {},
   "outputs": [],
   "source": [
    "%matplotlib notebook\n",
    "\n",
    "game = wordle_game(words)\n",
    "game.play()"
   ]
  },
  {
   "cell_type": "markdown",
   "metadata": {},
   "source": [
    "# Data Analysis"
   ]
  },
  {
   "cell_type": "markdown",
   "metadata": {},
   "source": [
    "With the Wordle game demonstrated, we can now run analysis of each word to see on average how many guesses it takes to solve the puzzle with each starting word.\n",
    "\n",
    "Our first method, `get_possible_words()`, takes in the guessed word, its evaluation vs the correct word, and the word bank to generate a list of possible answers to the Wordle puzzle. This method will assume that there are no repeated letters in the answer, and we will use a `set` to generate a list of possible words. `Sets` do not contain repeated index values, so they will ensure that there are no repeated letters."
   ]
  },
  {
   "cell_type": "code",
   "execution_count": null,
   "metadata": {},
   "outputs": [],
   "source": [
    "def get_possible_words(guess_word,evaluation,words):\n",
    "    \n",
    "    known_letters_known_positions = [(i,letter) for i,letter in enumerate(guess_word) if evaluation[i] == 2]\n",
    "    known_letters_unknown_positions = [(i,letter) for i,letter in enumerate(guess_word) if evaluation[i] == 1]\n",
    "    known_missing_letters = [letter for i,letter in enumerate(guess_word) if evaluation[i] == 0]\n",
    "    \n",
    "    words_without_duplicates = [word for word in words if len(set(word)) == len(word)]\n",
    "    possible_words = list(words_without_duplicates)\n",
    "\n",
    "    for word in words_without_duplicates:\n",
    "        removed = False\n",
    "        for i,letter in known_letters_known_positions:\n",
    "            if word[i] != letter:\n",
    "                possible_words.remove(word)\n",
    "                removed = True\n",
    "                break\n",
    "        if not removed:\n",
    "            for i,letter in known_letters_unknown_positions:\n",
    "                if not (letter in word and word[i] != letter):\n",
    "                    possible_words.remove(word)\n",
    "                    removed = True\n",
    "                    break\n",
    "        if not removed:\n",
    "            for letter in known_missing_letters:\n",
    "                if letter in word:\n",
    "                    possible_words.remove(word)\n",
    "                    removed = True\n",
    "                    break\n",
    "    \n",
    "    return possible_words"
   ]
  },
  {
   "cell_type": "markdown",
   "metadata": {},
   "source": [
    "We will now modify `get_possible_words()` to be able to consider all words, even ones with repeating letters. This will be accomplished by using a `list`, which allows for repeated index values."
   ]
  },
  {
   "cell_type": "code",
   "execution_count": null,
   "metadata": {},
   "outputs": [],
   "source": [
    "def modified_get_possible_words(guess_word,evaluation,words):\n",
    "    \n",
    "    known_letters_known_positions = [(i,letter) for i,letter in enumerate(guess_word) if evaluation[i] == 2]\n",
    "    known_letters_unknown_positions = [(i,letter) for i,letter in enumerate(guess_word) if evaluation[i] == 1]\n",
    "    known_missing_letters = [letter for i,letter in enumerate(guess_word) if evaluation[i] == 0]\n",
    "    \n",
    "    possible_words = list(words)\n",
    "\n",
    "    for word in words:\n",
    "        remaining_letters = list(word)\n",
    "        removed = False\n",
    "        for i,letter in known_letters_known_positions:\n",
    "            if word[i] != letter:\n",
    "                possible_words.remove(word)\n",
    "                removed = True\n",
    "                break\n",
    "            else:\n",
    "                remaining_letters.remove(letter)\n",
    "        if not removed:\n",
    "            for i,letter in known_letters_unknown_positions:\n",
    "                if not (letter in remaining_letters and word[i] != letter):\n",
    "                    possible_words.remove(word)\n",
    "                    removed = True\n",
    "                    break\n",
    "                else:\n",
    "                    remaining_letters.remove(letter)\n",
    "        if not removed:\n",
    "            for letter in known_missing_letters:\n",
    "                if letter in remaining_letters:\n",
    "                    possible_words.remove(word)\n",
    "                    removed = True\n",
    "                    break\n",
    "    return possible_words"
   ]
  },
  {
   "cell_type": "markdown",
   "metadata": {},
   "source": [
    "Now will declare `solve_wordle()`, a method that will solve the puzzle and return the puzzle's answer as well as the number of guesses needed by the function to solve the Worlde.\n",
    "\n",
    "This function uses `random.randrange()` to randomly pick a guess word from the list of possible answers to the puzzle in an effort to more closely model a player's behavior when trying to solve the Wordle."
   ]
  },
  {
   "cell_type": "code",
   "execution_count": null,
   "metadata": {},
   "outputs": [],
   "source": [
    "def solve_wordle(correct_word,guess_word,words):\n",
    "    num_guesses = 1\n",
    "    possible_words = list(words)\n",
    "    evaluation = evaluate_guess(correct_word,guess_word)\n",
    "    possible_words = modified_get_possible_words(guess_word,evaluation,possible_words)\n",
    "    \n",
    "    while(len(possible_words)>1):\n",
    "        num_guesses+=1\n",
    "        r = randrange(len(possible_words)-1)\n",
    "        guess_word = possible_words[r]\n",
    "        evaluation = evaluate_guess(correct_word,guess_word)\n",
    "        possible_words = modified_get_possible_words(guess_word,evaluation,possible_words)\n",
    "    \n",
    "    return (possible_words[0], num_guesses)"
   ]
  },
  {
   "cell_type": "markdown",
   "metadata": {},
   "source": [
    "Now we will look at $20$ different words in the Wordle puzzle wordbank to see what starting guessing on average solve the Wordle in the fewest number of attempts. We will first create a dictionary of the form `dict{word:float}` to track these word's average attempts needed to solve."
   ]
  },
  {
   "cell_type": "code",
   "execution_count": null,
   "metadata": {},
   "outputs": [],
   "source": [
    "avgNumOfGuessesNeeded = {w:0.0 for w in words[:20]}"
   ]
  },
  {
   "cell_type": "markdown",
   "metadata": {},
   "source": [
    "We will now create a method `avgGuesses()` that will take in a word and the list of all words in the Wordle game and will return the average number of guesses needed to solve the puzzle for each Wordle word. We will run the simulation $2,315$ times, testing each of our words for every potential Wordle puzzle."
   ]
  },
  {
   "cell_type": "code",
   "execution_count": null,
   "metadata": {},
   "outputs": [],
   "source": [
    "def avgGuesses(guessWord,listWords):\n",
    "    guesses = 0.0\n",
    "    for w in listWords:\n",
    "        guesses += solve_wordle(w,guessWord,listWords)[1]\n",
    "    return guesses / len(listWords)"
   ]
  },
  {
   "cell_type": "markdown",
   "metadata": {},
   "source": [
    "Now that we have a function that can simulate how well each word does, we can some of our Wordle words. Because we are going to test each starting guess against every possible Wordle word, $2315$ of them, it will take a while to test every word. Because of that we are only going to look at $20$ words, which should take roughly $5$ minutes."
   ]
  },
  {
   "cell_type": "code",
   "execution_count": null,
   "metadata": {},
   "outputs": [],
   "source": [
    "for w in words[:20]:\n",
    "    avgNumOfGuessesNeeded[w] = avgGuesses(w,words)"
   ]
  },
  {
   "cell_type": "code",
   "execution_count": null,
   "metadata": {
    "scrolled": true
   },
   "outputs": [],
   "source": [
    "avgNumOfGuessesNeeded"
   ]
  },
  {
   "cell_type": "markdown",
   "metadata": {},
   "source": [
    "We want to be able to access these scores in a sorted format in order to look at the starting guesses which yielded the lowest amount of necessary guesses to solve the puzzle. Dictionary's cannot be sorted so to do that we will create a list of the `(key,value)` pairs from our dictionary."
   ]
  },
  {
   "cell_type": "code",
   "execution_count": null,
   "metadata": {},
   "outputs": [],
   "source": [
    "words_list = []\n",
    "\n",
    "for i in sorted(avgNumOfGuessesNeeded, key=avgNumOfGuessesNeeded.get, reverse=False):\n",
    "    words_list.append([i,avgNumOfGuessesNeeded[i]])"
   ]
  },
  {
   "cell_type": "code",
   "execution_count": null,
   "metadata": {},
   "outputs": [],
   "source": [
    "words_list"
   ]
  },
  {
   "cell_type": "code",
   "execution_count": null,
   "metadata": {},
   "outputs": [],
   "source": [
    "x_values = [i[0] for i in words_list]\n",
    "y_values = [i[1] for i in words_list]\n",
    "x_ticks = np.arange(len(x_values))"
   ]
  },
  {
   "cell_type": "code",
   "execution_count": null,
   "metadata": {},
   "outputs": [],
   "source": [
    "plt.figure(figsize=(10,6),dpi=100)\n",
    "\n",
    "plt.bar(x_ticks,y_values,width=0.4,label='Words')\n",
    "plt.xticks(x_ticks,x_values,rotation=45)\n",
    "plt.xlabel('Words')\n",
    "plt.ylabel('Avg. Number of Guesses Needed')\n",
    "plt.title('How Starting Guesses Affect Number of Guesses Needed to Solve a Wordle Puzzle')\n",
    "plt.legend()\n",
    "\n",
    "plt.show()"
   ]
  },
  {
   "cell_type": "markdown",
   "metadata": {},
   "source": [
    "As we can see from the $20$ words that we chose, `GRADE`,`MODEL`, and `REBUT` were the best starting choices on average. These words all contain no repeated letters as well as $2$ vowels. These words also start with consonants. Because these words all have these attributes, it is easy to see why they would be good candidates for a starting Wordle guess vs words like `SISSY`, which has the letter `S` $3$ times as well as only $1$ vowel. "
   ]
  },
  {
   "cell_type": "markdown",
   "metadata": {},
   "source": [
    "# Conclusion\n",
    "\n",
    "A good strategy for starting a Wordle game is to use a word which will give you the most information about  the puzzle's answer. Words that contain multiple vowels as well as words that don't contain repeated letters are good candidates. Avoiding words that contain multiple occurences of the same letter is a good strategy for your first guess, as you are less likely to extract valuable information about the next guess with these types of words."
   ]
  },
  {
   "cell_type": "markdown",
   "metadata": {},
   "source": [
    "# Faster Wordle Solver \n",
    "\n",
    "Now let's see if we can create an algorithm that can solve a Wordle puzzle more efficiently. To do this, we will start by checking every word in our Wordle wordbank and assign a score for each word based on how well it does as a first guess. Because we are testing each of the $2,315$ possible words $2,315$ times, we are running $5,359,225$ simulations. This will take quite a long time and we will save these results in a file named `word_scores.txt` for quick access in the future.\n",
    "\n",
    "I have already run tests for each word and will include the file `word_scores.txt` with my submission on UBLearns for quick access while reviewing this section of the report. Below I have included commented-out code which generates and saves this data"
   ]
  },
  {
   "cell_type": "code",
   "execution_count": null,
   "metadata": {},
   "outputs": [],
   "source": [
    "#for w in words[]:\n",
    "    #avgNumOfGuessesNeeded[w] = avgGuesses(w,words)"
   ]
  },
  {
   "cell_type": "code",
   "execution_count": null,
   "metadata": {},
   "outputs": [],
   "source": [
    "#with open('word_scores.txt','w') as f:\n",
    "    #for (key,value) in avgNumOfGuessesNeeded.items():\n",
    "        #f.write('{:} - {:}\\n'.format(key,value))"
   ]
  },
  {
   "cell_type": "markdown",
   "metadata": {},
   "source": [
    "We need to retrieve this data in order to build our faster Wordle solving method. It will be stored in a dictionary named `avg_guesses_needed_all`."
   ]
  },
  {
   "cell_type": "code",
   "execution_count": null,
   "metadata": {},
   "outputs": [],
   "source": [
    "avg_guesses_needed_all = {}"
   ]
  },
  {
   "cell_type": "code",
   "execution_count": null,
   "metadata": {},
   "outputs": [],
   "source": [
    "filename = 'word_scores.txt'"
   ]
  },
  {
   "cell_type": "code",
   "execution_count": null,
   "metadata": {},
   "outputs": [],
   "source": [
    "with open(filename,'r') as f:\n",
    "    for line in f:\n",
    "        (key,value) = line.split(' - ')\n",
    "        value = float(value.rstrip('\\n'))\n",
    "        avg_guesses_needed_all[key] = value"
   ]
  },
  {
   "cell_type": "markdown",
   "metadata": {},
   "source": [
    "We now need to sort this information by ascending values, in order to be able to easily access the words that take the fewest amount of guesses."
   ]
  },
  {
   "cell_type": "code",
   "execution_count": null,
   "metadata": {},
   "outputs": [],
   "source": [
    "all_words_list = []\n",
    "\n",
    "for i in sorted(avg_guesses_needed_all, key=avg_guesses_needed_all.get, reverse=False):\n",
    "    all_words_list.append([i,avg_guesses_needed_all[i]])"
   ]
  },
  {
   "cell_type": "markdown",
   "metadata": {},
   "source": [
    "We now have a place for our algorithm to start out at, but these \"scores\" are only meaningful for our first guess. We need ranked data for our algorithm to base its guess off of once it gets past the first guess. To do that we need to look through our Wordle word data and look for tendencies in the words. We will look at the first letter of each word to see what letters are most commonly the first letter of a word in the Wordle wordbank and use that towards our decision making process after the first guess.\n",
    "\n",
    "We will start off by creating a dictionary to keep track of occurences of first letters named `first_letter_frequency`."
   ]
  },
  {
   "cell_type": "code",
   "execution_count": null,
   "metadata": {},
   "outputs": [],
   "source": [
    "first_letter_frequency = {}"
   ]
  },
  {
   "cell_type": "markdown",
   "metadata": {},
   "source": [
    "Now let's look through the word bank and track the occurence of every letter as a first digit. We will first create a method named `first_letter()` that takes in a string as an input and returns a string signifying the first letter of that word. This method assumes that its input is a valid word."
   ]
  },
  {
   "cell_type": "code",
   "execution_count": null,
   "metadata": {},
   "outputs": [],
   "source": [
    "def first_letter(word:str):\n",
    "    return word[0]"
   ]
  },
  {
   "cell_type": "markdown",
   "metadata": {},
   "source": [
    "Now we can iterate through `words` to track each occurence:"
   ]
  },
  {
   "cell_type": "code",
   "execution_count": null,
   "metadata": {},
   "outputs": [],
   "source": [
    "for w in words:\n",
    "    firstL = first_letter(w)\n",
    "    if firstL in first_letter_frequency:\n",
    "        first_letter_frequency[firstL]+=1\n",
    "    else:\n",
    "        first_letter_frequency[firstL]=1"
   ]
  },
  {
   "cell_type": "markdown",
   "metadata": {},
   "source": [
    "The only letter not present as the first letter is `X`. Let's sort this data by its number of occurences in descending order."
   ]
  },
  {
   "cell_type": "code",
   "execution_count": null,
   "metadata": {},
   "outputs": [],
   "source": [
    "first_letter_list = []\n",
    "\n",
    "for i in sorted(first_letter_frequency, key=first_letter_frequency.get, reverse=True):\n",
    "    first_letter_list.append([i,first_letter_frequency[i]])"
   ]
  },
  {
   "cell_type": "code",
   "execution_count": null,
   "metadata": {},
   "outputs": [],
   "source": [
    "first_letter_list.append(['X',])"
   ]
  },
  {
   "cell_type": "code",
   "execution_count": null,
   "metadata": {},
   "outputs": [],
   "source": [
    "first_letter_list"
   ]
  },
  {
   "cell_type": "markdown",
   "metadata": {},
   "source": [
    "We can see that `S`,`C`,`B`, and `T` are the most common first letters in our word bank. Let's now do the same for the last letters."
   ]
  },
  {
   "cell_type": "code",
   "execution_count": null,
   "metadata": {},
   "outputs": [],
   "source": [
    "last_letter_frequency = {}"
   ]
  },
  {
   "cell_type": "code",
   "execution_count": null,
   "metadata": {},
   "outputs": [],
   "source": [
    "def last_letter(word:str):\n",
    "    return word[-1]"
   ]
  },
  {
   "cell_type": "code",
   "execution_count": null,
   "metadata": {},
   "outputs": [],
   "source": [
    "for w in words:\n",
    "    lastL = last_letter(w)\n",
    "    if lastL in last_letter_frequency:\n",
    "        last_letter_frequency[lastL]+=1\n",
    "    else:\n",
    "        last_letter_frequency[lastL]=1"
   ]
  },
  {
   "cell_type": "code",
   "execution_count": null,
   "metadata": {},
   "outputs": [],
   "source": [
    "last_letter_list = []\n",
    "\n",
    "for i in sorted(last_letter_frequency, key=last_letter_frequency.get, reverse=True):\n",
    "    last_letter_list.append([i,last_letter_frequency[i]])"
   ]
  },
  {
   "cell_type": "code",
   "execution_count": null,
   "metadata": {},
   "outputs": [],
   "source": [
    "last_letter_list.append(['J',0])\n",
    "last_letter_list.append(['Q',0])\n",
    "last_letter_list.append(['V',0])"
   ]
  },
  {
   "cell_type": "code",
   "execution_count": null,
   "metadata": {},
   "outputs": [],
   "source": [
    "last_letter_list "
   ]
  },
  {
   "cell_type": "markdown",
   "metadata": {},
   "source": [
    "We can now build our fast wordle solving bot. Our bot will first use one of the top $5$ rated starting guesses as its initial guess. From there it will look at the return from `evaluate_guess` to see what is known about the answer to the Wordle. If the starting letter is still unknown, it will use a word from `modified_get_possible_words` that has highest rated first letter in `first_letter_list`. If the starting letter is known but the last letter is not, it will use a word from `modified_get_possible_words` that has highest rated last letter in `last_letter_list`.\n",
    "\n",
    "We will first need functions that will act as a key to sort our list of possible words by the most likely first/last letters, `sort_FL()` and `sort_LL()`. "
   ]
  },
  {
   "cell_type": "code",
   "execution_count": null,
   "metadata": {},
   "outputs": [],
   "source": [
    "def sort_FL(s:str):\n",
    "    for i in range(len(first_letter_list)-1):\n",
    "        if first_letter(s)==first_letter_list[i][0]:\n",
    "            return i"
   ]
  },
  {
   "cell_type": "code",
   "execution_count": null,
   "metadata": {},
   "outputs": [],
   "source": [
    "def sort_LL(s:str):\n",
    "    for i in range(len(last_letter_list)-1):\n",
    "        if last_letter(s)==last_letter_list[i][0]:\n",
    "            return i"
   ]
  },
  {
   "cell_type": "code",
   "execution_count": null,
   "metadata": {},
   "outputs": [],
   "source": [
    "def fast_wordle_solver_1(correct_word,wordsList,firstLetters,lastLetters):\n",
    "    num_guesses = 0\n",
    "    answer = ''\n",
    "    possible_words = list(wordsList)\n",
    "    guess_word = all_words_list[randrange(5)][0]\n",
    "    num_guesses+=1\n",
    "    evaluation = evaluate_guess(correct_word,guess_word)\n",
    "    possible_words = modified_get_possible_words(guess_word,evaluation,possible_words)\n",
    "    \n",
    "    while(len(possible_words)>1):\n",
    "        num_guesses+=1\n",
    "        if evaluation[0]!=2: # We will now use the word with the highest rated first letter\n",
    "            guess_word = sorted(possible_words, key=sort_FL)[0]\n",
    "            evaluation = evaluate_guess(correct_word,guess_word)\n",
    "            possible_words = modified_get_possible_words(guess_word,evaluation,possible_words)\n",
    "            \n",
    "        elif evaluation[-1]!=2: # We will now use the word with the highest rated last letter\n",
    "            guess_word = sorted(possible_words, key=sort_LL)[0]\n",
    "            evaluation = evaluate_guess(correct_word,guess_word)\n",
    "            possible_words = modified_get_possible_words(guess_word,evaluation,possible_words)\n",
    "            \n",
    "        else:\n",
    "            r = randrange(len(possible_words)-1)\n",
    "            guess_word = possible_words[r]\n",
    "            evaluation = evaluate_guess(correct_word,guess_word)\n",
    "            possible_words = modified_get_possible_words(guess_word,evaluation,possible_words)\n",
    "            \n",
    "    return possible_words[0], num_guesses                    "
   ]
  },
  {
   "cell_type": "markdown",
   "metadata": {},
   "source": [
    "Now with our 'fast' wordle solver created, let's test it vs `solve_wordle()`. The method `solve_wordle()` requires a guess word for its input, so for that we will use a randomly selected word from our word bank. We will test each function for every word, $100$ times, to generate data that isn't as heavily influenced by 'lucky' Wordle games where the answers are found within $2$ guesses or games that take up to $6$ guesses. \n",
    "\n",
    "This will take a long time to run. I have already run these tests using the above two cells of code and will store them in a file named `solve_wordle_vs_fast_wordle_solver.txt` for quick access when reviewing this section of the report. "
   ]
  },
  {
   "cell_type": "code",
   "execution_count": null,
   "metadata": {},
   "outputs": [],
   "source": [
    "#results_standard_fast_dict = {}"
   ]
  },
  {
   "cell_type": "code",
   "execution_count": null,
   "metadata": {},
   "outputs": [],
   "source": [
    "#for correct_word in words:\n",
    "    #numGuesses_standard = 0\n",
    "    #numGuesses_fast = 0\n",
    "    #for i in range(100):\n",
    "        #r = randrange(len(words)-1)\n",
    "        #numGuesses_standard += solve_wordle(correct_word,words[r],words)[1]\n",
    "        #numGuesses_fast += fast_wordle_solver_1(correct_word,words,first_letter_list,last_letter_list)[1]\n",
    "    #results_standard_fast_dict[correct_word] = [numGuesses_standard / 100, numGuesses_fast / 100]"
   ]
  },
  {
   "cell_type": "code",
   "execution_count": null,
   "metadata": {},
   "outputs": [],
   "source": [
    "#with open('solve_wordle_vs_fast_wordle_solver.txt','w') as f:\n",
    "    #for (key,value) in results_standard_fast_dict.items():\n",
    "        #f.write('{:} - {:} | {:}\\n'.format(key,value[0],value[1]))"
   ]
  },
  {
   "cell_type": "markdown",
   "metadata": {},
   "source": [
    "This data can be quickly accessed using the code below:"
   ]
  },
  {
   "cell_type": "code",
   "execution_count": null,
   "metadata": {},
   "outputs": [],
   "source": [
    "standard_vs_fast_list = []\n",
    "filename_s_vs_f = 'solve_wordle_vs_fast_wordle_solver.txt'"
   ]
  },
  {
   "cell_type": "code",
   "execution_count": null,
   "metadata": {},
   "outputs": [],
   "source": [
    "with open(filename_s_vs_f,'r') as f:\n",
    "    for line in f:\n",
    "        (key,value) = line.split(' - ')\n",
    "        value1 = float(value.rstrip('\\n').split(' | ')[0])\n",
    "        value2 = float(value.rstrip('\\n').split(' | ')[1])\n",
    "        standard_vs_fast_list.append([key,value1,value2])"
   ]
  },
  {
   "cell_type": "code",
   "execution_count": null,
   "metadata": {},
   "outputs": [],
   "source": [
    "x_index = [i[0] for i in standard_vs_fast_list[:20]]\n",
    "x_ticks = np.arange(len(x_index))"
   ]
  },
  {
   "cell_type": "code",
   "execution_count": null,
   "metadata": {},
   "outputs": [],
   "source": [
    "y_standard = [i[1] for i in standard_vs_fast_list]\n",
    "y_fast = [i[2] for i in standard_vs_fast_list]"
   ]
  },
  {
   "cell_type": "code",
   "execution_count": null,
   "metadata": {},
   "outputs": [],
   "source": [
    "%matplotlib inline\n",
    "plt.figure(figsize=(10,6),dpi=100)\n",
    "\n",
    "plt.bar(x_ticks-0.2,y_standard[:20],width=0.4,label='solve_wordle()')\n",
    "plt.bar(x_ticks+0.2,y_fast[:20],width=0.4,label='fast_wordle_solver()')\n",
    "\n",
    "plt.xticks(x_ticks,x_index,rotation=45)\n",
    "plt.xlabel('Correct Answer')\n",
    "plt.ylabel('Number Of Guesses')\n",
    "plt.title('solve_wordle() vs fast_wordle_solver_1()')\n",
    "plt.legend()\n",
    "plt.tight_layout\n",
    "plt.show"
   ]
  },
  {
   "cell_type": "code",
   "execution_count": null,
   "metadata": {},
   "outputs": [],
   "source": [
    "standard_avg = 0\n",
    "fast_avg = 0\n",
    "for i in y_standard:\n",
    "    standard_avg+=i\n",
    "for i in y_fast:\n",
    "    fast_avg+=i\n",
    "standard_avg = standard_avg / len(y_standard)\n",
    "fast_avg = fast_avg / len(y_fast)\n",
    "\n",
    "print('Standard: ',standard_avg, ' | ', 'Fast: ',fast_avg)"
   ]
  },
  {
   "cell_type": "markdown",
   "metadata": {},
   "source": [
    "As we can see, our method `fast_wordle_solver_1()` does sucessfully solve a Wordle puzzle in less tries on average than `solve_wordle()`."
   ]
  }
 ],
 "metadata": {
  "kernelspec": {
   "display_name": "Python 3 (ipykernel)",
   "language": "python",
   "name": "python3"
  },
  "language_info": {
   "codemirror_mode": {
    "name": "ipython",
    "version": 3
   },
   "file_extension": ".py",
   "mimetype": "text/x-python",
   "name": "python",
   "nbconvert_exporter": "python",
   "pygments_lexer": "ipython3",
   "version": "3.7.16"
  }
 },
 "nbformat": 4,
 "nbformat_minor": 2
}
