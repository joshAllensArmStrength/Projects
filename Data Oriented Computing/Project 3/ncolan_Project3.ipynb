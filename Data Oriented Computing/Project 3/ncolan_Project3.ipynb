{
 "cells": [
  {
   "cell_type": "markdown",
   "id": "cab477a3",
   "metadata": {},
   "source": [
    "# Project 3 - Text classification with Naive Bayes\n",
    "\n",
    "### Nicholas Colan | UB: 5014 2568\n",
    "### April 13, 2023 | MTH 448"
   ]
  },
  {
   "cell_type": "code",
   "execution_count": 5,
   "id": "0952b7a6",
   "metadata": {},
   "outputs": [],
   "source": [
    "import pandas as pd\n",
    "from collections import Counter\n",
    "import numpy as np\n",
    "import string\n",
    "from sklearn.model_selection import train_test_split\n",
    "import requests\n",
    "from bs4 import BeautifulSoup\n",
    "import matplotlib.pyplot as plt\n",
    "import re"
   ]
  },
  {
   "cell_type": "markdown",
   "id": "e5fc5f91",
   "metadata": {},
   "source": [
    "# Introduction\n",
    "\n",
    "Bayesian inference is a statistical method used to predict outcomes about prior unknown events. This method uses Thomas Bayes' theorem, which uses prior knowledge about related events to make a prediction about the outcome of future events. In this project we will look at Bayes' Theorem, and apply it to different datasets to make predictions about the nature of the data.\n",
    "\n",
    "We will first start by looking at movie reviews with both positive and negative sentiments. There are over `25,000` reviews contained in this dataset, with a wide range of genres and timeframes. We start by using `80%` of this movie reviews dataset in order to build up our data in which to train our model on. We will then use the remaining `20%` of the data for testing, and observe how well our model can predict whether the movie review is of a positive or negative sentiment. Our model will make use of word counts for both the positive and negative reviews, and will base its prediction of a review off of how common those words appear in both the positive and negative reviews.\n",
    "\n",
    "We will also explore how our model's prediction success rate changes based upon varying sizes in our training set, as well as how it performs when we remove 'stop words' from our training data. Stop words are commonly used words such as 'the','and','to',etc., which are frequently used but do not carry much meaning. Removing these stopwords should help to fine tune our model, as it will rely on more unique words found throughout positive and negative reviews to base its prediction. After this, we will explore reviews for different movies found on 'Rotten Tomatoes' website, a popular movie review site. We will use our model to analyze these reviews and see how well it can predict whether the review was positive or negative.\n",
    "\n",
    "We will then analyze a dataset that contains past debates for electoral office positions in the United States, specifically two debates between Donald Trump and Hillary Clinton during the run up to the 2016 United States presidental election. We will analyze what the most commonly spoken words by the two candidates were, and try to predict who the speaker is on future quotes spoken by the two candidates during debates."
   ]
  },
  {
   "cell_type": "markdown",
   "id": "5eb50932",
   "metadata": {},
   "source": [
    "## Movie Reviews\n",
    "\n",
    "We first will need to open our `movie_reviews.zip` file and put all the data into a pandas dataframe so that the data can be easily accessible. We can see that this is a large dataset."
   ]
  },
  {
   "cell_type": "code",
   "execution_count": 6,
   "id": "f2fc91e9",
   "metadata": {},
   "outputs": [
    {
     "data": {
      "text/plain": [
       "25000"
      ]
     },
     "execution_count": 6,
     "metadata": {},
     "output_type": "execute_result"
    }
   ],
   "source": [
    "movies = pd.read_csv('movie_reviews.zip')\n",
    "len(movies)"
   ]
  },
  {
   "cell_type": "markdown",
   "id": "b477773e",
   "metadata": {},
   "source": [
    "Now we want to use 80% of this data in order to form our training set, and the other 20% will be used as a test set. We will split this up using `sklearn's` method `train_test_split()`."
   ]
  },
  {
   "cell_type": "code",
   "execution_count": 7,
   "id": "48a853a3",
   "metadata": {},
   "outputs": [],
   "source": [
    "train_df, test_df = train_test_split(movies, train_size=0.8, random_state=1)"
   ]
  },
  {
   "cell_type": "markdown",
   "id": "67ef90ff",
   "metadata": {},
   "source": [
    "We will use `80%` of this dataset for training `(20,000 reviews)`, and the other `5,000` for testing."
   ]
  },
  {
   "cell_type": "code",
   "execution_count": 8,
   "id": "bf0fbd70",
   "metadata": {},
   "outputs": [
    {
     "data": {
      "text/plain": [
       "20000"
      ]
     },
     "execution_count": 8,
     "metadata": {},
     "output_type": "execute_result"
    }
   ],
   "source": [
    "len(train_df)"
   ]
  },
  {
   "cell_type": "markdown",
   "id": "a0b7a2ea",
   "metadata": {},
   "source": [
    "Now in orer to classify these texts, we need to create a dataframe that will count the ocurence of each word that appears in both the positive and negative reviews. This string is taken from the internet, and therefore is formatted in a way for the browser to correctly parse it. This includes having linebreak characters. We also \n",
    "want to remove any characters that are not words, such as `.`,`?`,`()`, etc. Lastly, we will want to convert all of the letters in the review string to lowercase for consistent analysis.\n",
    "\n",
    "The function `clean_string()` will take in a string as a parameter, and will 'clean' it so that we can properly \n",
    "parse through the data."
   ]
  },
  {
   "cell_type": "code",
   "execution_count": 9,
   "id": "72f847c9",
   "metadata": {},
   "outputs": [],
   "source": [
    "def clean_string(dirty):\n",
    "    replacements = [('<br />',''),('\\\\',''),('.',' '),('!',''),('?',''),('(',''),(')',''),('-',' '),('\"',''),(',','')]\n",
    "    dirty = dirty.lower() # Make all of the words lowercase for consistent results\n",
    "    for char, replace in replacements:\n",
    "        if char in dirty:\n",
    "            dirty = dirty.replace(char, replace) # If any unwanted symbols appear replace them with blank space\n",
    "    return dirty"
   ]
  },
  {
   "cell_type": "markdown",
   "id": "41cb13db",
   "metadata": {},
   "source": [
    "The function `count_word_occurences()` takes a `pandas dataframe` as an input, and counts the word occurences for both the positive and negative move reviews."
   ]
  },
  {
   "cell_type": "code",
   "execution_count": 3,
   "id": "b786e2e6",
   "metadata": {},
   "outputs": [],
   "source": [
    "def count_word_occurences(movie_dataframe):\n",
    "    # Create empty Counters for positive and negative reviews\n",
    "    positive_counter = Counter()\n",
    "    negative_counter = Counter()\n",
    "\n",
    "    # Iterate through each row of the movies dataframe\n",
    "    for index, row in movie_dataframe.iterrows():\n",
    "        # Clean the review string\n",
    "        clean_review = clean_string(row['review'])\n",
    "        words = clean_review.split()\n",
    "        # Add words to the appropriate counter based on the sentiment\n",
    "        if row['sentiment'] == 'positive':\n",
    "            positive_counter.update(words)\n",
    "        elif row['sentiment'] == 'negative':\n",
    "            negative_counter.update(words)\n",
    "            \n",
    "    word_counts = pd.DataFrame(columns=['negative', 'positive'])\n",
    "\n",
    "    # Iterate through each word in the positive and negative counters\n",
    "    for word in set(list(positive_counter.keys()) + list(negative_counter.keys())):\n",
    "        # Add a new row to the dataframe with the count for this word\n",
    "        word_counts.loc[word] = [negative_counter[word], positive_counter[word]]\n",
    "\n",
    "    # Fill any missing values with 0\n",
    "    word_counts = word_counts.fillna(0)\n",
    "    \n",
    "    word_counts_sorted = word_counts.sort_values(by=['positive', 'negative'], ascending=False)\n",
    "    \n",
    "    return word_counts_sorted"
   ]
  },
  {
   "cell_type": "markdown",
   "id": "cbe1f8ba",
   "metadata": {},
   "source": [
    "We are generating word counts for `20,000` reviews, all of which contain many words. This takes a long time to generate, and the results have been pre-run and stored in a file named `movie_review_training_data.csv` for quick access."
   ]
  },
  {
   "cell_type": "code",
   "execution_count": 10,
   "id": "fe7d43d6",
   "metadata": {},
   "outputs": [],
   "source": [
    "#movie_word_occurences = count_word_occurences(train_df)\n",
    "#movie_word_occurences.to_csv('movie_review_training_data.csv')"
   ]
  },
  {
   "cell_type": "code",
   "execution_count": 11,
   "id": "907f0888",
   "metadata": {},
   "outputs": [],
   "source": [
    "training_data_with_stop_words = pd.read_csv('movie_review_training_data.csv')\n",
    "training_data_with_stop_words = training_data_with_stop_words.set_index('Unnamed: 0').rename_axis('', axis='index')"
   ]
  },
  {
   "cell_type": "code",
   "execution_count": 12,
   "id": "001792fc",
   "metadata": {},
   "outputs": [
    {
     "data": {
      "text/html": [
       "<div>\n",
       "<style scoped>\n",
       "    .dataframe tbody tr th:only-of-type {\n",
       "        vertical-align: middle;\n",
       "    }\n",
       "\n",
       "    .dataframe tbody tr th {\n",
       "        vertical-align: top;\n",
       "    }\n",
       "\n",
       "    .dataframe thead th {\n",
       "        text-align: right;\n",
       "    }\n",
       "</style>\n",
       "<table border=\"1\" class=\"dataframe\">\n",
       "  <thead>\n",
       "    <tr style=\"text-align: right;\">\n",
       "      <th></th>\n",
       "      <th>negative</th>\n",
       "      <th>positive</th>\n",
       "    </tr>\n",
       "    <tr>\n",
       "      <th></th>\n",
       "      <th></th>\n",
       "      <th></th>\n",
       "    </tr>\n",
       "  </thead>\n",
       "  <tbody>\n",
       "    <tr>\n",
       "      <th>the</th>\n",
       "      <td>130527</td>\n",
       "      <td>139254</td>\n",
       "    </tr>\n",
       "    <tr>\n",
       "      <th>and</th>\n",
       "      <td>59439</td>\n",
       "      <td>72050</td>\n",
       "    </tr>\n",
       "    <tr>\n",
       "      <th>a</th>\n",
       "      <td>63043</td>\n",
       "      <td>67277</td>\n",
       "    </tr>\n",
       "    <tr>\n",
       "      <th>of</th>\n",
       "      <td>55294</td>\n",
       "      <td>62110</td>\n",
       "    </tr>\n",
       "    <tr>\n",
       "      <th>to</th>\n",
       "      <td>55226</td>\n",
       "      <td>53663</td>\n",
       "    </tr>\n",
       "    <tr>\n",
       "      <th>...</th>\n",
       "      <td>...</td>\n",
       "      <td>...</td>\n",
       "    </tr>\n",
       "    <tr>\n",
       "      <th>'fatal</th>\n",
       "      <td>1</td>\n",
       "      <td>0</td>\n",
       "    </tr>\n",
       "    <tr>\n",
       "      <th>hussars</th>\n",
       "      <td>1</td>\n",
       "      <td>0</td>\n",
       "    </tr>\n",
       "    <tr>\n",
       "      <th>misrepresentative</th>\n",
       "      <td>1</td>\n",
       "      <td>0</td>\n",
       "    </tr>\n",
       "    <tr>\n",
       "      <th>muto</th>\n",
       "      <td>1</td>\n",
       "      <td>0</td>\n",
       "    </tr>\n",
       "    <tr>\n",
       "      <th>lighti</th>\n",
       "      <td>1</td>\n",
       "      <td>0</td>\n",
       "    </tr>\n",
       "  </tbody>\n",
       "</table>\n",
       "<p>96963 rows × 2 columns</p>\n",
       "</div>"
      ],
      "text/plain": [
       "                   negative  positive\n",
       "                                     \n",
       "the                  130527    139254\n",
       "and                   59439     72050\n",
       "a                     63043     67277\n",
       "of                    55294     62110\n",
       "to                    55226     53663\n",
       "...                     ...       ...\n",
       "'fatal                    1         0\n",
       "hussars                   1         0\n",
       "misrepresentative         1         0\n",
       "muto                      1         0\n",
       "lighti                    1         0\n",
       "\n",
       "[96963 rows x 2 columns]"
      ]
     },
     "execution_count": 12,
     "metadata": {},
     "output_type": "execute_result"
    }
   ],
   "source": [
    "training_data_with_stop_words"
   ]
  },
  {
   "cell_type": "markdown",
   "id": "c8a60677",
   "metadata": {},
   "source": [
    "## Testing With Stop Words\n",
    "\n",
    "The function `rev_probs()` takes a string (the movie review), and the training data as a parameter and will return the logarithm of probabilities that will help to determine wether or not the review is positive or negative. This function uses `Laplacian Smoothing` to prevent any words with a count of `zero` from causing a zero probability being computed. We are adding `1` to every word count to achieve this."
   ]
  },
  {
   "cell_type": "code",
   "execution_count": 13,
   "id": "66b40dcc",
   "metadata": {},
   "outputs": [],
   "source": [
    "def rev_probs(review,training_data):\n",
    "    \n",
    "    words = review.split()\n",
    "\n",
    "    # Laplacian Smoothing \n",
    "    laplace_training_data = training_data[['positive','negative']].add(1)\n",
    "    \n",
    "    # Compute the prior probabilities of the positive and negative classes using the training data\n",
    "    tot = np.array(laplace_training_data.sum()).sum()\n",
    "    prod = np.ones(2)\n",
    "    prod[0] = laplace_training_data['negative'].sum()/(tot)\n",
    "    prod[0] = laplace_training_data['positive'].sum()/(tot)\n",
    "    \n",
    "    # Compute 'log' probabilites, add them to prod array:\n",
    "    for word in words:\n",
    "        w = laplace_training_data.loc[word]\n",
    "        p = w/np.array(laplace_training_data.sum())\n",
    "        prod += np.log(np.array(p))\n",
    "        \n",
    "    return (prod,['positive','negative'][np.argmax(prod)]) "
   ]
  },
  {
   "cell_type": "markdown",
   "id": "5d543083",
   "metadata": {},
   "source": [
    " Many of these test reviews are full of spelling errors and therefore will not appear in our training set, creating errors when we try to analyze them. To fix that we will remove any word from the string that does not appear in our training data."
   ]
  },
  {
   "cell_type": "code",
   "execution_count": 14,
   "id": "8c26a72a",
   "metadata": {},
   "outputs": [],
   "source": [
    "valid_words_with_stop_words = list(training_data_with_stop_words.index)"
   ]
  },
  {
   "cell_type": "markdown",
   "id": "96a8d8b2",
   "metadata": {},
   "source": [
    "The function `remove_non_valid_words()` takes a string as its input, cleans the string of any unwanted symbols, and then removes all words that dont appear in the training dataset. "
   ]
  },
  {
   "cell_type": "code",
   "execution_count": 15,
   "id": "e8bfeab8",
   "metadata": {},
   "outputs": [],
   "source": [
    "def remove_non_valid_words(review_string,valid_words):\n",
    "    review = clean_string(review_string).split()\n",
    "    for word in review:\n",
    "        if word not in valid_words:\n",
    "            review = [x for x in review if x != word]\n",
    "    review1 = ' '.join(review)\n",
    "    return review1"
   ]
  },
  {
   "cell_type": "markdown",
   "id": "83430939",
   "metadata": {},
   "source": [
    "The function `test_classifier()` takes 2 inputs:\n",
    "* The testing data \n",
    "* The training data\n",
    "\n",
    "and outputs the results of the classification of the movie review data."
   ]
  },
  {
   "cell_type": "code",
   "execution_count": 16,
   "id": "f94f2455",
   "metadata": {},
   "outputs": [],
   "source": [
    "def test_classifier(test_set,training_data,valid_words):\n",
    "    results_list = []\n",
    "    correct = 0\n",
    "    testSize = len(test_df)\n",
    "    \n",
    "    for i in range(len(test_df)):\n",
    "        # Retrive actual sentiment\n",
    "        actual = test_df.iloc[i]['sentiment']\n",
    "        # Remove non-valid words, then usse cleaned string and training data to make prediction\n",
    "        prediction = rev_probs(remove_non_valid_words(test_df.iloc[i]['review'],valid_words),training_data)\n",
    "        if actual == prediction[1]:\n",
    "            correct += 1\n",
    "        results_list.append((actual,prediction))\n",
    "    # Add percentage correct to results\n",
    "    results_list.append('{:} / {:} = {:}%'.format(correct,testSize,(correct/testSize)*100))\n",
    "    \n",
    "    return results_list"
   ]
  },
  {
   "cell_type": "markdown",
   "id": "cbd2dbd9",
   "metadata": {},
   "source": [
    "These results took a long time to generate. For quick access I have stored the result of `test_classifier()` in a file named `movie_review_testing_results_with_stop_words.txt`."
   ]
  },
  {
   "cell_type": "code",
   "execution_count": 17,
   "id": "ce03f553",
   "metadata": {},
   "outputs": [],
   "source": [
    "#results_list_with_stop_words = test_classifier(test_df,training_data_with_stop_words,valid_words_with_stop_words)"
   ]
  },
  {
   "cell_type": "code",
   "execution_count": 18,
   "id": "75cc34c4",
   "metadata": {},
   "outputs": [],
   "source": [
    "#with open('movie_review_testing_results_with_stop_words.txt','w') as f:\n",
    "#    for item in results_list_with_stop_words:\n",
    "#        f.write(str(item))\n",
    "#        f.write('\\n')"
   ]
  },
  {
   "cell_type": "code",
   "execution_count": 19,
   "id": "9b7940cb",
   "metadata": {},
   "outputs": [
    {
     "data": {
      "text/plain": [
       "'4232 / 5000 = 84.64%'"
      ]
     },
     "execution_count": 19,
     "metadata": {},
     "output_type": "execute_result"
    }
   ],
   "source": [
    "with open('movie_review_testing_results_with_stop_words.txt','r') as f:\n",
    "    results_with_stop_words = f.read().splitlines()\n",
    "    \n",
    "results_with_stop_words[-1]"
   ]
  },
  {
   "cell_type": "markdown",
   "id": "39e2a427",
   "metadata": {},
   "source": [
    "We can see that our model can correctly predict the sentiment of a movie review in the `movie_reviews` data `84.6%` of the time. This is an accurate predictor, however let's see what happens when we remove stop words from our training data. This should increase the success rate of our predictor."
   ]
  },
  {
   "cell_type": "markdown",
   "id": "1d68d6a8",
   "metadata": {},
   "source": [
    "## How Does the Classification Accuracy Change When We Remove Stop Words?"
   ]
  },
  {
   "cell_type": "code",
   "execution_count": 20,
   "id": "79d91188",
   "metadata": {},
   "outputs": [],
   "source": [
    "with open ('stopwords.txt') as f:\n",
    "    stops = f.read()\n",
    "\n",
    "stop_words = stops.split(',')"
   ]
  },
  {
   "cell_type": "code",
   "execution_count": 21,
   "id": "5b5fb672",
   "metadata": {},
   "outputs": [],
   "source": [
    "training_data_no_stop_words = pd.read_csv('movie_review_training_data.csv')\n",
    "training_data_no_stop_words = training_data_no_stop_words.set_index('Unnamed: 0').rename_axis('', axis='index')\n",
    "training_data_no_stop_words = training_data_no_stop_words.drop(stop_words,errors='ignore')"
   ]
  },
  {
   "cell_type": "code",
   "execution_count": 22,
   "id": "029f70db",
   "metadata": {},
   "outputs": [],
   "source": [
    "valid_words_no_stop_words = list(training_data_no_stop_words.index)"
   ]
  },
  {
   "cell_type": "markdown",
   "id": "9c1316a8",
   "metadata": {},
   "source": [
    "## Testing Without Stop Words"
   ]
  },
  {
   "cell_type": "markdown",
   "id": "0d616a9a",
   "metadata": {},
   "source": [
    "Again, these results took a long time to generate. For quick access I have stored the result of `test_classifier()` without stop words in a file named `movie_review_testing_results_no_stop_words.txt`."
   ]
  },
  {
   "cell_type": "code",
   "execution_count": 23,
   "id": "0b242c23",
   "metadata": {},
   "outputs": [],
   "source": [
    "#results_list_no_stop_words = test_classifier(test_df,training_data_no_stop_words,valid_words_no_stop_words)"
   ]
  },
  {
   "cell_type": "code",
   "execution_count": 24,
   "id": "88a5f280",
   "metadata": {},
   "outputs": [],
   "source": [
    "#with open('movie_review_testing_results_no_stop_words.txt','w') as f:\n",
    "#    for item in results_list_no_stop_words:\n",
    "#        f.write(str(item))\n",
    "#        f.write('\\n')"
   ]
  },
  {
   "cell_type": "code",
   "execution_count": 25,
   "id": "2b323730",
   "metadata": {},
   "outputs": [
    {
     "data": {
      "text/plain": [
       "'4306 / 5000 = 86.11999999999999%'"
      ]
     },
     "execution_count": 25,
     "metadata": {},
     "output_type": "execute_result"
    }
   ],
   "source": [
    "with open('movie_review_testing_results_no_stop_words.txt','r') as f:\n",
    "    results_no_stop_words = f.read().splitlines()\n",
    "    \n",
    "results_no_stop_words[-1]"
   ]
  },
  {
   "cell_type": "markdown",
   "id": "31ef0eab",
   "metadata": {},
   "source": [
    "We can see that removing the stop words increased the success rate of our predictor, going from `84.64%` to `86.2%`. Our model was able to correctly classify an additional `74` movie reviews when we removed the stop words from our training data."
   ]
  },
  {
   "cell_type": "markdown",
   "id": "ac690bda",
   "metadata": {},
   "source": [
    "## How Does Classification Accuracy Change With A Differing Training Set Size?\n",
    "\n",
    "We will now explore how much classification accuracy of movie sentiments will be affected when we vary the size of the training set. We will remove stop words when analyzing this. The function below, `generate_classification_accuracy()`, will iteratively change the size of the training set to be used by `sklearn's` method `train_test_split()` in order to generate classification results. We will look at the classification results of the same amount of reviews for each different training set size of the movie reviews in the file `movie_reviews.zip`. And we will use increments of `10%`, from `10%` to `90%`, for our training set size. Our function will test the classification accuracy on `10%` of the total data."
   ]
  },
  {
   "cell_type": "code",
   "execution_count": 38,
   "id": "2ba311f0",
   "metadata": {},
   "outputs": [],
   "source": [
    "def generate_classification_accuracy():\n",
    "    classification_results = []\n",
    "    \n",
    "    for i in range (1,10):\n",
    "        # Start at 10%, then go up to 90%\n",
    "        training_size = (i / 10.0)\n",
    "        movies = pd.read_csv('movie_reviews.zip')\n",
    "        # Split into testing and training datasets\n",
    "        train_df, test_df = train_test_split(movies, train_size=training_size,test_size=0.1, random_state=1)\n",
    "        # Get word counts\n",
    "        movie_word_occurences = count_word_occurences(train_df)\n",
    "        valid_words = list(movie_word_occurences.index)\n",
    "        # Classify the reviews in testing dataset\n",
    "        results = test_classifier(test_df,movie_word_occurences,valid_words)\n",
    "        classification_results.append((i*10,results[-1]))\n",
    "    return classification_results"
   ]
  },
  {
   "cell_type": "markdown",
   "id": "9ad12f9c",
   "metadata": {},
   "source": [
    "We are counting word counts for each % of the data, and then classifying the testing data for each iteration of this loop. Because of that this data will take a very long time to generate. The commented out code below will compute this data and then store it in a file named `classification_acc_diff_training_set_size.txt`, which will be included in this project for fast access."
   ]
  },
  {
   "cell_type": "code",
   "execution_count": 39,
   "id": "a7d89e0c",
   "metadata": {},
   "outputs": [],
   "source": [
    "#results = generate_classification_accuracy()"
   ]
  },
  {
   "cell_type": "code",
   "execution_count": 40,
   "id": "bb2f5a72",
   "metadata": {},
   "outputs": [],
   "source": [
    "#with open('classification_acc_diff_training_set_size.txt','w') as f:\n",
    "#    for item in results:\n",
    "#        f.write(str(item))\n",
    "#        f.write('\\n')"
   ]
  },
  {
   "cell_type": "code",
   "execution_count": 26,
   "id": "3d37d75d",
   "metadata": {},
   "outputs": [],
   "source": [
    "# Retrieve the data for visualization\n",
    "with open('classification_acc_diff_training_set_size.txt','r') as f:\n",
    "    class_acc_diff_training_sizes = f.read().splitlines()"
   ]
  },
  {
   "cell_type": "markdown",
   "id": "a764dbcd",
   "metadata": {},
   "source": [
    "This data is stored in the text file as a complex string, we will have to do a little data parsing to get the values that we want, which are `(percentage of data, number of correct classifications)`:"
   ]
  },
  {
   "cell_type": "code",
   "execution_count": 27,
   "id": "955288da",
   "metadata": {
    "scrolled": true
   },
   "outputs": [],
   "source": [
    "int_class_acc_diff_training_sizes = []\n",
    "for item in class_acc_diff_training_sizes:\n",
    "    # Extract the integer values from the string\n",
    "    int1 = int(item.split(',')[0].strip('('))\n",
    "    int2 = int(item.split('/')[0].split()[-1].replace(\"'\", \"\").strip())\n",
    "    int_class_acc_diff_training_sizes.append((int1, int2))"
   ]
  },
  {
   "cell_type": "markdown",
   "id": "4e91e49a",
   "metadata": {},
   "source": [
    "Now with our data set, we can visualize it using `matplotlib` below:"
   ]
  },
  {
   "cell_type": "code",
   "execution_count": 195,
   "id": "7493da59",
   "metadata": {},
   "outputs": [
    {
     "data": {
      "image/png": "[encoded data removed]",
      "text/plain": [
       "<Figure size 800x600 with 1 Axes>"
      ]
     },
     "metadata": {},
     "output_type": "display_data"
    }
   ],
   "source": [
    "plt.figure(figsize=(8,6),dpi=100)\n",
    "x_vals = [data[0] for data in int_class_acc_diff_training_sizes]\n",
    "y_vals = [(data[1]/5000)*100 for data in int_class_acc_diff_training_sizes]\n",
    "# Total correct is out of 5,000 values\n",
    "\n",
    "plt.bar(x_vals,y_vals,width=8,label='Classification Accuracy')\n",
    "plt.xticks(x_vals)\n",
    "plt.xlabel('Size of Training Data Set(%)')\n",
    "plt.ylabel('Classification Accuracy(%)')\n",
    "plt.title('Classification Accuracy With Different Training Set Sizes')\n",
    "plt.legend()\n",
    "\n",
    "# Set the y-axis range\n",
    "plt.ylim(85, 89)\n",
    "\n",
    "plt.show()"
   ]
  },
  {
   "cell_type": "markdown",
   "id": "ab6c4ab1",
   "metadata": {},
   "source": [
    "As we can see, the classifier accuracy did not change that much when using from `10%` to `90%` of the total data as training data, staying in between `87-88%`. This is likely due to the fact that even just `10%` of the `movie_review` data contains `2,500` movie reviews, which is a lot of data and allows our classifier to perform well. Let's look at how our classifier performs when only given a really small percentage of the total data for training. We will look at `0.5%` and `1.0%` to see if the classifier struggles with such a low amount of training data."
   ]
  },
  {
   "cell_type": "code",
   "execution_count": 62,
   "id": "5401fcd9",
   "metadata": {},
   "outputs": [],
   "source": [
    "def generate_class_acc(training_size):\n",
    "    train_df, test_df = train_test_split(movies, train_size=training_size,test_size=0.1, random_state=1)\n",
    "    movie_word_occurences = count_word_occurences(train_df)\n",
    "    valid_words = list(movie_word_occurences.index)\n",
    "    results = test_classifier(test_df,movie_word_occurences,valid_words)\n",
    "    \n",
    "    return results"
   ]
  },
  {
   "cell_type": "code",
   "execution_count": 63,
   "id": "80aed7ca",
   "metadata": {},
   "outputs": [],
   "source": [
    "results_005 = generate_class_acc(0.005)\n",
    "results_01 = generate_class_acc(0.01)"
   ]
  },
  {
   "cell_type": "code",
   "execution_count": 68,
   "id": "74027156",
   "metadata": {},
   "outputs": [
    {
     "name": "stdout",
     "output_type": "stream",
     "text": [
      "1749 / 2500 = 69.96%\n",
      "1745 / 2500 = 69.8%\n"
     ]
    }
   ],
   "source": [
    "print(results_005[-1])\n",
    "print(results_01[-1])"
   ]
  },
  {
   "cell_type": "markdown",
   "id": "08e15cdf",
   "metadata": {},
   "source": [
    "We can see that with a much smaller training set, our classifier performs at a reduced success rate, at just under `70%`."
   ]
  },
  {
   "cell_type": "markdown",
   "id": "595ff9a2",
   "metadata": {},
   "source": [
    "## Analyzing Rotten Tomatoes Audience Reviews for Star Wars: The Force Awakens With Our Training Data\n",
    "\n",
    "The new Star Wars sequels are contorversial so the audience reviews should provide good data to analyze both positive and negative reviews...let's see how well our classifier can predict whether or not the review is a positive or negative review.\n",
    "\n",
    "There are many reviews, to make this task faster we will have to use `requests` library to scrape all of our data before we can process it.\n",
    "\n",
    "We will start by looking at how the webpage for the audience is constructed. We can see that the page has a pretty straighforward layout -- in a list/forum layout with a review out of 5 stars, followed by the text review underneath it. All of the audience reviews on Rotten Tomatoes' website give a movie review out of 5 stars, let's assume that anything `under 3 stars is negative`, and anything `3 stars and over is positive`. "
   ]
  },
  {
   "cell_type": "code",
   "execution_count": 22,
   "id": "55ac3c81",
   "metadata": {},
   "outputs": [],
   "source": [
    "from IPython.display import Image"
   ]
  },
  {
   "cell_type": "code",
   "execution_count": 23,
   "id": "55123d55",
   "metadata": {},
   "outputs": [
    {
     "data": {
      "image/png": "[encoded data removed]",
      "text/plain": [
       "<IPython.core.display.Image object>"
      ]
     },
     "execution_count": 23,
     "metadata": {},
     "output_type": "execute_result"
    }
   ],
   "source": [
    "Image(filename='audience_review_display.png')"
   ]
  },
  {
   "cell_type": "code",
   "execution_count": 24,
   "id": "05a2cd82",
   "metadata": {},
   "outputs": [
    {
     "data": {
      "image/png": "[encoded data removed]",
      "text/plain": [
       "<IPython.core.display.Image object>"
      ]
     },
     "execution_count": 24,
     "metadata": {},
     "output_type": "execute_result"
    }
   ],
   "source": [
    "Image(filename='audience_review_html.png')"
   ]
  },
  {
   "cell_type": "markdown",
   "id": "77dd9f57",
   "metadata": {},
   "source": [
    "We can see that the stars are displayed underneath the `span` class `star-display`, with each of the 5 stars given a value of `star-display__filled`, `star-display__half` or `star-display__empty`.\n",
    "\n",
    "The function `calculate_review_score()` will take in an array of strings that will represent these star ratings, and will calculate the `float score out of 5` to help determine the sentiment of the review, as well as whether or not the review is positive, negative, or neutral."
   ]
  },
  {
   "cell_type": "code",
   "execution_count": 25,
   "id": "dceb86ad",
   "metadata": {},
   "outputs": [],
   "source": [
    "def calculate_review_score(star_rating):\n",
    "    rating = 0.0\n",
    "    for star in star_rating:\n",
    "        if star == 'star-display__filled': # Filled stars count as 1.0/5.0\n",
    "            rating += 1.0\n",
    "        elif star == 'star-display__half': # Half stars count as 0.5/5.0\n",
    "            rating += 0.5\n",
    "        # And Empty stars do not add onto the rating score, so do not consider\n",
    "        \n",
    "    if rating < 3.0: return (rating,'negative')\n",
    "    else: return (rating,'positive')"
   ]
  },
  {
   "cell_type": "code",
   "execution_count": 28,
   "id": "ed2f86ff",
   "metadata": {},
   "outputs": [],
   "source": [
    "def predict_movie_review_sentiments(reviews_link):\n",
    "    # Grab data, convert to BeautifulSoup\n",
    "    audience_reviews_html = requests.get(reviews_link).text\n",
    "    soup = BeautifulSoup(audience_reviews_html)\n",
    "\n",
    "    # Reviews have the id audience-review-row', under the div class 'review_table'\n",
    "    # Grab every div with that class name\n",
    "    review_table = soup.find('div',class_='review_table')\n",
    "    audience_review_row = review_table.find_all(class_='audience-review-row')\n",
    "    \n",
    "    # We now have the html in which each review and its star rating is contained\n",
    "    # The star ratings are under the span class 'star-display' and the text for each review is under\n",
    "    # the 'p' tag class of 'audience-reviews__review js-review-text'. We want to grab the class of\n",
    "    # 'star-display', which will be 'star-display__filled','star-display__half', or 'star-display__empty.\n",
    "    # Lastly, we can then grab the actual text of the review by using the '.text' function to get the text \n",
    "    # of 'audience-reviews__review js-review-text'.\n",
    "    audience_reviews = []\n",
    "    for row in audience_review_row:\n",
    "        star_displays = (row.find(class_='star-display').find_all('span'))\n",
    "        stars = [star.get('class')[0] for star in star_displays] \n",
    "        review_text = row.find(class_='audience-reviews__review js-review-text').text\n",
    "        audience_reviews.append((stars,review_text))\n",
    "        \n",
    "    # Now with our raw data collected, we can use the function 'calculate_review_score()' to convert the \n",
    "    # star rating into a sentiment, and then use our 'rev_probs()' function to predict the sentiment\n",
    "    # of the review. Again these reviews will contain words that do not appear in our original training\n",
    "    # dataset, so we will have to drop all non-valid words again.\n",
    "    correct = 0\n",
    "    results =[]\n",
    "    for review in audience_reviews:\n",
    "        actual = calculate_review_score(review[0])\n",
    "        predicted = rev_probs(remove_non_valid_words(review[1],valid_words_no_stop_words),training_data_no_stop_words)\n",
    "        results.append((actual,predicted))\n",
    "        if actual[1]==predicted[1]:\n",
    "            correct+=1\n",
    "    results.append(('{:} / {:} = {:%}'.format(correct,len(audience_reviews),(correct/len(audience_reviews)))))\n",
    "    \n",
    "    return results"
   ]
  },
  {
   "cell_type": "code",
   "execution_count": 29,
   "id": "9588754b",
   "metadata": {},
   "outputs": [
    {
     "data": {
      "text/plain": [
       "[((3.5, 'positive'), (array([-403.13342214, -401.4830315 ]), 'negative')),\n",
       " ((1.0, 'negative'), (array([-39.42856305, -37.49206231]), 'negative')),\n",
       " ((4.0, 'positive'), (array([-194.89231265, -203.44207067]), 'positive')),\n",
       " ((0.5, 'negative'), (array([-62.07234535, -58.02982335]), 'negative')),\n",
       " ((0.5, 'negative'), (array([-91.68532498, -90.16399463]), 'negative')),\n",
       " ((3.0, 'positive'), (array([-546.12068737, -544.72976662]), 'negative')),\n",
       " ((4.0, 'positive'), (array([-58.18345325, -55.60121717]), 'negative')),\n",
       " ((1.5, 'negative'), (array([-222.28448005, -215.79313008]), 'negative')),\n",
       " ((0.5, 'negative'), (array([-45.48987657, -42.78913467]), 'negative')),\n",
       " ((1.0, 'negative'), (array([-602.89627412, -592.33453963]), 'negative')),\n",
       " ((0.5, 'negative'), (array([-29.71791771, -27.23579679]), 'negative')),\n",
       " ((1.0, 'negative'), (array([-80.61679937, -78.98759446]), 'negative')),\n",
       " ((3.5, 'positive'), (array([-122.71693466, -120.76040719]), 'negative')),\n",
       " ((1.0, 'negative'), (array([-103.52107967, -101.5701637 ]), 'negative')),\n",
       " ((4.0, 'positive'), (array([-258.62927745, -261.46417976]), 'positive')),\n",
       " ((2.0, 'negative'), (array([-41.1201992 , -38.89469378]), 'negative')),\n",
       " ((2.0, 'negative'), (array([-87.79153115, -88.5492128 ]), 'positive')),\n",
       " ((1.0, 'negative'), (array([-15.11925923, -13.14110827]), 'negative')),\n",
       " ((0.5, 'negative'), (array([-154.36023435, -151.18056529]), 'negative')),\n",
       " ((1.5, 'negative'), (array([-111.16566337, -111.52512151]), 'positive')),\n",
       " '14 / 20 = 70.000000%']"
      ]
     },
     "execution_count": 29,
     "metadata": {},
     "output_type": "execute_result"
    }
   ],
   "source": [
    "the_force_awakens_reviews_link = 'https://www.rottentomatoes.com/m/star_wars_episode_vii_the_force_awakens/reviews?type=user'\n",
    "predict_movie_review_sentiments(the_force_awakens_reviews_link)"
   ]
  },
  {
   "cell_type": "markdown",
   "id": "75d679cb",
   "metadata": {},
   "source": [
    "## Goodfellas"
   ]
  },
  {
   "cell_type": "code",
   "execution_count": 30,
   "id": "4e373aac",
   "metadata": {},
   "outputs": [
    {
     "data": {
      "text/plain": [
       "[((4.5, 'positive'), (array([-30.88429016, -32.01235456]), 'positive')),\n",
       " ((5.0, 'positive'), (array([-35.51472263, -35.90377978]), 'positive')),\n",
       " ((4.0, 'positive'), (array([-220.62909628, -227.23487152]), 'positive')),\n",
       " ((4.0, 'positive'), (array([-84.30009488, -83.73983447]), 'negative')),\n",
       " ((1.5, 'negative'), (array([-180.11245107, -170.56200335]), 'negative')),\n",
       " ((4.5, 'positive'), (array([-468.79085797, -474.02508744]), 'positive')),\n",
       " ((5.0, 'positive'), (array([-48.43015334, -52.25694471]), 'positive')),\n",
       " ((5.0, 'positive'), (array([-291.70031525, -295.27890865]), 'positive')),\n",
       " ((5.0, 'positive'), (array([-51.71196113, -52.82125074]), 'positive')),\n",
       " ((4.5, 'positive'), (array([-307.14617889, -308.67342814]), 'positive')),\n",
       " ((5.0, 'positive'), (array([-32.96274054, -34.72687366]), 'positive')),\n",
       " ((5.0, 'positive'), (array([-39.58612989, -42.37995287]), 'positive')),\n",
       " ((5.0, 'positive'), (array([-68.83743258, -67.7003618 ]), 'negative')),\n",
       " ((5.0, 'positive'), (array([-155.92108245, -162.27279553]), 'positive')),\n",
       " ((5.0, 'positive'), (array([-9.69797577, -8.60948141]), 'negative')),\n",
       " ((5.0, 'positive'), (array([-1744.79271814, -1820.61049106]), 'positive')),\n",
       " ((4.5, 'positive'), (array([-34.68795353, -35.39522212]), 'positive')),\n",
       " ((5.0, 'positive'), (array([-28.31916604, -28.26046652]), 'negative')),\n",
       " ((4.5, 'positive'), (array([-1137.6317153 , -1176.67097447]), 'positive')),\n",
       " ((5.0, 'positive'), (array([-492.30289848, -513.77798933]), 'positive')),\n",
       " '16 / 20 = 80.000000%']"
      ]
     },
     "execution_count": 30,
     "metadata": {},
     "output_type": "execute_result"
    }
   ],
   "source": [
    "goodfellas_reviews_link = 'https://www.rottentomatoes.com/m/1032176-goodfellas/reviews?type=user'\n",
    "predict_movie_review_sentiments(goodfellas_reviews_link)"
   ]
  },
  {
   "cell_type": "markdown",
   "id": "24bd5a30",
   "metadata": {},
   "source": [
    "## Heat"
   ]
  },
  {
   "cell_type": "code",
   "execution_count": 31,
   "id": "2946f39b",
   "metadata": {},
   "outputs": [
    {
     "data": {
      "text/plain": [
       "[((1.5, 'negative'), (array([-288.16739339, -278.86271068]), 'negative')),\n",
       " ((0.5, 'negative'), (array([-341.04460265, -331.71664366]), 'negative')),\n",
       " ((5.0, 'positive'), (array([-279.66232191, -279.39990126]), 'negative')),\n",
       " ((4.0, 'positive'), (array([-97.05304407, -97.32962229]), 'positive')),\n",
       " ((5.0, 'positive'), (array([-141.20091102, -145.03434514]), 'positive')),\n",
       " ((5.0, 'positive'), (array([-9.42237676, -8.65690878]), 'negative')),\n",
       " ((5.0, 'positive'), (array([-40.04435724, -38.406906  ]), 'negative')),\n",
       " ((3.5, 'positive'), (array([-177.18945586, -172.45160376]), 'negative')),\n",
       " ((2.0, 'negative'), (array([-166.82954083, -163.5397588 ]), 'negative')),\n",
       " ((5.0, 'positive'), (array([-201.48944069, -198.48605414]), 'negative')),\n",
       " ((3.0, 'positive'), (array([-33.53064361, -33.97119172]), 'positive')),\n",
       " ((5.0, 'positive'), (array([-53.0394637 , -54.37510344]), 'positive')),\n",
       " ((4.5, 'positive'), (array([-211.58849743, -217.99758491]), 'positive')),\n",
       " ((5.0, 'positive'), (array([-262.16230653, -262.31373435]), 'positive')),\n",
       " ((5.0, 'positive'), (array([-64.91182328, -69.14692106]), 'positive')),\n",
       " ((5.0, 'positive'), (array([-57.396516  , -58.31409717]), 'positive')),\n",
       " ((3.5, 'positive'), (array([-88.66229192, -87.28079981]), 'negative')),\n",
       " ((4.5, 'positive'), (array([-183.04532358, -189.34859368]), 'positive')),\n",
       " ((3.5, 'positive'), (array([-115.17899307, -113.88294819]), 'negative')),\n",
       " ((4.0, 'positive'), (array([-230.12252408, -234.3934812 ]), 'positive')),\n",
       " '13 / 20 = 65.000000%']"
      ]
     },
     "execution_count": 31,
     "metadata": {},
     "output_type": "execute_result"
    }
   ],
   "source": [
    "heat_reviews_link = 'https://www.rottentomatoes.com/m/heat_1995/reviews?type=user'\n",
    "predict_movie_review_sentiments(heat_reviews_link)"
   ]
  },
  {
   "cell_type": "markdown",
   "id": "572e716e",
   "metadata": {},
   "source": [
    "## Pulp Fiction"
   ]
  },
  {
   "cell_type": "code",
   "execution_count": 32,
   "id": "8d9624d7",
   "metadata": {},
   "outputs": [
    {
     "data": {
      "text/plain": [
       "[((5.0, 'positive'), (array([-11.96954536, -12.54712263]), 'positive')),\n",
       " ((4.0, 'positive'), (array([-400.87740577, -405.08173106]), 'positive')),\n",
       " ((5.0, 'positive'), (array([0.51055912, 1.        ]), 'negative')),\n",
       " ((4.5, 'positive'), (array([-165.62645228, -170.83974933]), 'positive')),\n",
       " ((5.0, 'positive'), (array([-40.21425101, -40.13213004]), 'negative')),\n",
       " ((2.0, 'negative'), (array([-108.72342406, -106.41832954]), 'negative')),\n",
       " ((3.5, 'positive'), (array([-1631.46698725, -1627.1304492 ]), 'negative')),\n",
       " ((3.5, 'positive'), (array([-1478.81167865, -1476.65561515]), 'negative')),\n",
       " ((5.0, 'positive'), (array([-1648.11075496, -1700.36188345]), 'positive')),\n",
       " ((5.0, 'positive'), (array([-83.4994519 , -86.79873215]), 'positive')),\n",
       " ((5.0, 'positive'), (array([-62.95705585, -63.34106597]), 'positive')),\n",
       " ((5.0, 'positive'), (array([-446.93550435, -453.82327734]), 'positive')),\n",
       " ((4.5, 'positive'), (array([-290.50334341, -286.29708009]), 'negative')),\n",
       " ((5.0, 'positive'), (array([-1084.15211545, -1120.60817048]), 'positive')),\n",
       " ((5.0, 'positive'), (array([-26.8736716 , -26.18376625]), 'negative')),\n",
       " ((5.0, 'positive'), (array([-26.43288625, -24.72969437]), 'negative')),\n",
       " ((5.0, 'positive'), (array([-23.59933844, -24.16806559]), 'positive')),\n",
       " ((5.0, 'positive'), (array([-164.77614176, -165.05939719]), 'positive')),\n",
       " ((5.0, 'positive'), (array([-33.77360233, -32.98066657]), 'negative')),\n",
       " ((4.5, 'positive'), (array([-791.26579999, -792.49275835]), 'positive')),\n",
       " '12 / 20 = 60.000000%']"
      ]
     },
     "execution_count": 32,
     "metadata": {},
     "output_type": "execute_result"
    }
   ],
   "source": [
    "pulp_fiction_reviews_link = 'https://www.rottentomatoes.com/m/pulp_fiction/reviews?type=user'\n",
    "predict_movie_review_sentiments(pulp_fiction_reviews_link)"
   ]
  },
  {
   "cell_type": "markdown",
   "id": "c857e6b2",
   "metadata": {},
   "source": [
    "## The Usual Suspects"
   ]
  },
  {
   "cell_type": "code",
   "execution_count": 33,
   "id": "7a878c25",
   "metadata": {},
   "outputs": [
    {
     "data": {
      "text/plain": [
       "[((2.5, 'negative'), (array([-60.30806412, -58.01716227]), 'negative')),\n",
       " ((3.5, 'positive'), (array([-240.24685035, -239.7139192 ]), 'negative')),\n",
       " ((4.5, 'positive'), (array([-57.78277323, -57.51674357]), 'negative')),\n",
       " ((4.5, 'positive'), (array([-500.22255412, -504.93481592]), 'positive')),\n",
       " ((5.0, 'positive'), (array([-205.24706784, -213.28730894]), 'positive')),\n",
       " ((5.0, 'positive'), (array([-312.23681262, -318.73785632]), 'positive')),\n",
       " ((4.0, 'positive'), (array([-24.0224711 , -24.67560603]), 'positive')),\n",
       " ((4.0, 'positive'), (array([-41.5012847 , -44.90428769]), 'positive')),\n",
       " ((5.0, 'positive'), (array([-106.25755385, -106.67969598]), 'positive')),\n",
       " ((5.0, 'positive'), (array([-114.54886061, -115.36779685]), 'positive')),\n",
       " ((5.0, 'positive'), (array([-185.7452516, -192.4229999]), 'positive')),\n",
       " ((5.0, 'positive'), (array([-25.15109872, -29.02925734]), 'positive')),\n",
       " ((4.5, 'positive'), (array([-21.12766866, -22.74959195]), 'positive')),\n",
       " ((5.0, 'positive'), (array([-132.562207  , -135.96252181]), 'positive')),\n",
       " ((5.0, 'positive'), (array([-39.317096  , -39.40940358]), 'positive')),\n",
       " ((4.5, 'positive'), (array([-160.54094899, -169.38891889]), 'positive')),\n",
       " ((5.0, 'positive'), (array([-2107.0715164 , -2147.76731134]), 'positive')),\n",
       " ((5.0, 'positive'), (array([-181.25000103, -182.6625923 ]), 'positive')),\n",
       " ((5.0, 'positive'), (array([-30.96890953, -32.96287846]), 'positive')),\n",
       " ((5.0, 'positive'), (array([-191.06565142, -196.26817268]), 'positive')),\n",
       " '18 / 20 = 90.000000%']"
      ]
     },
     "execution_count": 33,
     "metadata": {},
     "output_type": "execute_result"
    }
   ],
   "source": [
    "the_usual_suspects_reviews_link = 'https://www.rottentomatoes.com/m/usual_suspects/reviews?type=user'\n",
    "predict_movie_review_sentiments(the_usual_suspects_reviews_link)"
   ]
  },
  {
   "cell_type": "markdown",
   "id": "c712f98d",
   "metadata": {},
   "source": [
    "We can see that the `rev_probs()` function with our training data set actually performs well when looking at reviews for movies found on the Internet. The Rotten Tomatoes website is set up in such a way that only 20 reviews show at once before new ones being dynamically reloaded onto the same webpage when clicking the 'Next', so we did not have a huge testing set. But out of the 100 reviews, our predictor was able to correctly guess the sentiment of `72` out of `100` movie reviews, which is a good result. When analyzing the results of our predictor, the fact that we are only looking at single words to calculate our prediction must be taken into context, as phrases like 'ridiculously good' or 'hilariously bad' are actually postive and negative statements, respectively, but they could skew the predictor the wrong way. "
   ]
  },
  {
   "cell_type": "markdown",
   "id": "7e1aadc7",
   "metadata": {},
   "source": [
    "## Presidential Debates - Predicting Who The Speaker Is"
   ]
  },
  {
   "cell_type": "markdown",
   "id": "9696ebfa",
   "metadata": {},
   "source": [
    "We will start by grabbing all of the transcripts from the link below using pythons `requests.get()` function. After that we will grab every link from the webpage, and grab all of the html under the `div id='content-sm'`. This `div` contains all of the data that we are looking for. Once that is doen we will write this all to a folder named `Debate_Transcripts` for quick access."
   ]
  },
  {
   "cell_type": "code",
   "execution_count": 87,
   "id": "c6a783b8",
   "metadata": {},
   "outputs": [],
   "source": [
    "debates_url = \"https://www.debates.org/voter-education/debate-transcripts/\"\n",
    "september_debate_file = 'Debate_Transcripts/September 26, 2016 Debate Transcript.html'\n",
    "october_debate_file = 'Debate_Transcripts/October 19, 2016 Debate Transcript.html'"
   ]
  },
  {
   "cell_type": "code",
   "execution_count": null,
   "id": "4efd08b8",
   "metadata": {},
   "outputs": [],
   "source": [
    "text = requests.get(debates_url).text\n",
    "soup = BeautifulSoup(text)\n",
    "links_found = soup.find('ul',class_='children').findAll('a')\n",
    "\n",
    "debate_names = []\n",
    "links = []\n",
    "\n",
    "for l in links_found:\n",
    "    debate_names.append(l.text)\n",
    "    links.append('https://www.debates.org' + l.get('href'))\n",
    "    \n",
    "    \n",
    "folder_name = 'Debate_Transcripts'\n",
    "\n",
    "for dm, l in zip(debate_names,links):\n",
    "    d = requests.get(l).text\n",
    "    s = BeautifulSoup(d)\n",
    "    transcript = s.find('div', {'id': 'content-sm'})\n",
    "    \n",
    "    # When writing to the .html file, setting the parameter encoding='utf-8' was not working, so had to remove\n",
    "    # all chars 128-256 to remove non-ascii characters\n",
    "    # The .join() method here allows all of the chars to be added to the string if and only if they have a\n",
    "    # value less than 128, which is all of the normal characters\n",
    "    transcript_clean = ''.join(c for c in str(transcript) if ord(c) < 128)\n",
    "    \n",
    "    # Write to html file under the folder\n",
    "    with open(folder_name + '/' + dm +'.html','w') as file:\n",
    "        file.write(str(transcript_clean))\n",
    "    \n",
    "    # Write to txt file under folder\n",
    "    with open(folder_name + '/' + dm +'.txt','w') as file:\n",
    "        file.write(str(transcript.text)) "
   ]
  },
  {
   "cell_type": "markdown",
   "id": "daf4d787",
   "metadata": {},
   "source": [
    "With our debates data collected, we will now analyze one of these transcripts. We will look at two different debates preceding the 2016 presidental election, between Donald Trump and Hillary Clinton. These debates occurred on `September 26, 2016`, moderated by `Lester Holt` and `October 19, 2016`, moderated by `Chris Wallace`. \n",
    "\n",
    "We will first want to make word counts for each speaker, so that we can apply our Bayesian predictor. We will start with the debate from September."
   ]
  },
  {
   "cell_type": "code",
   "execution_count": 88,
   "id": "04b4cdae",
   "metadata": {},
   "outputs": [],
   "source": [
    "with open(september_debate_file,encoding='utf8') as fp:\n",
    "    soup = BeautifulSoup(fp, 'html.parser')\n",
    "s = soup.text\n",
    "#we want to remove the following characters and string\n",
    "punc = ',.;:!?\"'\n",
    "otherbadwords = ['--','[applause]','[inaudible]','[laughter]','[crosstalk]']\n",
    "\n",
    "# first remove punctuation\n",
    "for p in punc: \n",
    "    s = s.replace(p,'')#remove punctuation\n",
    "\n",
    "s = s.replace('—',' ')\n",
    "\n",
    "# next remove formating words that aren't helpful\n",
    "for w in otherbadwords: \n",
    "    s = s.replace(w,'')\n",
    "\n",
    "# restore colons after speaker names since these were just removed\n",
    "for sp in speakers: \n",
    "    s = s.replace(sp,sp+':')  \n",
    "\n",
    "tags_september = [ sp.lower()+':' for sp in speakers ]\n",
    "\n",
    "#make all lower case\n",
    "s = s.lower()\n",
    "\n",
    "words_september = s.split()"
   ]
  },
  {
   "cell_type": "markdown",
   "id": "961f9ef7",
   "metadata": {},
   "source": [
    "Now that we have gone through the file and moved all of its contents into a list of strings free of punctuation, we can now create word counts for each speaker. We also will use the first `70%` of the file as our training data, and then the remaining `30%` as our testing data. Lets find where one of speakers stops speaking around the `70%` mark in `words_september`:"
   ]
  },
  {
   "cell_type": "code",
   "execution_count": 106,
   "id": "fe8bf2ab",
   "metadata": {},
   "outputs": [
    {
     "name": "stdout",
     "output_type": "stream",
     "text": [
      "11916\n"
     ]
    },
    {
     "data": {
      "text/plain": [
       "['that',\n",
       " 'was',\n",
       " 'china',\n",
       " 'whether',\n",
       " 'it',\n",
       " 'was',\n",
       " 'another',\n",
       " 'country',\n",
       " 'we',\n",
       " 'dont',\n",
       " 'know',\n",
       " 'because',\n",
       " 'the',\n",
       " 'truth',\n",
       " 'is',\n",
       " 'under',\n",
       " 'president',\n",
       " 'obama',\n",
       " 'weve',\n",
       " 'lost',\n",
       " 'control',\n",
       " 'of',\n",
       " 'things',\n",
       " 'that',\n",
       " 'we',\n",
       " 'used',\n",
       " 'to',\n",
       " 'have',\n",
       " 'control',\n",
       " 'over',\n",
       " 'we',\n",
       " 'came',\n",
       " 'in',\n",
       " 'with',\n",
       " 'the',\n",
       " 'internet',\n",
       " 'we',\n",
       " 'came',\n",
       " 'up',\n",
       " 'with',\n",
       " 'the',\n",
       " 'internet',\n",
       " 'and',\n",
       " 'i',\n",
       " 'think',\n",
       " 'secretary',\n",
       " 'clinton',\n",
       " 'and',\n",
       " 'myself',\n",
       " 'would',\n",
       " 'agree',\n",
       " 'very',\n",
       " 'much',\n",
       " 'when',\n",
       " 'you',\n",
       " 'look',\n",
       " 'at',\n",
       " 'what',\n",
       " 'isis',\n",
       " 'is',\n",
       " 'doing',\n",
       " 'with',\n",
       " 'the',\n",
       " 'internet',\n",
       " 'theyre',\n",
       " 'beating',\n",
       " 'us',\n",
       " 'at',\n",
       " 'our',\n",
       " 'own',\n",
       " 'game',\n",
       " 'isis',\n",
       " 'so',\n",
       " 'we',\n",
       " 'have',\n",
       " 'to',\n",
       " 'get',\n",
       " 'very',\n",
       " 'very',\n",
       " 'tough',\n",
       " 'on',\n",
       " 'cyber',\n",
       " 'and',\n",
       " 'cyber',\n",
       " 'warfare',\n",
       " 'it',\n",
       " 'isit',\n",
       " 'is',\n",
       " 'a',\n",
       " 'huge',\n",
       " 'problem',\n",
       " 'i',\n",
       " 'have',\n",
       " 'a',\n",
       " 'son',\n",
       " 'hes',\n",
       " '10',\n",
       " 'years',\n",
       " 'old',\n",
       " 'he',\n",
       " 'has',\n",
       " 'computers',\n",
       " 'he',\n",
       " 'is',\n",
       " 'so',\n",
       " 'good',\n",
       " 'with',\n",
       " 'these',\n",
       " 'computers',\n",
       " 'its',\n",
       " 'unbelievable',\n",
       " 'the',\n",
       " 'security',\n",
       " 'aspect',\n",
       " 'of',\n",
       " 'cyber',\n",
       " 'is',\n",
       " 'very',\n",
       " 'very',\n",
       " 'tough',\n",
       " 'and',\n",
       " 'maybe',\n",
       " 'its',\n",
       " 'hardly',\n",
       " 'doable',\n",
       " 'but',\n",
       " 'i',\n",
       " 'will',\n",
       " 'say',\n",
       " 'we',\n",
       " 'are',\n",
       " 'not',\n",
       " 'doing',\n",
       " 'the',\n",
       " 'job',\n",
       " 'we',\n",
       " 'should',\n",
       " 'be',\n",
       " 'doing',\n",
       " 'but',\n",
       " 'thats',\n",
       " 'true',\n",
       " 'throughout',\n",
       " 'our',\n",
       " 'whole',\n",
       " 'governmental',\n",
       " 'society',\n",
       " 'we',\n",
       " 'have',\n",
       " 'so',\n",
       " 'many',\n",
       " 'things',\n",
       " 'that',\n",
       " 'we',\n",
       " 'have',\n",
       " 'to',\n",
       " 'do',\n",
       " 'better',\n",
       " 'lester',\n",
       " 'and',\n",
       " 'certainly',\n",
       " 'cyber',\n",
       " 'is',\n",
       " 'one',\n",
       " 'of',\n",
       " 'them',\n",
       " 'holt:',\n",
       " 'secretary',\n",
       " 'clinton',\n",
       " 'clinton:']"
      ]
     },
     "execution_count": 106,
     "metadata": {},
     "output_type": "execute_result"
    }
   ],
   "source": [
    "print(int(len(words_september)*.7))\n",
    "words_september[int(len(words_september)*.7):(int(len(words_september)*.71))]"
   ]
  },
  {
   "cell_type": "markdown",
   "id": "1725c2ec",
   "metadata": {},
   "source": [
    "We can see that Trump is speaking here, and this is a good place to cut off our training and testing data. Upon further review of the file, we discovered that Trump stops speaking here at the `12,082nd` index of `words_september`."
   ]
  },
  {
   "cell_type": "code",
   "execution_count": 109,
   "id": "5c43ee4c",
   "metadata": {},
   "outputs": [
    {
     "name": "stdout",
     "output_type": "stream",
     "text": [
      "holt:\n",
      "0.7097456382541267\n"
     ]
    }
   ],
   "source": [
    "print(words_september[12082]) # This is where we will cutoff our training and testing data\n",
    "print(12082/len(words_september))"
   ]
  },
  {
   "cell_type": "markdown",
   "id": "8128c8f8",
   "metadata": {},
   "source": [
    "We can see that at the `12,082nd` index, our data for this particular transcript will be divided into about a `70/30` split. From there we can denote the indices that will be used for the training and testing data."
   ]
  },
  {
   "cell_type": "code",
   "execution_count": 114,
   "id": "07324429",
   "metadata": {},
   "outputs": [],
   "source": [
    "words_september_train = words_september[:12082]\n",
    "words_september_test = words_september[12082:]"
   ]
  },
  {
   "cell_type": "code",
   "execution_count": 91,
   "id": "937ca9f9",
   "metadata": {},
   "outputs": [
    {
     "data": {
      "text/html": [
       "<div>\n",
       "<style scoped>\n",
       "    .dataframe tbody tr th:only-of-type {\n",
       "        vertical-align: middle;\n",
       "    }\n",
       "\n",
       "    .dataframe tbody tr th {\n",
       "        vertical-align: top;\n",
       "    }\n",
       "\n",
       "    .dataframe thead th {\n",
       "        text-align: right;\n",
       "    }\n",
       "</style>\n",
       "<table border=\"1\" class=\"dataframe\">\n",
       "  <thead>\n",
       "    <tr style=\"text-align: right;\">\n",
       "      <th></th>\n",
       "      <th>Holt</th>\n",
       "      <th>Trump</th>\n",
       "      <th>Clinton</th>\n",
       "    </tr>\n",
       "  </thead>\n",
       "  <tbody>\n",
       "    <tr>\n",
       "      <th>the</th>\n",
       "      <td>96</td>\n",
       "      <td>293</td>\n",
       "      <td>251</td>\n",
       "    </tr>\n",
       "    <tr>\n",
       "      <th>to</th>\n",
       "      <td>82</td>\n",
       "      <td>256</td>\n",
       "      <td>238</td>\n",
       "    </tr>\n",
       "    <tr>\n",
       "      <th>you</th>\n",
       "      <td>64</td>\n",
       "      <td>197</td>\n",
       "      <td>76</td>\n",
       "    </tr>\n",
       "    <tr>\n",
       "      <th>and</th>\n",
       "      <td>43</td>\n",
       "      <td>276</td>\n",
       "      <td>204</td>\n",
       "    </tr>\n",
       "    <tr>\n",
       "      <th>of</th>\n",
       "      <td>39</td>\n",
       "      <td>171</td>\n",
       "      <td>135</td>\n",
       "    </tr>\n",
       "    <tr>\n",
       "      <th>...</th>\n",
       "      <td>...</td>\n",
       "      <td>...</td>\n",
       "      <td>...</td>\n",
       "    </tr>\n",
       "    <tr>\n",
       "      <th>bet</th>\n",
       "      <td>0</td>\n",
       "      <td>0</td>\n",
       "      <td>1</td>\n",
       "    </tr>\n",
       "    <tr>\n",
       "      <th>democracy</th>\n",
       "      <td>0</td>\n",
       "      <td>0</td>\n",
       "      <td>1</td>\n",
       "    </tr>\n",
       "    <tr>\n",
       "      <th>plant</th>\n",
       "      <td>0</td>\n",
       "      <td>0</td>\n",
       "      <td>1</td>\n",
       "    </tr>\n",
       "    <tr>\n",
       "      <th>doubts</th>\n",
       "      <td>0</td>\n",
       "      <td>0</td>\n",
       "      <td>1</td>\n",
       "    </tr>\n",
       "    <tr>\n",
       "      <th>depended</th>\n",
       "      <td>0</td>\n",
       "      <td>0</td>\n",
       "      <td>1</td>\n",
       "    </tr>\n",
       "  </tbody>\n",
       "</table>\n",
       "<p>2354 rows × 3 columns</p>\n",
       "</div>"
      ],
      "text/plain": [
       "           Holt  Trump  Clinton\n",
       "the          96    293      251\n",
       "to           82    256      238\n",
       "you          64    197       76\n",
       "and          43    276      204\n",
       "of           39    171      135\n",
       "...         ...    ...      ...\n",
       "bet           0      0        1\n",
       "democracy     0      0        1\n",
       "plant         0      0        1\n",
       "doubts        0      0        1\n",
       "depended      0      0        1\n",
       "\n",
       "[2354 rows x 3 columns]"
      ]
     },
     "execution_count": 91,
     "metadata": {},
     "output_type": "execute_result"
    }
   ],
   "source": [
    "# identify the 3 speakers: Holt is the debate moderator\n",
    "speakers = ['HOLT','CLINTON','TRUMP']\n",
    "\n",
    "h_september = []#words used by holt\n",
    "c_september = []#words used by clinton\n",
    "t_september = []#words used by trump\n",
    "\n",
    "#let variable 'current' denote the current speaker, and update it as one goes through the text\n",
    "current =[]\n",
    "\n",
    "for w in words_september_train:# i.e., consider each word\n",
    "    if  w == tags_september[0]: #i.e., if w = holt:\n",
    "        current = h_september \n",
    "    elif w == tags_september[1]: #i.e., if w = clinton:\n",
    "        current = c_september\n",
    "    elif w == tags_september[2]: #...\n",
    "        current = t_september\n",
    "\n",
    "    # if the word is not a speaker's name, add word to the current speaker's list of words    \n",
    "    else: \n",
    "        current.append(w) \n",
    "\n",
    "holt_counter_september = Counter(h_september)\n",
    "trump_counter_september = Counter(t_september)\n",
    "clinton_counter_september = Counter(c_september)\n",
    "\n",
    "speakersDict_september = {'Holt':holt_counter_september,\n",
    "                          'Trump':trump_counter_september,\n",
    "                          'Clinton':clinton_counter_september}\n",
    "\n",
    "speakers_df_september = pd.DataFrame(speakersDict_september).fillna(0).sort_values(by=['Holt','Trump','Clinton'],ascending=False)\n",
    "speakers_df_september[['Holt','Trump','Clinton']] = speakers_df_september[['Holt','Trump','Clinton']].astype(int)\n",
    "\n",
    "speakers_df_september"
   ]
  },
  {
   "cell_type": "markdown",
   "id": "65d2fa04",
   "metadata": {},
   "source": [
    "With our training data set, we can now attempt to predict speakers for each passage. To find each passage for each speaker, we will use `regex` to match on one of the speakers names followed by a colon. To make sure we end our regex search when another of the speakers starts talking, we will use a lookahead assertion that checks if the next text is either the name of another speaker followed by a colon."
   ]
  },
  {
   "cell_type": "code",
   "execution_count": 134,
   "id": "ee969fcf",
   "metadata": {},
   "outputs": [],
   "source": [
    "testing_data = ' '.join(words_september_test)"
   ]
  },
  {
   "cell_type": "code",
   "execution_count": 135,
   "id": "361306a1",
   "metadata": {},
   "outputs": [],
   "source": [
    "# For each speaker we want to first match on their name followed by ':'\n",
    "# We then want to match any white space, non-greedily\n",
    "# Finally we want to stop our match when a different person speaks, '(?=(trump:|clinton:|$))' is \n",
    "# a lookahead assertion that matches either \"trump:\", \"clinton:\", or the end of the string\n",
    "\n",
    "holt_RE = 'holt:\\s*(.*?)(?=(trump:|clinton:|$))' \n",
    "trump_RE = 'trump:\\s*(.*?)(?=(holt:|clinton:|$))'\n",
    "clinton_RE = 'clinton:\\s*(.*?)(?=(holt:|trump:|$))'"
   ]
  },
  {
   "cell_type": "code",
   "execution_count": 143,
   "id": "74169709",
   "metadata": {},
   "outputs": [],
   "source": [
    "holt_texts = [text[0] for text in re.findall(holt_RE,testing_data)]\n",
    "trump_texts = [text[0] for text in re.findall(trump_RE,testing_data)]\n",
    "clinton_texts = [text[0] for text in re.findall(clinton_RE,testing_data)]"
   ]
  },
  {
   "cell_type": "code",
   "execution_count": 152,
   "id": "4c7c444c",
   "metadata": {},
   "outputs": [],
   "source": [
    "def rev_probs_debates(review,training_data):\n",
    "    \n",
    "    words = review.split()\n",
    "\n",
    "    # Laplacian Smoothing \n",
    "    laplace_training_data = training_data[['Holt','Trump','Clinton']].add(1)\n",
    "    \n",
    "    tot = np.array(laplace_training_data.sum()).sum()\n",
    "    prod = np.ones(3)\n",
    "    prod[0] = laplace_training_data['Holt'].sum()/(tot)\n",
    "    prod[0] = laplace_training_data['Trump'].sum()/(tot)\n",
    "    prod[0] = laplace_training_data['Clinton'].sum()/(tot)\n",
    "    \n",
    "    for word in words:\n",
    "        w = laplace_training_data.loc[word]\n",
    "        p = w/np.array(laplace_training_data.sum())\n",
    "        prod += np.log(np.array(p))\n",
    "        \n",
    "    return (prod,['Holt','Trump','Clinton'][np.argmax(prod)]) "
   ]
  },
  {
   "cell_type": "markdown",
   "id": "5081aff0",
   "metadata": {},
   "source": [
    "With our function `rev_probs_debates()` function created, let's test it out. "
   ]
  },
  {
   "cell_type": "code",
   "execution_count": 180,
   "id": "ebf8ce66",
   "metadata": {},
   "outputs": [],
   "source": [
    "def debate_speaker_acc(speaker_texts,speaker_name,training_data):\n",
    "    correct = 0\n",
    "    total_transcripts = len(speaker_texts)\n",
    "    for line in speaker_texts:\n",
    "        actual = speaker_name\n",
    "        prediction = rev_probs_debates(line,training_data)[1]\n",
    "        if actual == prediction:\n",
    "            correct += 1\n",
    "    return (correct,total_transcripts,(correct/total_transcripts))"
   ]
  },
  {
   "cell_type": "code",
   "execution_count": 182,
   "id": "66b3377e",
   "metadata": {},
   "outputs": [],
   "source": [
    "holt_results = debate_speaker_acc(holt_texts,'Holt',speakers_df_september)\n",
    "trump_results = debate_speaker_acc(trump_texts,'Trump',speakers_df_september)\n",
    "clinton_results = debate_speaker_acc(clinton_texts,'Clinton',speakers_df_september)"
   ]
  },
  {
   "cell_type": "code",
   "execution_count": 198,
   "id": "f6b4b7f3",
   "metadata": {},
   "outputs": [
    {
     "name": "stdout",
     "output_type": "stream",
     "text": [
      "Holt Results: 87.17948717948718 %\n",
      "Trump Results: 95.65217391304348 %\n",
      "Clinton Results: 86.95652173913044 %\n"
     ]
    }
   ],
   "source": [
    "print('{:} Results: {:} %'.format('Holt',holt_results[2]*100))\n",
    "print('{:} Results: {:} %'.format('Trump',trump_results[2]*100))\n",
    "print('{:} Results: {:} %'.format('Clinton',clinton_results[2]*100))"
   ]
  },
  {
   "cell_type": "code",
   "execution_count": 197,
   "id": "690a2212",
   "metadata": {},
   "outputs": [
    {
     "data": {
      "image/png": "[encoded data removed]",
      "text/plain": [
       "<Figure size 800x600 with 1 Axes>"
      ]
     },
     "metadata": {},
     "output_type": "display_data"
    }
   ],
   "source": [
    "plt.figure(figsize=(8,6),dpi=100)\n",
    "x_values = ['Holt','Trump','Clinton']\n",
    "y_values = [holt_results[2]*100,trump_results[2]*100,clinton_results[2]*100]\n",
    "plt.bar(x_values,y_values,width=0.5,label='Classification Accuracy')\n",
    "plt.xlabel('Speakers')\n",
    "plt.ylabel('Classification Accuracy (%)')\n",
    "plt.legend()\n",
    "plt.title('Classification Accuracy for Speakers in Presidential Debate')\n",
    "plt.ylim(50,100)\n",
    "plt.show()"
   ]
  },
  {
   "cell_type": "markdown",
   "id": "fbd9a4de",
   "metadata": {},
   "source": [
    "We can see that our classifier is pretty sucessful when classifying the data, correctly classifying the speakers as being either `Holt` or `Clinton` over `86%` of the time, while performing excellently at classifying whether or not `Trump` is speaking at over a `95%` success rate.\n",
    "\n",
    "Now we will see how our classifier performs with this training data from the `September` debates, but now with different quotes spoken by both Trump and Clinton from their debate on `October 19, 2016`."
   ]
  },
  {
   "cell_type": "code",
   "execution_count": 317,
   "id": "89d702ac",
   "metadata": {},
   "outputs": [],
   "source": [
    "speakers_october = ['WALLACE','CLINTON','TRUMP']"
   ]
  },
  {
   "cell_type": "code",
   "execution_count": 318,
   "id": "1aca20ed",
   "metadata": {},
   "outputs": [],
   "source": [
    "with open(october_debate_file,encoding='utf8') as fp:\n",
    "    soup = BeautifulSoup(fp, 'html.parser')\n",
    "s_october = soup.text\n",
    "#we want to remove the following characters and string\n",
    "punc = ',.;:!?\"'\n",
    "otherbadwords = ['--','[applause]','[inaudible]','[laughter]','[crosstalk]']\n",
    "\n",
    "# first remove punctuation\n",
    "for p in punc: \n",
    "    s_october = s_october.replace(p,'')#remove punctuation\n",
    "\n",
    "s_october = s_october.replace('—',' ')\n",
    "\n",
    "# next remove formating words that aren't helpful\n",
    "for w in otherbadwords: \n",
    "    s_october = s_october.replace(w,'')\n",
    "\n",
    "# restore colons after speaker names since these were just removed\n",
    "for sp in speakers_october: \n",
    "    s_october = s_october.replace(sp,sp+':')  \n",
    "\n",
    "tags_october = [ sp.lower()+':' for sp in speakers_october ]\n",
    "\n",
    "#make all lower case\n",
    "s_october = s_october.lower()\n",
    "\n",
    "words_october = s_october.split()"
   ]
  },
  {
   "cell_type": "markdown",
   "id": "a10bda36",
   "metadata": {},
   "source": [
    "We will create a new function `rev_probs_debates_oct()` that will only predict whether the speaker is Trump or Clinton."
   ]
  },
  {
   "cell_type": "code",
   "execution_count": 259,
   "id": "3656534b",
   "metadata": {},
   "outputs": [],
   "source": [
    "def rev_probs_debates_oct(review,training_data):\n",
    "    \n",
    "    words = review.split()\n",
    "\n",
    "    # Laplacian Smoothing \n",
    "    laplace_training_data = training_data[['Trump','Clinton']].add(1)\n",
    "    \n",
    "    tot = np.array(laplace_training_data.sum()).sum()\n",
    "    prod = np.ones(2)\n",
    "    prod[0] = laplace_training_data['Trump'].sum()/(tot)\n",
    "    prod[0] = laplace_training_data['Clinton'].sum()/(tot)\n",
    "    \n",
    "    for word in words:\n",
    "        w = laplace_training_data.loc[word]\n",
    "        p = w/np.array(laplace_training_data.sum())\n",
    "        prod += np.log(np.array(p))\n",
    "        \n",
    "    return (prod,['Trump','Clinton'][np.argmax(prod)]) "
   ]
  },
  {
   "cell_type": "markdown",
   "id": "ed50518d",
   "metadata": {},
   "source": [
    "And from the `October` debate, we will use `regex` to find all Trump and Clinton quotes."
   ]
  },
  {
   "cell_type": "code",
   "execution_count": 260,
   "id": "b9bd6251",
   "metadata": {},
   "outputs": [],
   "source": [
    "testing_data_october = ' '.join(words_october)\n",
    "trump_texts_october = [text[0] for text in re.findall(trump_RE,testing_data_october)]\n",
    "clinton_texts_october = [text[0] for text in re.findall(clinton_RE,testing_data_october)]"
   ]
  },
  {
   "cell_type": "markdown",
   "id": "9fc7f8ec",
   "metadata": {},
   "source": [
    "Now we will use all the words from the `September` debate as a list of valid words, any words that did not appear in our training data from that debate will not be considered."
   ]
  },
  {
   "cell_type": "code",
   "execution_count": 303,
   "id": "402432c2",
   "metadata": {},
   "outputs": [],
   "source": [
    "valid_words_speakers = list(speakers_df_september.index)"
   ]
  },
  {
   "cell_type": "markdown",
   "id": "e8f99a86",
   "metadata": {},
   "source": [
    "The function `remove_non_valid_words_oct()` will remove any words that do not appear in the `September` debate."
   ]
  },
  {
   "cell_type": "code",
   "execution_count": 313,
   "id": "0d8b5009",
   "metadata": {},
   "outputs": [],
   "source": [
    "def remove_non_valid_words_oct(text,valid_words):   \n",
    "    return ' '.join([word for word in text.split(' ') if word in valid_words])"
   ]
  },
  {
   "cell_type": "markdown",
   "id": "b459ba42",
   "metadata": {},
   "source": [
    "Now let's test our classifier on quotes by both Trump and Clinton taken from their `October` debate."
   ]
  },
  {
   "cell_type": "code",
   "execution_count": 322,
   "id": "91189e4d",
   "metadata": {},
   "outputs": [],
   "source": [
    "def debate_speaker_acc_october(speaker_texts,speaker_name,training_data,valid_words):\n",
    "    correct = 0\n",
    "    total_transcripts = len(speaker_texts)\n",
    "    for line in speaker_texts:\n",
    "        line = remove_non_valid_words_oct(line,valid_words)\n",
    "        actual = speaker_name\n",
    "        prediction = rev_probs_debates(line,training_data)[1]\n",
    "        if actual == prediction:\n",
    "            correct += 1\n",
    "    return (correct,total_transcripts,(correct/total_transcripts))"
   ]
  },
  {
   "cell_type": "code",
   "execution_count": 324,
   "id": "e4c1a1ac",
   "metadata": {},
   "outputs": [],
   "source": [
    "trump_results_oct = debate_speaker_acc_october(trump_texts_october,'Trump',\n",
    "                                               speakers_df_september,valid_words_speakers)\n",
    "clinton_results_oct = debate_speaker_acc_october(clinton_texts_october,'Clinton',\n",
    "                                                 speakers_df_september,valid_words_speakers)"
   ]
  },
  {
   "cell_type": "code",
   "execution_count": 325,
   "id": "ff750698",
   "metadata": {},
   "outputs": [
    {
     "name": "stdout",
     "output_type": "stream",
     "text": [
      "Trump Results: 87.87878787878788 %\n",
      "Clinton Results: 78.78787878787878 %\n"
     ]
    }
   ],
   "source": [
    "print('{:} Results: {:} %'.format('Trump',trump_results_oct[2]*100))\n",
    "print('{:} Results: {:} %'.format('Clinton',clinton_results_oct[2]*100))"
   ]
  },
  {
   "cell_type": "code",
   "execution_count": 336,
   "id": "cd530f56",
   "metadata": {},
   "outputs": [
    {
     "data": {
      "image/png": "[encoded data removed]",
      "text/plain": [
       "<Figure size 500x600 with 1 Axes>"
      ]
     },
     "metadata": {},
     "output_type": "display_data"
    }
   ],
   "source": [
    "plt.figure(figsize=(5,6),dpi=100)\n",
    "x_values = ['Trump','Clinton']\n",
    "y_values = [trump_results[2]*100,clinton_results[2]*100]\n",
    "plt.bar(x_values,y_values,width=0.75,label='Classification Accuracy')\n",
    "plt.xlabel('Speakers')\n",
    "plt.ylabel('Classification Accuracy (%)')\n",
    "plt.legend()\n",
    "plt.title('Classification Accuracy for Speakers in October Presidential Debate')\n",
    "plt.ylim(75,100)\n",
    "plt.show()"
   ]
  },
  {
   "cell_type": "markdown",
   "id": "f184ae18",
   "metadata": {},
   "source": [
    "Again we can see that our classifier still performs well when we look at a different debate, correctly classifying Trump as the speaker `87.8%` of the time, and Clinton `78.7%` of the time.\n",
    "\n",
    "Now we will look at some quotes found on the internet from both Trump and Clinton. I found these quotes at this website: `www.goodreads.com` ."
   ]
  },
  {
   "cell_type": "markdown",
   "id": "24c10728",
   "metadata": {},
   "source": [
    "### Trump Quotes"
   ]
  },
  {
   "cell_type": "code",
   "execution_count": 341,
   "id": "fc4cde4f",
   "metadata": {},
   "outputs": [
    {
     "name": "stdout",
     "output_type": "stream",
     "text": [
      "(array([-54.3954723 , -49.3377515 , -50.93564867]), 'Trump')\n",
      "(array([-50.99941266, -49.15526827, -50.558975  ]), 'Trump')\n",
      "(array([-103.69161121,  -92.97147685,  -95.09058616]), 'Trump')\n",
      "(array([-113.91946988, -107.45245665, -109.69811549]), 'Trump')\n",
      "(array([-135.42414015, -130.61252038, -127.95015742]), 'Clinton')\n"
     ]
    }
   ],
   "source": [
    "tQuote1 = \"\"\"As long as you are going to be thinking anyway, think big.\"\"\"\n",
    "tQuote2 = \"\"\"Show me someone without an ego, and I'll show you a loser.\"\"\"\n",
    "tQuote3 = \"\"\"I've read hundreds of books about China over the decades. I know the Chinese. I've made a lot of money with the Chinese. I understand the Chinese mind.\"\"\"\n",
    "tQuote4 = \"\"\"MY STYLE of deal-making is quite simple and straightforward. I aim very high, and then I just keep pushing and pushing and pushing to get what I’m after.\"\"\"\n",
    "tQuote5 = \"\"\"Get going. Move forward. Aim High. Plan a takeoff. Don't just sit on the runway and hope someone will come along and push the airplane. It simply won't happen. Change your attitude and gain some altitude. Believe me, you'll love it up here.\"\"\"\n",
    "\n",
    "print(rev_probs_debates(remove_non_valid_words_oct(tQuote1,valid_words_speakers),speakers_df_september))\n",
    "print(rev_probs_debates(remove_non_valid_words_oct(tQuote2,valid_words_speakers),speakers_df_september))\n",
    "print(rev_probs_debates(remove_non_valid_words_oct(tQuote3,valid_words_speakers),speakers_df_september))\n",
    "print(rev_probs_debates(remove_non_valid_words_oct(tQuote4,valid_words_speakers),speakers_df_september))\n",
    "print(rev_probs_debates(remove_non_valid_words_oct(tQuote5,valid_words_speakers),speakers_df_september))"
   ]
  },
  {
   "cell_type": "markdown",
   "id": "bf3425ef",
   "metadata": {},
   "source": [
    "### Clinton Quotes"
   ]
  },
  {
   "cell_type": "code",
   "execution_count": 342,
   "id": "3bc7b2da",
   "metadata": {},
   "outputs": [
    {
     "name": "stdout",
     "output_type": "stream",
     "text": [
      "(array([-114.2385202 , -110.23297543, -109.07296939]), 'Clinton')\n",
      "(array([-115.09611132, -108.99297063, -112.90256553]), 'Trump')\n",
      "(array([-252.94268791, -235.00928265, -236.06301522]), 'Trump')\n",
      "(array([-240.0733645 , -210.67126568, -219.65636849]), 'Trump')\n",
      "(array([-91.70403494, -82.23162848, -81.89287419]), 'Clinton')\n"
     ]
    }
   ],
   "source": [
    "cQuote1 = \"\"\"Human rights are women’s rights, and women’s rights are human rights. Let us not forget that among those rights are the right to speak freely--and the right to be heard.\"\"\"\n",
    "cQuote2 = \"\"\"Faith is like stepping off a cliff and expecting one of two outcomes- you will either land on solid ground or you will be taught to fly.\"\"\"\n",
    "cQuote3 = \"\"\"Early on the morning of November 9, when it came time to decide on what I’d say in my concession speech, I remembered those words. Inspired by them, I wrote these: “To all the little girls who are watching this, never doubt that you are valuable and powerful and deserving of every chance and opportunity in the world to pursue and achieve your own dreams.\"\"\"\n",
    "cQuote4 = \"\"\"One thing I’ve learned over the years is how easy it is for some people to say horrible things about me when I’m not around, but how hard it is for them to look me in the eye and say it to my face.\"\"\"\n",
    "cQuote5 = \"\"\"In this world and the world of tomorrow, we must go forward together or not at all.\"\"\"\n",
    "\n",
    "print(rev_probs_debates(remove_non_valid_words_oct(cQuote1,valid_words_speakers),speakers_df_september))\n",
    "print(rev_probs_debates(remove_non_valid_words_oct(cQuote2,valid_words_speakers),speakers_df_september))\n",
    "print(rev_probs_debates(remove_non_valid_words_oct(cQuote3,valid_words_speakers),speakers_df_september))\n",
    "print(rev_probs_debates(remove_non_valid_words_oct(cQuote4,valid_words_speakers),speakers_df_september))\n",
    "print(rev_probs_debates(remove_non_valid_words_oct(cQuote5,valid_words_speakers),speakers_df_september))"
   ]
  },
  {
   "cell_type": "markdown",
   "id": "da0ba7eb",
   "metadata": {},
   "source": [
    "We can see that our classifier still performed well with the Trump quotes, even though they were taken from books he has written and are not of the context of a presidential debate. Our classifier struggled with quotes from Clinton, although this should be expected as we are not using training data from any books that she has written."
   ]
  },
  {
   "cell_type": "markdown",
   "id": "a76b4aa3",
   "metadata": {},
   "source": [
    "## Conclusion\n",
    "\n",
    "In this project we built a Bayesian classifer to predict what the sentiment of a movie review was based off of a training dataset that contained reviews. We found that our predictor was pretty accurate, able to predict the sentiment of around `84%` of movie reviews. When we removed stop words from our training data, our model performed even better, correctly classifying almost `87%` of the movie reviews.\n",
    "\n",
    "We also saw that there were differences in classification accuracy when we reduced the size of our training set. When we only gave our model between `125-250` movie reviews for a training set, it was only able to predict the sentiment correctly about `69%` of the time. The accuracy of our model did not change much when the size of the training set was increased to `2,500` movie reviews and higher, staying at around a `87-88%` success rate.\n",
    "\n",
    "Our model was also able to do a pretty good job predicting what the sentiment of random movie reviews found online would be, correctly classifying `72/100` reviews found on Rotten Tomatoes.\n",
    "\n",
    "We then analyzed presidential debates, and trained our model to try to predict who the speaker was during one of these debates. We analyzed two debates from the `2016` presidential election, both featuring candidates `Donald Trump` and `Hillary Clinton`. We found that our predictor was very successful at doing this, able to predict when Clinton was speaking at almost `87%` of time. Our model performed excellently when trying to predict if Trump was speaking, correctly classifying quotes fom him at over `95%` of the time. These high success rates can be partly explained by the fact that the two candidates are both speaking about limited topics inside of a confined and professional environment, and are very likely to say words that directly correlate to their campaign's messages. When looking at a different debate between these two, we saw that our model was slightly less successful and was able to classify Trump and Clinton quotes at `87%` and `78%`, respectfully.\n",
    "\n",
    "When we moved outside of a debate environment and analyzed quotes from books authored by these two candidates, we saw that our model was not as successful and was only able to correctly classify `6/10` quotes."
   ]
  },
  {
   "cell_type": "markdown",
   "id": "a5977a75",
   "metadata": {},
   "source": [
    "## Code\n",
    "\n",
    "### Modules"
   ]
  },
  {
   "cell_type": "code",
   "execution_count": null,
   "id": "a1957ab5",
   "metadata": {},
   "outputs": [],
   "source": [
    "import pandas as pd\n",
    "from collections import Counter\n",
    "import numpy as np\n",
    "import string\n",
    "from sklearn.model_selection import train_test_split\n",
    "import requests\n",
    "from bs4 import BeautifulSoup\n",
    "import matplotlib.pyplot as plt\n",
    "import re"
   ]
  },
  {
   "cell_type": "markdown",
   "id": "6b008c56",
   "metadata": {},
   "source": [
    "### Movie Reviews"
   ]
  },
  {
   "cell_type": "code",
   "execution_count": null,
   "id": "209eeeee",
   "metadata": {},
   "outputs": [],
   "source": [
    "movies = pd.read_csv('movie_reviews.zip')\n",
    "len(movies)\n",
    "\n",
    "train_df, test_df = train_test_split(movies, train_size=0.8, random_state=1)\n",
    "len(train_df)\n",
    "\n",
    "def clean_string(dirty):\n",
    "    replacements = [('<br />',''),('\\\\',''),('.',' '),('!',''),('?',''),('(',''),(')',''),('-',' '),('\"',''),(',','')]\n",
    "    dirty = dirty.lower() # Make all of the words lowercase for consistent results\n",
    "    for char, replace in replacements:\n",
    "        if char in dirty:\n",
    "            dirty = dirty.replace(char, replace) # If any unwanted symbols appear replace them with blank space\n",
    "    return dirty\n",
    "\n",
    "\n",
    "def count_word_occurences(movie_dataframe):\n",
    "    # Create empty Counters for positive and negative reviews\n",
    "    positive_counter = Counter()\n",
    "    negative_counter = Counter()\n",
    "\n",
    "    # Iterate through each row of the movies dataframe\n",
    "    for index, row in movie_dataframe.iterrows():\n",
    "        # Clean the review string\n",
    "        clean_review = clean_string(row['review'])\n",
    "        words = clean_review.split()\n",
    "        # Add words to the appropriate counter based on the sentiment\n",
    "        if row['sentiment'] == 'positive':\n",
    "            positive_counter.update(words)\n",
    "        elif row['sentiment'] == 'negative':\n",
    "            negative_counter.update(words)\n",
    "            \n",
    "    word_counts = pd.DataFrame(columns=['negative', 'positive'])\n",
    "\n",
    "    # Iterate through each word in the positive and negative counters\n",
    "    for word in set(list(positive_counter.keys()) + list(negative_counter.keys())):\n",
    "        # Add a new row to the dataframe with the count for this word\n",
    "        word_counts.loc[word] = [negative_counter[word], positive_counter[word]]\n",
    "\n",
    "    # Fill any missing values with 0\n",
    "    word_counts = word_counts.fillna(0)\n",
    "    \n",
    "    word_counts_sorted = word_counts.sort_values(by=['positive', 'negative'], ascending=False)\n",
    "    \n",
    "    return word_counts_sorted\n",
    "\n",
    "\n",
    "#movie_word_occurences = count_word_occurences(train_df)\n",
    "#movie_word_occurences.to_csv('movie_review_training_data.csv')\n",
    "\n",
    "training_data_with_stop_words = pd.read_csv('movie_review_training_data.csv')\n",
    "training_data_with_stop_words = training_data_with_stop_words.set_index('Unnamed: 0').rename_axis('', axis='index')\n",
    "training_data_with_stop_words"
   ]
  },
  {
   "cell_type": "markdown",
   "id": "4ae487c7",
   "metadata": {},
   "source": [
    "### Testing"
   ]
  },
  {
   "cell_type": "code",
   "execution_count": null,
   "id": "ef34e3f9",
   "metadata": {},
   "outputs": [],
   "source": [
    "def rev_probs(review,training_data):\n",
    "    \n",
    "    words = review.split()\n",
    "\n",
    "    # Laplacian Smoothing \n",
    "    laplace_training_data = training_data[['positive','negative']].add(1)\n",
    "    \n",
    "    # Compute the prior probabilities of the positive and negative classes using the training data\n",
    "    tot = np.array(laplace_training_data.sum()).sum()\n",
    "    prod = np.ones(2)\n",
    "    prod[0] = laplace_training_data['negative'].sum()/(tot)\n",
    "    prod[0] = laplace_training_data['positive'].sum()/(tot)\n",
    "    \n",
    "    # Compute 'log' probabilites, add them to prod array:\n",
    "    for word in words:\n",
    "        w = laplace_training_data.loc[word]\n",
    "        p = w/np.array(laplace_training_data.sum())\n",
    "        prod += np.log(np.array(p))\n",
    "        \n",
    "    return (prod,['positive','negative'][np.argmax(prod)]) \n",
    "\n",
    "valid_words_with_stop_words = list(training_data_with_stop_words.index)\n",
    "\n",
    "def remove_non_valid_words(review_string,valid_words):\n",
    "    review = clean_string(review_string).split()\n",
    "    for word in review:\n",
    "        if word not in valid_words:\n",
    "            review = [x for x in review if x != word]\n",
    "    review1 = ' '.join(review)\n",
    "    return review1\n",
    "\n",
    "\n",
    "def test_classifier(test_set,training_data,valid_words):\n",
    "    results_list = []\n",
    "    correct = 0\n",
    "    testSize = len(test_df)\n",
    "    \n",
    "    for i in range(len(test_df)):\n",
    "        # Retrive actual sentiment\n",
    "        actual = test_df.iloc[i]['sentiment']\n",
    "        # Remove non-valid words, then usse cleaned string and training data to make prediction\n",
    "        prediction = rev_probs(remove_non_valid_words(test_df.iloc[i]['review'],valid_words),training_data)\n",
    "        if actual == prediction[1]:\n",
    "            correct += 1\n",
    "        results_list.append((actual,prediction))\n",
    "    # Add percentage correct to results\n",
    "    results_list.append('{:} / {:} = {:}%'.format(correct,testSize,(correct/testSize)*100))\n",
    "    \n",
    "    return results_list\n",
    "\n",
    "\n",
    "#results_list_with_stop_words = test_classifier(test_df,training_data_with_stop_words,valid_words_with_stop_words)\n",
    "\n",
    "#with open('movie_review_testing_results_with_stop_words.txt','w') as f:\n",
    "#    for item in results_list_with_stop_words:\n",
    "#        f.write(str(item))\n",
    "#        f.write('\\n')\n",
    "\n",
    "with open('movie_review_testing_results_with_stop_words.txt','r') as f:\n",
    "    results_with_stop_words = f.read().splitlines()\n",
    "    \n",
    "results_with_stop_words[-1]"
   ]
  },
  {
   "cell_type": "markdown",
   "id": "553877f2",
   "metadata": {},
   "source": [
    "### Testing Without Stop Words"
   ]
  },
  {
   "cell_type": "code",
   "execution_count": null,
   "id": "0efb2d0d",
   "metadata": {},
   "outputs": [],
   "source": [
    "with open ('stopwords.txt') as f:\n",
    "    stops = f.read()\n",
    "\n",
    "stop_words = stops.split(',')\n",
    "\n",
    "training_data_no_stop_words = pd.read_csv('movie_review_training_data.csv')\n",
    "training_data_no_stop_words = training_data_no_stop_words.set_index('Unnamed: 0').rename_axis('', axis='index')\n",
    "training_data_no_stop_words = training_data_no_stop_words.drop(stop_words,errors='ignore')\n",
    "\n",
    "valid_words_no_stop_words = list(training_data_no_stop_words.index)\n",
    "\n",
    "#results_list_no_stop_words = test_classifier(test_df,training_data_no_stop_words,valid_words_no_stop_words)\n",
    "\n",
    "#with open('movie_review_testing_results_no_stop_words.txt','w') as f:\n",
    "#    for item in results_list_no_stop_words:\n",
    "#        f.write(str(item))\n",
    "#        f.write('\\n')\n",
    "\n",
    "with open('movie_review_testing_results_no_stop_words.txt','r') as f:\n",
    "    results_no_stop_words = f.read().splitlines()\n",
    "    \n",
    "results_no_stop_words[-1]"
   ]
  },
  {
   "cell_type": "markdown",
   "id": "859dcda1",
   "metadata": {},
   "source": [
    "### Classifying with Different Training Set Sizes"
   ]
  },
  {
   "cell_type": "code",
   "execution_count": null,
   "id": "8e494fc5",
   "metadata": {},
   "outputs": [],
   "source": [
    "def generate_classification_accuracy():\n",
    "    classification_results = []\n",
    "    \n",
    "    for i in range (1,10):\n",
    "        # Start at 10%, then go up to 90%\n",
    "        training_size = (i / 10.0)\n",
    "        movies = pd.read_csv('movie_reviews.zip')\n",
    "        # Split into testing and training datasets\n",
    "        train_df, test_df = train_test_split(movies, train_size=training_size,test_size=0.1, random_state=1)\n",
    "        # Get word counts\n",
    "        movie_word_occurences = count_word_occurences(train_df)\n",
    "        valid_words = list(movie_word_occurences.index)\n",
    "        # Classify the reviews in testing dataset\n",
    "        results = test_classifier(test_df,movie_word_occurences,valid_words)\n",
    "        classification_results.append((i*10,results[-1]))\n",
    "    return classification_results\n",
    "\n",
    "#results = generate_classification_accuracy()\n",
    "\n",
    "#with open('classification_acc_diff_training_set_size.txt','w') as f:\n",
    "#    for item in results:\n",
    "#        f.write(str(item))\n",
    "#        f.write('\\n')\n",
    "\n",
    "# Retrieve the data for visualization\n",
    "with open('classification_acc_diff_training_set_size.txt','r') as f:\n",
    "    class_acc_diff_training_sizes = f.read().splitlines()\n",
    "\n",
    "int_class_acc_diff_training_sizes = []\n",
    "for item in class_acc_diff_training_sizes:\n",
    "    # Extract the integer values from the string\n",
    "    int1 = int(item.split(',')[0].strip('('))\n",
    "    int2 = int(item.split('/')[0].split()[-1].replace(\"'\", \"\").strip())\n",
    "    int_class_acc_diff_training_sizes.append((int1, int2))\n",
    "\n",
    "\n",
    "plt.figure(figsize=(8,6),dpi=100)\n",
    "x_vals = [data[0] for data in int_class_acc_diff_training_sizes]\n",
    "y_vals = [(data[1]/5000)*100 for data in int_class_acc_diff_training_sizes]\n",
    "# Total correct is out of 5,000 values\n",
    "\n",
    "plt.bar(x_vals,y_vals,width=8,label='Classification Accuracy')\n",
    "plt.xticks(x_vals)\n",
    "plt.xlabel('Size of Training Data Set(%)')\n",
    "plt.ylabel('Classification Accuracy(%)')\n",
    "plt.title('Classification Accuracy With Different Training Set Sizes')\n",
    "plt.legend()\n",
    "\n",
    "# Set the y-axis range\n",
    "plt.ylim(85, 89)\n",
    "\n",
    "plt.show()\n",
    "\n",
    "\n",
    "def generate_class_acc(training_size):\n",
    "    train_df, test_df = train_test_split(movies, train_size=training_size,test_size=0.1, random_state=1)\n",
    "    movie_word_occurences = count_word_occurences(train_df)\n",
    "    valid_words = list(movie_word_occurences.index)\n",
    "    results = test_classifier(test_df,movie_word_occurences,valid_words)\n",
    "    \n",
    "    return results\n",
    "\n",
    "results_005 = generate_class_acc(0.005)\n",
    "results_01 = generate_class_acc(0.01)\n",
    "\n",
    "\n",
    "print(results_005[-1])\n",
    "print(results_01[-1])"
   ]
  },
  {
   "cell_type": "markdown",
   "id": "a502dda7",
   "metadata": {},
   "source": [
    "### Rotten Tomatoes Reviews"
   ]
  },
  {
   "cell_type": "code",
   "execution_count": null,
   "id": "6bb0a8b2",
   "metadata": {},
   "outputs": [],
   "source": [
    "def calculate_review_score(star_rating):\n",
    "    rating = 0.0\n",
    "    for star in star_rating:\n",
    "        if star == 'star-display__filled': # Filled stars count as 1.0/5.0\n",
    "            rating += 1.0\n",
    "        elif star == 'star-display__half': # Half stars count as 0.5/5.0\n",
    "            rating += 0.5\n",
    "        # And Empty stars do not add onto the rating score, so do not consider\n",
    "        \n",
    "    if rating < 3.0: return (rating,'negative')\n",
    "    else: return (rating,'positive')\n",
    "\n",
    "def predict_movie_review_sentiments(reviews_link):\n",
    "    # Grab data, convert to BeautifulSoup\n",
    "    audience_reviews_html = requests.get(reviews_link).text\n",
    "    soup = BeautifulSoup(audience_reviews_html)\n",
    "\n",
    "    # Reviews have the id audience-review-row', under the div class 'review_table'\n",
    "    # Grab every div with that class name\n",
    "    review_table = soup.find('div',class_='review_table')\n",
    "    audience_review_row = review_table.find_all(class_='audience-review-row')\n",
    "    \n",
    "    # We now have the html in which each review and its star rating is contained\n",
    "    # The star ratings are under the span class 'star-display' and the text for each review is under\n",
    "    # the 'p' tag class of 'audience-reviews__review js-review-text'. We want to grab the class of\n",
    "    # 'star-display', which will be 'star-display__filled','star-display__half', or 'star-display__empty.\n",
    "    # Lastly, we can then grab the actual text of the review by using the '.text' function to get the text \n",
    "    # of 'audience-reviews__review js-review-text'.\n",
    "    audience_reviews = []\n",
    "    for row in audience_review_row:\n",
    "        star_displays = (row.find(class_='star-display').find_all('span'))\n",
    "        stars = [star.get('class')[0] for star in star_displays] \n",
    "        review_text = row.find(class_='audience-reviews__review js-review-text').text\n",
    "        audience_reviews.append((stars,review_text))\n",
    "        \n",
    "    # Now with our raw data collected, we can use the function 'calculate_review_score()' to convert the \n",
    "    # star rating into a sentiment, and then use our 'rev_probs()' function to predict the sentiment\n",
    "    # of the review. Again these reviews will contain words that do not appear in our original training\n",
    "    # dataset, so we will have to drop all non-valid words again.\n",
    "    correct = 0\n",
    "    results =[]\n",
    "    for review in audience_reviews:\n",
    "        actual = calculate_review_score(review[0])\n",
    "        predicted = rev_probs(remove_non_valid_words(review[1],valid_words_no_stop_words),training_data_no_stop_words)\n",
    "        results.append((actual,predicted))\n",
    "        if actual[1]==predicted[1]:\n",
    "            correct+=1\n",
    "    results.append(('{:} / {:} = {:%}'.format(correct,len(audience_reviews),(correct/len(audience_reviews)))))\n",
    "    \n",
    "    return results\n",
    "\n",
    "the_force_awakens_reviews_link = 'https://www.rottentomatoes.com/m/star_wars_episode_vii_the_force_awakens/reviews?type=user'\n",
    "predict_movie_review_sentiments(the_force_awakens_reviews_link)\n",
    "\n",
    "goodfellas_reviews_link = 'https://www.rottentomatoes.com/m/1032176-goodfellas/reviews?type=user'\n",
    "predict_movie_review_sentiments(goodfellas_reviews_link)\n",
    "\n",
    "heat_reviews_link = 'https://www.rottentomatoes.com/m/heat_1995/reviews?type=user'\n",
    "predict_movie_review_sentiments(heat_reviews_link)\n",
    "\n",
    "pulp_fiction_reviews_link = 'https://www.rottentomatoes.com/m/pulp_fiction/reviews?type=user'\n",
    "predict_movie_review_sentiments(pulp_fiction_reviews_link)\n",
    "\n",
    "the_usual_suspects_reviews_link = 'https://www.rottentomatoes.com/m/usual_suspects/reviews?type=user'\n",
    "predict_movie_review_sentiments(the_usual_suspects_reviews_link)"
   ]
  },
  {
   "cell_type": "markdown",
   "id": "b393cb4b",
   "metadata": {},
   "source": [
    "### Presidential Debates"
   ]
  },
  {
   "cell_type": "code",
   "execution_count": null,
   "id": "d53729df",
   "metadata": {},
   "outputs": [],
   "source": [
    "debates_url = \"https://www.debates.org/voter-education/debate-transcripts/\"\n",
    "september_debate_file = 'Debate_Transcripts/September 26, 2016 Debate Transcript.html'\n",
    "october_debate_file = 'Debate_Transcripts/October 19, 2016 Debate Transcript.html'\n",
    "\n",
    "text = requests.get(debates_url).text\n",
    "soup = BeautifulSoup(text)\n",
    "links_found = soup.find('ul',class_='children').findAll('a')\n",
    "\n",
    "debate_names = []\n",
    "links = []\n",
    "\n",
    "for l in links_found:\n",
    "    debate_names.append(l.text)\n",
    "    links.append('https://www.debates.org' + l.get('href'))\n",
    "    \n",
    "    \n",
    "folder_name = 'Debate_Transcripts'\n",
    "\n",
    "for dm, l in zip(debate_names,links):\n",
    "    d = requests.get(l).text\n",
    "    s = BeautifulSoup(d)\n",
    "    transcript = s.find('div', {'id': 'content-sm'})\n",
    "    \n",
    "    # When writing to the .html file, setting the parameter encoding='utf-8' was not working, so had to remove\n",
    "    # all chars 128-256 to remove non-ascii characters\n",
    "    # The .join() method here allows all of the chars to be added to the string if and only if they have a\n",
    "    # value less than 128, which is all of the normal characters\n",
    "    transcript_clean = ''.join(c for c in str(transcript) if ord(c) < 128)\n",
    "    \n",
    "    # Write to html file under the folder\n",
    "    with open(folder_name + '/' + dm +'.html','w') as file:\n",
    "        file.write(str(transcript_clean))\n",
    "    \n",
    "    # Write to txt file under folder\n",
    "    with open(folder_name + '/' + dm +'.txt','w') as file:\n",
    "        file.write(str(transcript.text)) \n",
    "\n",
    "\n",
    "with open(september_debate_file,encoding='utf8') as fp:\n",
    "    soup = BeautifulSoup(fp, 'html.parser')\n",
    "s = soup.text\n",
    "#we want to remove the following characters and string\n",
    "punc = ',.;:!?\"'\n",
    "otherbadwords = ['--','[applause]','[inaudible]','[laughter]','[crosstalk]']\n",
    "\n",
    "# first remove punctuation\n",
    "for p in punc: \n",
    "    s = s.replace(p,'')#remove punctuation\n",
    "\n",
    "s = s.replace('—',' ')\n",
    "\n",
    "# next remove formating words that aren't helpful\n",
    "for w in otherbadwords: \n",
    "    s = s.replace(w,'')\n",
    "\n",
    "# restore colons after speaker names since these were just removed\n",
    "for sp in speakers: \n",
    "    s = s.replace(sp,sp+':')  \n",
    "\n",
    "tags_september = [ sp.lower()+':' for sp in speakers ]\n",
    "\n",
    "#make all lower case\n",
    "s = s.lower()\n",
    "\n",
    "words_september = s.split()\n",
    "\n",
    "\n",
    "print(int(len(words_september)*.7))\n",
    "words_september[int(len(words_september)*.7):(int(len(words_september)*.71))]\n",
    "\n",
    "print(words_september[12082]) # This is where we will cutoff our training and testing data\n",
    "print(12082/len(words_september))\n",
    "\n",
    "words_september_train = words_september[:12082]\n",
    "words_september_test = words_september[12082:]\n",
    "\n",
    "# identify the 3 speakers: Holt is the debate moderator\n",
    "speakers = ['HOLT','CLINTON','TRUMP']\n",
    "\n",
    "h_september = []#words used by holt\n",
    "c_september = []#words used by clinton\n",
    "t_september = []#words used by trump\n",
    "\n",
    "#let variable 'current' denote the current speaker, and update it as one goes through the text\n",
    "current =[]\n",
    "\n",
    "for w in words_september_train:# i.e., consider each word\n",
    "    if  w == tags_september[0]: #i.e., if w = holt:\n",
    "        current = h_september \n",
    "    elif w == tags_september[1]: #i.e., if w = clinton:\n",
    "        current = c_september\n",
    "    elif w == tags_september[2]: #...\n",
    "        current = t_september\n",
    "\n",
    "    # if the word is not a speaker's name, add word to the current speaker's list of words    \n",
    "    else: \n",
    "        current.append(w) \n",
    "\n",
    "holt_counter_september = Counter(h_september)\n",
    "trump_counter_september = Counter(t_september)\n",
    "clinton_counter_september = Counter(c_september)\n",
    "\n",
    "speakersDict_september = {'Holt':holt_counter_september,\n",
    "                          'Trump':trump_counter_september,\n",
    "                          'Clinton':clinton_counter_september}\n",
    "\n",
    "speakers_df_september = pd.DataFrame(speakersDict_september).fillna(0).sort_values(by=['Holt','Trump','Clinton'],ascending=False)\n",
    "speakers_df_september[['Holt','Trump','Clinton']] = speakers_df_september[['Holt','Trump','Clinton']].astype(int)\n",
    "\n",
    "speakers_df_september\n",
    "\n",
    "testing_data = ' '.join(words_september_test)\n",
    "\n",
    "# For each speaker we want to first match on their name followed by ':'\n",
    "# We then want to match any white space, non-greedily\n",
    "# Finally we want to stop our match when a different person speaks, '(?=(trump:|clinton:|$))' is \n",
    "# a lookahead assertion that matches either \"trump:\", \"clinton:\", or the end of the string\n",
    "\n",
    "holt_RE = 'holt:\\s*(.*?)(?=(trump:|clinton:|$))' \n",
    "trump_RE = 'trump:\\s*(.*?)(?=(holt:|clinton:|$))'\n",
    "clinton_RE = 'clinton:\\s*(.*?)(?=(holt:|trump:|$))'\n",
    "\n",
    "holt_texts = [text[0] for text in re.findall(holt_RE,testing_data)]\n",
    "trump_texts = [text[0] for text in re.findall(trump_RE,testing_data)]\n",
    "clinton_texts = [text[0] for text in re.findall(clinton_RE,testing_data)]\n",
    "\n",
    "def rev_probs_debates(review,training_data):\n",
    "    \n",
    "    words = review.split()\n",
    "\n",
    "    # Laplacian Smoothing \n",
    "    laplace_training_data = training_data[['Holt','Trump','Clinton']].add(1)\n",
    "    \n",
    "    tot = np.array(laplace_training_data.sum()).sum()\n",
    "    prod = np.ones(3)\n",
    "    prod[0] = laplace_training_data['Holt'].sum()/(tot)\n",
    "    prod[0] = laplace_training_data['Trump'].sum()/(tot)\n",
    "    prod[0] = laplace_training_data['Clinton'].sum()/(tot)\n",
    "    \n",
    "    for word in words:\n",
    "        w = laplace_training_data.loc[word]\n",
    "        p = w/np.array(laplace_training_data.sum())\n",
    "        prod += np.log(np.array(p))\n",
    "        \n",
    "    return (prod,['Holt','Trump','Clinton'][np.argmax(prod)]) \n",
    "\n",
    "def debate_speaker_acc(speaker_texts,speaker_name,training_data):\n",
    "    correct = 0\n",
    "    total_transcripts = len(speaker_texts)\n",
    "    for line in speaker_texts:\n",
    "        actual = speaker_name\n",
    "        prediction = rev_probs_debates(line,training_data)[1]\n",
    "        if actual == prediction:\n",
    "            correct += 1\n",
    "    return (correct,total_transcripts,(correct/total_transcripts))\n",
    "\n",
    "holt_results = debate_speaker_acc(holt_texts,'Holt',speakers_df_september)\n",
    "trump_results = debate_speaker_acc(trump_texts,'Trump',speakers_df_september)\n",
    "clinton_results = debate_speaker_acc(clinton_texts,'Clinton',speakers_df_september)\n",
    "\n",
    "print('{:} Results: {:} %'.format('Holt',holt_results[2]*100))\n",
    "print('{:} Results: {:} %'.format('Trump',trump_results[2]*100))\n",
    "print('{:} Results: {:} %'.format('Clinton',clinton_results[2]*100))\n",
    "\n",
    "plt.figure(figsize=(8,6),dpi=100)\n",
    "x_values = ['Holt','Trump','Clinton']\n",
    "y_values = [holt_results[2]*100,trump_results[2]*100,clinton_results[2]*100]\n",
    "plt.bar(x_values,y_values,width=0.5,label='Classification Accuracy')\n",
    "plt.xlabel('Speakers')\n",
    "plt.ylabel('Classification Accuracy (%)')\n",
    "plt.legend()\n",
    "plt.title('Classification Accuracy for Speakers in Presidential Debate')\n",
    "plt.ylim(50,100)\n",
    "plt.show()"
   ]
  },
  {
   "cell_type": "markdown",
   "id": "ff21b570",
   "metadata": {},
   "source": [
    "### October Debate"
   ]
  },
  {
   "cell_type": "code",
   "execution_count": null,
   "id": "85e2c492",
   "metadata": {},
   "outputs": [],
   "source": [
    "speakers_october = ['WALLACE','CLINTON','TRUMP']\n",
    "\n",
    "with open(october_debate_file,encoding='utf8') as fp:\n",
    "    soup = BeautifulSoup(fp, 'html.parser')\n",
    "s_october = soup.text\n",
    "#we want to remove the following characters and string\n",
    "punc = ',.;:!?\"'\n",
    "otherbadwords = ['--','[applause]','[inaudible]','[laughter]','[crosstalk]']\n",
    "\n",
    "# first remove punctuation\n",
    "for p in punc: \n",
    "    s_october = s_october.replace(p,'')#remove punctuation\n",
    "\n",
    "s_october = s_october.replace('—',' ')\n",
    "\n",
    "# next remove formating words that aren't helpful\n",
    "for w in otherbadwords: \n",
    "    s_october = s_october.replace(w,'')\n",
    "\n",
    "# restore colons after speaker names since these were just removed\n",
    "for sp in speakers_october: \n",
    "    s_october = s_october.replace(sp,sp+':')  \n",
    "\n",
    "tags_october = [ sp.lower()+':' for sp in speakers_october ]\n",
    "\n",
    "#make all lower case\n",
    "s_october = s_october.lower()\n",
    "\n",
    "words_october = s_october.split()\n",
    "\n",
    "\n",
    "def rev_probs_debates_oct(review,training_data):\n",
    "    \n",
    "    words = review.split()\n",
    "\n",
    "    # Laplacian Smoothing \n",
    "    laplace_training_data = training_data[['Trump','Clinton']].add(1)\n",
    "    \n",
    "    tot = np.array(laplace_training_data.sum()).sum()\n",
    "    prod = np.ones(2)\n",
    "    prod[0] = laplace_training_data['Trump'].sum()/(tot)\n",
    "    prod[0] = laplace_training_data['Clinton'].sum()/(tot)\n",
    "    \n",
    "    for word in words:\n",
    "        w = laplace_training_data.loc[word]\n",
    "        p = w/np.array(laplace_training_data.sum())\n",
    "        prod += np.log(np.array(p))\n",
    "        \n",
    "    return (prod,['Trump','Clinton'][np.argmax(prod)]) \n",
    "\n",
    "testing_data_october = ' '.join(words_october)\n",
    "trump_texts_october = [text[0] for text in re.findall(trump_RE,testing_data_october)]\n",
    "clinton_texts_october = [text[0] for text in re.findall(clinton_RE,testing_data_october)]\n",
    "\n",
    "valid_words_speakers = list(speakers_df_september.index)\n",
    "\n",
    "def remove_non_valid_words_oct(text,valid_words):   \n",
    "    return ' '.join([word for word in text.split(' ') if word in valid_words])\n",
    "\n",
    "def debate_speaker_acc_october(speaker_texts,speaker_name,training_data,valid_words):\n",
    "    correct = 0\n",
    "    total_transcripts = len(speaker_texts)\n",
    "    for line in speaker_texts:\n",
    "        line = remove_non_valid_words_oct(line,valid_words)\n",
    "        actual = speaker_name\n",
    "        prediction = rev_probs_debates(line,training_data)[1]\n",
    "        if actual == prediction:\n",
    "            correct += 1\n",
    "    return (correct,total_transcripts,(correct/total_transcripts))\n",
    "\n",
    "\n",
    "trump_results_oct = debate_speaker_acc_october(trump_texts_october,'Trump',\n",
    "                                               speakers_df_september,valid_words_speakers)\n",
    "clinton_results_oct = debate_speaker_acc_october(clinton_texts_october,'Clinton',\n",
    "                                                 speakers_df_september,valid_words_speakers)\n",
    "\n",
    "print('{:} Results: {:} %'.format('Trump',trump_results_oct[2]*100))\n",
    "print('{:} Results: {:} %'.format('Clinton',clinton_results_oct[2]*100))\n",
    "\n",
    "plt.figure(figsize=(5,6),dpi=100)\n",
    "x_values = ['Trump','Clinton']\n",
    "y_values = [trump_results[2]*100,clinton_results[2]*100]\n",
    "plt.bar(x_values,y_values,width=0.75,label='Classification Accuracy')\n",
    "plt.xlabel('Speakers')\n",
    "plt.ylabel('Classification Accuracy (%)')\n",
    "plt.legend()\n",
    "plt.title('Classification Accuracy for Speakers in October Presidential Debate')\n",
    "plt.ylim(75,100)\n",
    "plt.show()\n"
   ]
  },
  {
   "cell_type": "markdown",
   "id": "fcab9fe0",
   "metadata": {},
   "source": [
    "## Quotes Found Online"
   ]
  },
  {
   "cell_type": "code",
   "execution_count": null,
   "id": "f49040a0",
   "metadata": {},
   "outputs": [],
   "source": [
    "tQuote1 = \"\"\"As long as you are going to be thinking anyway, think big.\"\"\"\n",
    "tQuote2 = \"\"\"Show me someone without an ego, and I'll show you a loser.\"\"\"\n",
    "tQuote3 = \"\"\"I've read hundreds of books about China over the decades. I know the Chinese. I've made a lot of money with the Chinese. I understand the Chinese mind.\"\"\"\n",
    "tQuote4 = \"\"\"MY STYLE of deal-making is quite simple and straightforward. I aim very high, and then I just keep pushing and pushing and pushing to get what I’m after.\"\"\"\n",
    "tQuote5 = \"\"\"Get going. Move forward. Aim High. Plan a takeoff. Don't just sit on the runway and hope someone will come along and push the airplane. It simply won't happen. Change your attitude and gain some altitude. Believe me, you'll love it up here.\"\"\"\n",
    "\n",
    "print(rev_probs_debates(remove_non_valid_words_oct(tQuote1,valid_words_speakers),speakers_df_september))\n",
    "print(rev_probs_debates(remove_non_valid_words_oct(tQuote2,valid_words_speakers),speakers_df_september))\n",
    "print(rev_probs_debates(remove_non_valid_words_oct(tQuote3,valid_words_speakers),speakers_df_september))\n",
    "print(rev_probs_debates(remove_non_valid_words_oct(tQuote4,valid_words_speakers),speakers_df_september))\n",
    "print(rev_probs_debates(remove_non_valid_words_oct(tQuote5,valid_words_speakers),speakers_df_september))\n",
    "\n",
    "cQuote1 = \"\"\"Human rights are women’s rights, and women’s rights are human rights. Let us not forget that among those rights are the right to speak freely--and the right to be heard.\"\"\"\n",
    "cQuote2 = \"\"\"Faith is like stepping off a cliff and expecting one of two outcomes- you will either land on solid ground or you will be taught to fly.\"\"\"\n",
    "cQuote3 = \"\"\"Early on the morning of November 9, when it came time to decide on what I’d say in my concession speech, I remembered those words. Inspired by them, I wrote these: “To all the little girls who are watching this, never doubt that you are valuable and powerful and deserving of every chance and opportunity in the world to pursue and achieve your own dreams.\"\"\"\n",
    "cQuote4 = \"\"\"One thing I’ve learned over the years is how easy it is for some people to say horrible things about me when I’m not around, but how hard it is for them to look me in the eye and say it to my face.\"\"\"\n",
    "cQuote5 = \"\"\"In this world and the world of tomorrow, we must go forward together or not at all.\"\"\"\n",
    "\n",
    "print(rev_probs_debates(remove_non_valid_words_oct(cQuote1,valid_words_speakers),speakers_df_september))\n",
    "print(rev_probs_debates(remove_non_valid_words_oct(cQuote2,valid_words_speakers),speakers_df_september))\n",
    "print(rev_probs_debates(remove_non_valid_words_oct(cQuote3,valid_words_speakers),speakers_df_september))\n",
    "print(rev_probs_debates(remove_non_valid_words_oct(cQuote4,valid_words_speakers),speakers_df_september))\n",
    "print(rev_probs_debates(remove_non_valid_words_oct(cQuote5,valid_words_speakers),speakers_df_september))"
   ]
  },
  {
   "cell_type": "markdown",
   "id": "83ce9f60",
   "metadata": {},
   "source": [
    "## References\n",
    "\n",
    "* Molinari, T. (2013, September 23). Bayesian statistics: A beginner's guide. QuantStart. https://www.quantstart.com/articles/Bayesian-Statistics-A-Beginners-Guide/\n",
    "\n",
    "* Wikipedia contributors. (2023, April 22). Bayes' theorem. In Wikipedia. Retrieved April 23, 2023, from https://en.wikipedia.org/wiki/Bayes%27_theorem\n",
    "\n",
    "* regex101.com. (n.d.). regex101. Retrieved April 23, 2023, from https://regex101.com/\n",
    "\n",
    "* Friedl, J. E. F. (n.d.). Regular Expression Lookaround. RexEgg. Retrieved April 23, 2023, from https://www.rexegg.com/regex-lookarounds.html\n",
    "\n",
    "* Clinton, H. R. (n.d.). Hillary Rodham Clinton quotes (page 2 of 29). Goodreads. Retrieved April 23, 2023, from https://www.goodreads.com/author/quotes/2778471.Hillary_Rodham_Clinton?page=2\n",
    "\n",
    "* Trump, D. J., & Schwartz, T. (1987). Trump: The art of the deal. Goodreads. Retrieved April 23, 2023, from https://www.goodreads.com/work/quotes/1224415-trump-the-art-of-the-deal"
   ]
  },
  {
   "cell_type": "code",
   "execution_count": null,
   "id": "f1637a88",
   "metadata": {},
   "outputs": [],
   "source": []
  }
 ],
 "metadata": {
  "kernelspec": {
   "display_name": "Python 3 (ipykernel)",
   "language": "python",
   "name": "python3"
  },
  "language_info": {
   "codemirror_mode": {
    "name": "ipython",
    "version": 3
   },
   "file_extension": ".py",
   "mimetype": "text/x-python",
   "name": "python",
   "nbconvert_exporter": "python",
   "pygments_lexer": "ipython3",
   "version": "3.7.16"
  }
 },
 "nbformat": 4,
 "nbformat_minor": 5
}
