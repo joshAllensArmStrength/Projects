{
 "cells": [
  {
   "cell_type": "markdown",
   "id": "67e55407",
   "metadata": {},
   "source": [
    "# Project 4 - Analysis of Marathon Results\n",
    "\n",
    "### Nicholas Colan | UB: 5014 2568\n",
    "### MTH 448 | 04/28/23"
   ]
  },
  {
   "cell_type": "markdown",
   "id": "24f78f7e",
   "metadata": {},
   "source": [
    "## Introduction\n",
    "\n",
    "In this report we will explore runner data from a marathon race. This data contains information about each specific runner such as their age, gender, and country of origin. On top of that, each runner's race data is present, with their total split times for each successive 5 km all the way up to their finish time. We will use several methods to predict things about each runner in this report.\n",
    "\n",
    "We will start by using 1-dimension and 2-dimension `Kernel Density Estimates(KDE)` in conjunction with `Bayes Theorem` to try to predict whether or not a runner was male or female. A kernel density estimate is a method that estimates the probability density function of a random variable. Estimating the density of each point is done by adding up the weights from nearby points using a kernel function around each data point, and then summing up the weights of all kernels. The KDE also has a bandwidth parameter that allows one to control the width of the kernel, and therefore change the 'smoothness' of the graph of the KDE of a dataset. \n",
    "\n",
    "Bayesian inference is a statistical method used to predict outcomes about prior unknown events. This method uses Thomas Bayes' theorem, which uses prior knowledge about related events to make a prediction about the outcome of future events. We will use use Bayes Theorem in conjunction with KDE and different datapoints to make predictions about the gender of the runners.\n",
    "\n",
    "Next, we will see how these results compare with results using a `k-Nearest Neighbors(kNN)` classifier to see if this method works better or worse than when using kNN. \n",
    "\n",
    "Lastly, we will use linear regression to predict the total finish time in minutes of a runner given certain parameters. Some of these parameters will include the runner's age, gender, and different split times. We will see if we can build a regression model using data from pre-race and early stages of the race that can predict the finish time of a runner with a low degree of error."
   ]
  },
  {
   "cell_type": "code",
   "execution_count": 1,
   "id": "a38b0fcb",
   "metadata": {},
   "outputs": [],
   "source": [
    "import pandas as pd\n",
    "import numpy as np\n",
    "from sklearn.neighbors import KNeighborsClassifier\n",
    "from sklearn.model_selection import train_test_split\n",
    "from scipy.stats import norm, gaussian_kde\n",
    "import matplotlib.pyplot as plt\n",
    "from sklearn.linear_model import LinearRegression"
   ]
  },
  {
   "cell_type": "markdown",
   "id": "f05bcfe5",
   "metadata": {},
   "source": [
    "Let's start by taking a look at our data and how the dataset is constructed. We can see that every split time is represented in a `hh:mm:ss` format, which we will want to convert to minutes in order to be able to quickly process and perform calculations on. We will use `timedelta's` to convert this formatted number to seconds, and then divide by 60 to get the time to minutes."
   ]
  },
  {
   "cell_type": "code",
   "execution_count": 2,
   "id": "f13fa523",
   "metadata": {},
   "outputs": [
    {
     "data": {
      "text/html": [
       "<div>\n",
       "<style scoped>\n",
       "    .dataframe tbody tr th:only-of-type {\n",
       "        vertical-align: middle;\n",
       "    }\n",
       "\n",
       "    .dataframe tbody tr th {\n",
       "        vertical-align: top;\n",
       "    }\n",
       "\n",
       "    .dataframe thead th {\n",
       "        text-align: right;\n",
       "    }\n",
       "</style>\n",
       "<table border=\"1\" class=\"dataframe\">\n",
       "  <thead>\n",
       "    <tr style=\"text-align: right;\">\n",
       "      <th></th>\n",
       "      <th>Age</th>\n",
       "      <th>M/F</th>\n",
       "      <th>Country</th>\n",
       "      <th>5K</th>\n",
       "      <th>10K</th>\n",
       "      <th>15K</th>\n",
       "      <th>20K</th>\n",
       "      <th>Half</th>\n",
       "      <th>25K</th>\n",
       "      <th>30K</th>\n",
       "      <th>35K</th>\n",
       "      <th>40K</th>\n",
       "      <th>Finish</th>\n",
       "      <th>Pace</th>\n",
       "      <th>Overall</th>\n",
       "      <th>Gender</th>\n",
       "      <th>Division</th>\n",
       "      <th>tot_minutes</th>\n",
       "    </tr>\n",
       "  </thead>\n",
       "  <tbody>\n",
       "    <tr>\n",
       "      <th>0</th>\n",
       "      <td>25</td>\n",
       "      <td>M</td>\n",
       "      <td>ETH</td>\n",
       "      <td>00:14:43</td>\n",
       "      <td>00:29:43</td>\n",
       "      <td>00:44:57</td>\n",
       "      <td>01:00:29</td>\n",
       "      <td>01:04:02</td>\n",
       "      <td>01:16:07</td>\n",
       "      <td>01:32:00</td>\n",
       "      <td>01:47:59</td>\n",
       "      <td>02:02:39</td>\n",
       "      <td>02:09:17</td>\n",
       "      <td>00:04:56</td>\n",
       "      <td>1</td>\n",
       "      <td>1</td>\n",
       "      <td>1</td>\n",
       "      <td>129.283333</td>\n",
       "    </tr>\n",
       "  </tbody>\n",
       "</table>\n",
       "</div>"
      ],
      "text/plain": [
       "   Age M/F Country        5K       10K       15K       20K      Half  \\\n",
       "0   25   M     ETH  00:14:43  00:29:43  00:44:57  01:00:29  01:04:02   \n",
       "\n",
       "        25K       30K       35K       40K    Finish      Pace  Overall  \\\n",
       "0  01:16:07  01:32:00  01:47:59  02:02:39  02:09:17  00:04:56        1   \n",
       "\n",
       "   Gender  Division  tot_minutes  \n",
       "0       1         1   129.283333  "
      ]
     },
     "execution_count": 2,
     "metadata": {},
     "output_type": "execute_result"
    }
   ],
   "source": [
    "marathon_results_df = pd.read_csv('marathon_results.csv')\n",
    "marathon_results_df['tot_minutes'] = pd.to_timedelta(marathon_results_df['Finish']).dt.total_seconds()/60\n",
    "marathon_results_df.head(1)"
   ]
  },
  {
   "cell_type": "markdown",
   "id": "6fee59e2",
   "metadata": {},
   "source": [
    "We want to first split our data into training and testing data, we will use `80%` for training data and `20%` for testing data. From there let's seperate the dataset into male and female data using the `M/F` column."
   ]
  },
  {
   "cell_type": "code",
   "execution_count": 3,
   "id": "ded7525a",
   "metadata": {},
   "outputs": [],
   "source": [
    "marathon_train_df,marathon_test_df = train_test_split(marathon_results_df,test_size=0.2,random_state=123)"
   ]
  },
  {
   "cell_type": "code",
   "execution_count": 4,
   "id": "3d16ba19",
   "metadata": {},
   "outputs": [],
   "source": [
    "male_times_df = marathon_train_df[marathon_train_df['M/F']=='M']\n",
    "female_times_df = marathon_train_df[marathon_train_df['M/F']=='F']"
   ]
  },
  {
   "cell_type": "markdown",
   "id": "04d2b6c3",
   "metadata": {},
   "source": [
    "### 1-D Kernel Density Estimate\n",
    "\n",
    "We will start with a bandwidth value of `0.1` for our KDE:"
   ]
  },
  {
   "cell_type": "markdown",
   "id": "ed1ff819",
   "metadata": {},
   "source": [
    "Now we will use this kernel density estimate in conjunction with Bayes' Theorem to predict whether or not the runner was male or female. Bayes' Theroem states:\n",
    "\n",
    "$P(H|E) = \\frac{P(E|H)*P(H)}{P(E)}$ , where:\n",
    "\n",
    "* P(H) = Probability of the hypothesis \n",
    "* P(E) = Probability of evidence\n",
    "\n",
    "If we want to predict whether or not the runner was female`('F')` given their finish time`('tot_minutes')` we would have:\n",
    "\n",
    "$P(F|totalMinutes) = \\frac{P(totalMinutes|F)*P(F)}{P(totalMinutes)}$ `[1]`\n",
    "\n",
    "The probability that a runner was female, `P(F)`, is easy to calculate, we will just divide the number of females by the number of total marathon participants:"
   ]
  },
  {
   "cell_type": "code",
   "execution_count": 7,
   "id": "00a8f0a5",
   "metadata": {},
   "outputs": [
    {
     "name": "stdout",
     "output_type": "stream",
     "text": [
      "Males: 54.7723167601483%\n",
      "Females: 45.22768323985169%\n"
     ]
    }
   ],
   "source": [
    "prob_male = len(male_times_df) / (len(male_times_df)+len(female_times_df))\n",
    "prob_female = len(female_times_df) / (len(male_times_df)+len(female_times_df))\n",
    "print('Males: {:}%'.format(prob_male*100))\n",
    "print('Females: {:}%'.format(prob_female*100))"
   ]
  },
  {
   "cell_type": "markdown",
   "id": "83cf012b",
   "metadata": {},
   "source": [
    "We can see that a little over `45%` of the total participants in the marathon were female. Now we want to calculate the probability of a finish time `tot_minutes` given that the runner was female, `P(totalMinutes|F)`.\n",
    "\n",
    "We want to compute the estimated probability density of the finish time `tot_minutes` under the female runners' kernel density estimate. To do this we will use our calculated Kernel Density Estimate to calculate the estimated probability density at the point.\n",
    "\n",
    "To calculate `P(totMinutes)`, we need to calculate:\n",
    "\n",
    "$P(totMinutes|F)P(F) + P(totMinutes|F')P(F')$, where F' inverse of female which would equal male, giving us:\n",
    "\n",
    "$P(totMinutes) = P(totMinutes|F)P(F) + P(totMinutes|M)P(M)$.  `[1]`\n",
    "\n",
    "With our Bayes equation and KDE set, we can use these two to predict whether a runner was male or female given their finish time. If we calculate our probability of a runner being female given their finish time to be more than the probability that the unner was male, we will predict that runner was female. If not, we will predict that the runner was a male. The method `bayes_prediction_1D_KDE()` takes three parameters:\n",
    "\n",
    "* `testing_data` - Our test marathon data\n",
    "* `kde_males` - The gaussian kde of male runner times\n",
    "* `kde_females` - The gaussian kde of female runner times\n",
    "\n",
    "And returns the percentage of correct predictions as well as a list of predictions."
   ]
  },
  {
   "cell_type": "code",
   "execution_count": 8,
   "id": "06b70288",
   "metadata": {},
   "outputs": [],
   "source": [
    "def bayes_prediction_1D_KDE(testing_data,kde_males,kde_females):\n",
    "    runner_gender_predictions = []\n",
    "    correct = 0\n",
    "    \n",
    "    # Iterate through each row of the dataframe\n",
    "    for index,row in testing_data.iterrows():\n",
    "        predicted_gender = ''\n",
    "        tot_min = row['tot_minutes']\n",
    "        gender = row['M/F']\n",
    "\n",
    "        # Compute the kde of a total time for males/females\n",
    "        prob_tot_minutes_given_male = kde_males(tot_min)\n",
    "        prob_tot_minutes_given_female = kde_females(tot_min)\n",
    "        # Compute P(totalMinutes)\n",
    "        prob_tot_minutes = (prob_tot_minutes_given_female * prob_female) + (prob_tot_minutes_given_male * prob_male)\n",
    "        # Now compute bayes for male/female\n",
    "        probability_female_given_tot_minutes = (prob_tot_minutes_given_female * prob_female) / prob_tot_minutes\n",
    "        probability_male_given_tot_minutes = (prob_tot_minutes_given_male * prob_male) / prob_tot_minutes\n",
    "\n",
    "\n",
    "        # If probability for bayes female > bayes male, say that the runner was female and vice versa\n",
    "        if probability_female_given_tot_minutes > probability_male_given_tot_minutes:\n",
    "            predicted_gender = 'F'\n",
    "        elif probability_female_given_tot_minutes < probability_male_given_tot_minutes: \n",
    "            predicted_gender = 'M'\n",
    "        if predicted_gender == gender:\n",
    "            correct += 1\n",
    "        runner_gender_predictions.append(predicted_gender)\n",
    "            \n",
    "    return((correct/len(testing_data))*100,runner_gender_predictions)"
   ]
  },
  {
   "cell_type": "code",
   "execution_count": 10,
   "id": "0eec0970",
   "metadata": {},
   "outputs": [
    {
     "data": {
      "text/plain": [
       "65.34220532319391"
      ]
     },
     "execution_count": 10,
     "metadata": {},
     "output_type": "execute_result"
    }
   ],
   "source": [
    "# Calculate the KDE for males and females\n",
    "kde_males = gaussian_kde(male_times_df['tot_minutes'],bw_method=.1)\n",
    "kde_females = gaussian_kde(female_times_df['tot_minutes'],bw_method=.1)\n",
    "\n",
    "bayes_prediction_1D_KDE(marathon_test_df,kde_males,kde_females)[0]"
   ]
  },
  {
   "cell_type": "markdown",
   "id": "afaa3a94",
   "metadata": {},
   "source": [
    "We can see that we were able to correctly predict the gender of the runner about `65%` of the time when using 1-D KDE in conjunction with Bayes theorem when using a bandwidth value of `0.1`. Let's test bandwidth values between `0.1 and 2` to see how much the classification accuracy changes. The commented out code below will generate and save these results in a file named `accuracy_kde1D.txt` for quick access."
   ]
  },
  {
   "cell_type": "code",
   "execution_count": 11,
   "id": "f4366206",
   "metadata": {},
   "outputs": [],
   "source": [
    "#class_acc_kde_1d = []\n",
    "#for i in range(1,21,1): \n",
    "    #bw = i/10\n",
    "    #kde_males_1D = gaussian_kde(male_times_df['tot_minutes'], bw_method=bw)\n",
    "    #kde_females_1D = gaussian_kde(female_times_df['tot_minutes'], bw_method=bw)\n",
    "    #accuracy = bayes_prediction_1D_KDE(marathon_test_df,kde_males_1D,kde_females_1D)[0]\n",
    "    #class_acc_kde_1d.append((bw,accuracy))"
   ]
  },
  {
   "cell_type": "code",
   "execution_count": 12,
   "id": "cdf6abe9",
   "metadata": {},
   "outputs": [],
   "source": [
    "#with open('accuracy_kde1D.txt','w') as f:\n",
    "    #for line in class_acc_kde_1d:\n",
    "        #f.write('{:} | {:}'.format(line[0],line[1]))\n",
    "        #f.write('\\n')"
   ]
  },
  {
   "cell_type": "code",
   "execution_count": 13,
   "id": "33b3cb06",
   "metadata": {},
   "outputs": [],
   "source": [
    "with open('accuracy_kde1D.txt','r') as f:\n",
    "    # These values get stored in the file as a string with format: bandwidth | accuracy\n",
    "    # Split on ' | ' and convert to float for visualization\n",
    "    results_1D = np.array([value.strip().split(' | ') for value in f],dtype=float)"
   ]
  },
  {
   "cell_type": "code",
   "execution_count": 15,
   "id": "b9eea390",
   "metadata": {},
   "outputs": [
    {
     "data": {
      "image/png": "[encoded data removed]",
      "text/plain": [
       "<Figure size 700x500 with 1 Axes>"
      ]
     },
     "metadata": {},
     "output_type": "display_data"
    }
   ],
   "source": [
    "x_1d = [value[0] for value in results_1D]\n",
    "y_1d = [value[1] for value in results_1D]\n",
    "\n",
    "\n",
    "plt.figure(figsize=(7,5),dpi=100)\n",
    "plt.plot(x_1d,y_1d,label='Accuracy')\n",
    "plt.xticks(ticks=x_1d)\n",
    "plt.xlabel('Bandwidth Size')\n",
    "plt.ylabel('Classification Accuracy (%)')\n",
    "plt.title('Classification Accuracy of 1-D KDE With Differing Bandwidth Size')\n",
    "plt.legend()\n",
    "# Create a grid on the plot for visualization, 'alpha' parameter sets opacity\n",
    "plt.grid(True,alpha=0.25)\n",
    "plt.show()"
   ]
  },
  {
   "cell_type": "markdown",
   "id": "93b33817",
   "metadata": {},
   "source": [
    "We can see that at a bandwidth size of `0.4`, we get our most accurate classification of about `65.5%`. We can also see that as the bandwidth size continues to increase, the classification accuracy drops."
   ]
  },
  {
   "cell_type": "markdown",
   "id": "b475648b",
   "metadata": {},
   "source": [
    "### 2-D Kernel Density Estimate\n",
    "\n",
    "We will now also factor in age in addition to total minutes to predict our runners' genders, this will be a 2-Dimensional KDE. The method `bayes_prediction_2D_KDE()` takes three parameters:\n",
    "\n",
    "* `testing_data` - Our test marathon data\n",
    "* `kde_males` - The gaussian kde of male runner times\n",
    "* `kde_females` - The gaussian kde of female runner times\n",
    "\n",
    "And returns the percentage of correct predictions as well as a list of predictions."
   ]
  },
  {
   "cell_type": "code",
   "execution_count": 16,
   "id": "99becd37",
   "metadata": {},
   "outputs": [],
   "source": [
    "def bayes_prediction_2D_KDE(testing_data,kde_males,kde_females):\n",
    "    runner_gender_predictions = []\n",
    "    correct = 0\n",
    "    \n",
    "    for index,row in testing_data.iterrows():\n",
    "        predicted_gender = ''\n",
    "        tot_min = row['tot_minutes']\n",
    "        gender = row['M/F']\n",
    "        age = row['Age']\n",
    "\n",
    "        prob_tot_minutes_age_given_male = kde_males((tot_min,age)) \n",
    "        prob_tot_minutes_age_given_female = kde_females((tot_min,age))\n",
    "        prob_tot_minutes_age = (prob_tot_minutes_age_given_female * prob_female) + (prob_tot_minutes_age_given_male * prob_male)\n",
    "        probability_female_given_tot_minutes_age = (prob_tot_minutes_age_given_female * prob_female) / prob_tot_minutes_age\n",
    "        probability_male_given_tot_minutes_age = (prob_tot_minutes_age_given_male * prob_male) / prob_tot_minutes_age\n",
    "\n",
    "\n",
    "        if probability_female_given_tot_minutes_age > probability_male_given_tot_minutes_age:\n",
    "            predicted_gender = 'F'\n",
    "        elif probability_female_given_tot_minutes_age < probability_male_given_tot_minutes_age: \n",
    "            predicted_gender = 'M'\n",
    "        if predicted_gender == gender:\n",
    "            correct += 1\n",
    "        runner_gender_predictions.append(predicted_gender)\n",
    "\n",
    "    return((correct/len(testing_data))*100,runner_gender_predictions)"
   ]
  },
  {
   "cell_type": "code",
   "execution_count": 17,
   "id": "c87fe78a",
   "metadata": {},
   "outputs": [
    {
     "data": {
      "text/plain": [
       "76.00760456273764"
      ]
     },
     "execution_count": 17,
     "metadata": {},
     "output_type": "execute_result"
    }
   ],
   "source": [
    "kde_males_2D = gaussian_kde(male_times_df[['tot_minutes','Age']].T, bw_method=.1)\n",
    "kde_females_2D = gaussian_kde(female_times_df[['tot_minutes','Age']].T, bw_method=.1)\n",
    "\n",
    "bayes_prediction_2D_KDE(marathon_test_df,kde_males_2D,kde_females_2D)[0]"
   ]
  },
  {
   "cell_type": "markdown",
   "id": "17db1cad",
   "metadata": {},
   "source": [
    "We can see that when adding in an additional dimension to the KDE, our classification accuracy improved to `76%`. This is a nice improvement of over `10%` compared to the 1-D KDE model. Now let's see how different values of bandwith affect this 2-D KDE. We will look at values between `0.1 and 2`. The commented out code below will generate and save these results in a file named `accuracy_kde2D.txt` for quick access."
   ]
  },
  {
   "cell_type": "code",
   "execution_count": 18,
   "id": "2eda6640",
   "metadata": {},
   "outputs": [],
   "source": [
    "#class_acc_kde_2d = []\n",
    "#for i in range(1,21,1): \n",
    "    #bw = i/10\n",
    "    #kde_males_2D = gaussian_kde(male_times_df[['tot_minutes','Age']].T, bw_method=bw)\n",
    "    #kde_females_2D = gaussian_kde(female_times_df[['tot_minutes','Age']].T, bw_method=bw)\n",
    "    #accuracy = bayes_prediction_2D_KDE(marathon_test_df,kde_males_2D,kde_females_2D)[0]\n",
    "    #class_acc_kde_2d.append((bw,accuracy))"
   ]
  },
  {
   "cell_type": "code",
   "execution_count": 19,
   "id": "088dec90",
   "metadata": {},
   "outputs": [],
   "source": [
    "#with open('accuracy_kde2D.txt','w') as f:\n",
    "    #for line in class_acc_kde_2d:\n",
    "        #f.write('{:} | {:}'.format(line[0],line[1]))\n",
    "        #f.write('\\n')"
   ]
  },
  {
   "cell_type": "code",
   "execution_count": 20,
   "id": "f06823a2",
   "metadata": {},
   "outputs": [],
   "source": [
    "with open('accuracy_kde2D.txt','r') as f:\n",
    "    results_2D = np.array([value.strip().split(' | ') for value in f],dtype=float)"
   ]
  },
  {
   "cell_type": "code",
   "execution_count": 21,
   "id": "17e451b7",
   "metadata": {},
   "outputs": [
    {
     "data": {
      "image/png": "[encoded data removed]",
      "text/plain": [
       "<Figure size 700x500 with 1 Axes>"
      ]
     },
     "metadata": {},
     "output_type": "display_data"
    }
   ],
   "source": [
    "x_2d = [value[0] for value in results_2D]\n",
    "y_2d = [value[1] for value in results_2D]\n",
    "\n",
    "\n",
    "plt.figure(figsize=(7,5),dpi=100)\n",
    "plt.plot(x_2d,y_2d,label='Accuracy')\n",
    "plt.xticks(ticks=x_2d)\n",
    "plt.xlabel('Bandwidth Size')\n",
    "plt.ylabel('Classification Accuracy (%)')\n",
    "plt.title('Classification Accuracy of 2-D KDE With Differing Bandwidth Size')\n",
    "plt.legend()\n",
    "plt.grid(True,alpha=0.25)\n",
    "plt.show()"
   ]
  },
  {
   "cell_type": "markdown",
   "id": "24250c0a",
   "metadata": {},
   "source": [
    "We can see that our 2-D KDE was most successful with a bandwidth value of `0.3`, at slightly over `76%`. Again, we can see that as the bandwidth size continues to increase, our classification accuracy decreases."
   ]
  },
  {
   "cell_type": "markdown",
   "id": "2472df39",
   "metadata": {},
   "source": [
    "## Using K-Nearest Neighbors to Predict Runner Genders\n",
    "\n",
    "We are now going to look at how well the k-Nearest Neighbors algorithm performs at classifying the sex of a runner given the runners that finished just before or after them. We will use `k=10` here for our algorithm. First lets look at the kernel density estimates of finish times of runners for both male and try to predict how our kNN classifier will perform. We will set the bandwidth parameter here to be quite small so that we can get a better sense of male and female runner distributions."
   ]
  },
  {
   "cell_type": "code",
   "execution_count": 22,
   "id": "690d77bb",
   "metadata": {},
   "outputs": [
    {
     "data": {
      "image/png": "[encoded data removed]",
      "text/plain": [
       "<Figure size 700x500 with 1 Axes>"
      ]
     },
     "metadata": {},
     "output_type": "display_data"
    }
   ],
   "source": [
    "male_times_df = marathon_train_df[marathon_train_df['M/F']=='M']\n",
    "female_times_df = marathon_train_df[marathon_train_df['M/F']=='F']\n",
    "\n",
    "kde_male = gaussian_kde(male_times_df['tot_minutes'], bw_method=.01)\n",
    "kde_female = gaussian_kde(female_times_df['tot_minutes'], bw_method=.01)\n",
    "\n",
    "plt.figure(figsize=(7, 5),dpi=100)\n",
    "x = np.linspace(male_times_df['tot_minutes'].min(),male_times_df['tot_minutes'].max(),400)\n",
    "plt.plot(x, kde_male(x),label='Males',color='green')\n",
    "plt.plot(x, kde_female(x),label='Females',color='purple')\n",
    "plt.grid(True,alpha=0.5)\n",
    "plt.xlabel('Range of Finish Time in Minutes')\n",
    "plt.ylabel('Kernel Density Estimate')\n",
    "plt.title('Kernel Density Estimates for Male and Female Finish Times')\n",
    "plt.legend()\n",
    "plt.show()"
   ]
  },
  {
   "cell_type": "markdown",
   "id": "17d24426",
   "metadata": {},
   "source": [
    "We can see that before the `~175` minute mark, we mostly have male runners. The kNN classifier should perform well here. Once we reach to about the `200` minute mark, we can see that there is a pretty even distribution of male and female runners. At this point our kNN classifier should perform at a pretty random rate of around `50%` as every runner should have a roughly even distribution of both male and female runners that finish just before and after them. With these points in mind, it would make sense that overall our k-NN classifier would perform at over a `50%` success rate. This can be attributed to getting a lot of the male runners with sub-200 minute times correct, and then going at about a `50%` success rate the rest of the way."
   ]
  },
  {
   "cell_type": "markdown",
   "id": "9afa3157",
   "metadata": {},
   "source": [
    "### 1-D k-NN: Using Only Finish Times"
   ]
  },
  {
   "cell_type": "code",
   "execution_count": 23,
   "id": "50d8481e",
   "metadata": {},
   "outputs": [
    {
     "data": {
      "text/plain": [
       "61.82509505703422"
      ]
     },
     "execution_count": 23,
     "metadata": {},
     "output_type": "execute_result"
    }
   ],
   "source": [
    "k=10\n",
    "neigh=KNeighborsClassifier(n_neighbors=k)\n",
    "neigh.fit(marathon_train_df[['tot_minutes']],marathon_train_df['M/F'])\n",
    "\n",
    "# 1-D kNN\n",
    "knn_pred = neigh.predict(marathon_test_df[['tot_minutes']])\n",
    "# This line creates a boolean array 'compare' whose values are either True or False, true if the prediction\n",
    "# is equal to the actual runner data, and false if not\n",
    "compare = np.array(knn_pred) == np.array(marathon_test_df['M/F'])\n",
    "# The .sum() method will compute how many True values are in the the 'compare' array\n",
    "compare.sum() / len(compare) * 100"
   ]
  },
  {
   "cell_type": "markdown",
   "id": "aad447b5",
   "metadata": {},
   "source": [
    "### 2-D k-NN: Using Finish Times and Age"
   ]
  },
  {
   "cell_type": "code",
   "execution_count": 24,
   "id": "a51872d3",
   "metadata": {},
   "outputs": [
    {
     "data": {
      "text/plain": [
       "74.1254752851711"
      ]
     },
     "execution_count": 24,
     "metadata": {},
     "output_type": "execute_result"
    }
   ],
   "source": [
    "k=10\n",
    "neigh=KNeighborsClassifier(n_neighbors=k)\n",
    "neigh.fit(marathon_train_df[['tot_minutes','Age']],marathon_train_df['M/F'])\n",
    "\n",
    "# 2-D kNN\n",
    "knn_pred = neigh.predict(marathon_test_df[['tot_minutes','Age']])\n",
    "compare = np.array(knn_pred) == np.array(marathon_test_df['M/F'])\n",
    "compare.sum() / len(compare) * 100"
   ]
  },
  {
   "cell_type": "markdown",
   "id": "2786b475",
   "metadata": {},
   "source": [
    "We can see that our k-NN classifier performed pretty well at classifying runners with a k value of 10. The k-NN classifier was just slightly worse than the KDE percentage wise than the KDE classifier for both the 1-D and 2-D cases. \n",
    "\n",
    "The `1-D KDE` was correct about `65%` of the time compared to the `1-D kNN` being correct about `61%` of the time, while The `2-D KDE` was correct about `76%` of the time compared to the `2-D kNN` being correct about `74%` of the time. These results confirm our prediction that our k-NN classifier would perform at over a `50%` success rate."
   ]
  },
  {
   "cell_type": "markdown",
   "id": "a06c1d80",
   "metadata": {},
   "source": [
    "## Using Linear Regression\n",
    "\n",
    "We will now make use of linear regression to predict finish times (in minutes) for runners. Linear regression models the relationship between a dependent variable and one or more independent variables. In this case the independent variables will be data such as 5k times, age, gender, etc. The dependent variable will be the finish time in minutes. We will first start with only using a runner's 5k time to predict their finish time. The predicted finish time of the runner will be stored in minutes under the column named 'regression'.\n",
    "\n",
    "### Using Only 5K Times:"
   ]
  },
  {
   "cell_type": "code",
   "execution_count": 25,
   "id": "0b594bb3",
   "metadata": {},
   "outputs": [
    {
     "data": {
      "text/html": [
       "<div>\n",
       "<style scoped>\n",
       "    .dataframe tbody tr th:only-of-type {\n",
       "        vertical-align: middle;\n",
       "    }\n",
       "\n",
       "    .dataframe tbody tr th {\n",
       "        vertical-align: top;\n",
       "    }\n",
       "\n",
       "    .dataframe thead th {\n",
       "        text-align: right;\n",
       "    }\n",
       "</style>\n",
       "<table border=\"1\" class=\"dataframe\">\n",
       "  <thead>\n",
       "    <tr style=\"text-align: right;\">\n",
       "      <th></th>\n",
       "      <th>Age</th>\n",
       "      <th>M/F</th>\n",
       "      <th>Country</th>\n",
       "      <th>5K</th>\n",
       "      <th>10K</th>\n",
       "      <th>15K</th>\n",
       "      <th>20K</th>\n",
       "      <th>Half</th>\n",
       "      <th>25K</th>\n",
       "      <th>30K</th>\n",
       "      <th>35K</th>\n",
       "      <th>40K</th>\n",
       "      <th>Finish</th>\n",
       "      <th>Pace</th>\n",
       "      <th>Overall</th>\n",
       "      <th>Gender</th>\n",
       "      <th>Division</th>\n",
       "      <th>5k_tot_minutes</th>\n",
       "      <th>tot_minutes</th>\n",
       "      <th>regression</th>\n",
       "    </tr>\n",
       "  </thead>\n",
       "  <tbody>\n",
       "    <tr>\n",
       "      <th>0</th>\n",
       "      <td>25</td>\n",
       "      <td>M</td>\n",
       "      <td>ETH</td>\n",
       "      <td>00:14:43</td>\n",
       "      <td>00:29:43</td>\n",
       "      <td>00:44:57</td>\n",
       "      <td>01:00:29</td>\n",
       "      <td>01:04:02</td>\n",
       "      <td>01:16:07</td>\n",
       "      <td>01:32:00</td>\n",
       "      <td>01:47:59</td>\n",
       "      <td>02:02:39</td>\n",
       "      <td>02:09:17</td>\n",
       "      <td>00:04:56</td>\n",
       "      <td>1</td>\n",
       "      <td>1</td>\n",
       "      <td>1</td>\n",
       "      <td>14.716667</td>\n",
       "      <td>129.283333</td>\n",
       "      <td>127.007239</td>\n",
       "    </tr>\n",
       "    <tr>\n",
       "      <th>1</th>\n",
       "      <td>30</td>\n",
       "      <td>M</td>\n",
       "      <td>ETH</td>\n",
       "      <td>00:14:43</td>\n",
       "      <td>00:29:43</td>\n",
       "      <td>00:44:58</td>\n",
       "      <td>01:00:28</td>\n",
       "      <td>01:04:01</td>\n",
       "      <td>01:16:07</td>\n",
       "      <td>01:31:59</td>\n",
       "      <td>01:47:59</td>\n",
       "      <td>02:02:42</td>\n",
       "      <td>02:09:48</td>\n",
       "      <td>00:04:58</td>\n",
       "      <td>2</td>\n",
       "      <td>2</td>\n",
       "      <td>2</td>\n",
       "      <td>14.716667</td>\n",
       "      <td>129.800000</td>\n",
       "      <td>127.007239</td>\n",
       "    </tr>\n",
       "    <tr>\n",
       "      <th>2</th>\n",
       "      <td>29</td>\n",
       "      <td>M</td>\n",
       "      <td>KEN</td>\n",
       "      <td>00:14:43</td>\n",
       "      <td>00:29:43</td>\n",
       "      <td>00:44:57</td>\n",
       "      <td>01:00:29</td>\n",
       "      <td>01:04:02</td>\n",
       "      <td>01:16:07</td>\n",
       "      <td>01:32:00</td>\n",
       "      <td>01:47:59</td>\n",
       "      <td>02:03:01</td>\n",
       "      <td>02:10:22</td>\n",
       "      <td>00:04:59</td>\n",
       "      <td>3</td>\n",
       "      <td>3</td>\n",
       "      <td>3</td>\n",
       "      <td>14.716667</td>\n",
       "      <td>130.366667</td>\n",
       "      <td>127.007239</td>\n",
       "    </tr>\n",
       "    <tr>\n",
       "      <th>3</th>\n",
       "      <td>28</td>\n",
       "      <td>M</td>\n",
       "      <td>KEN</td>\n",
       "      <td>00:14:43</td>\n",
       "      <td>00:29:44</td>\n",
       "      <td>00:45:01</td>\n",
       "      <td>01:00:29</td>\n",
       "      <td>01:04:02</td>\n",
       "      <td>01:16:07</td>\n",
       "      <td>01:32:00</td>\n",
       "      <td>01:48:03</td>\n",
       "      <td>02:03:47</td>\n",
       "      <td>02:10:47</td>\n",
       "      <td>00:05:00</td>\n",
       "      <td>4</td>\n",
       "      <td>4</td>\n",
       "      <td>4</td>\n",
       "      <td>14.716667</td>\n",
       "      <td>130.783333</td>\n",
       "      <td>127.007239</td>\n",
       "    </tr>\n",
       "    <tr>\n",
       "      <th>4</th>\n",
       "      <td>32</td>\n",
       "      <td>M</td>\n",
       "      <td>KEN</td>\n",
       "      <td>00:14:43</td>\n",
       "      <td>00:29:44</td>\n",
       "      <td>00:44:58</td>\n",
       "      <td>01:00:28</td>\n",
       "      <td>01:04:01</td>\n",
       "      <td>01:16:07</td>\n",
       "      <td>01:32:00</td>\n",
       "      <td>01:47:59</td>\n",
       "      <td>02:03:27</td>\n",
       "      <td>02:10:49</td>\n",
       "      <td>00:05:00</td>\n",
       "      <td>5</td>\n",
       "      <td>5</td>\n",
       "      <td>5</td>\n",
       "      <td>14.716667</td>\n",
       "      <td>130.816667</td>\n",
       "      <td>127.007239</td>\n",
       "    </tr>\n",
       "    <tr>\n",
       "      <th>...</th>\n",
       "      <td>...</td>\n",
       "      <td>...</td>\n",
       "      <td>...</td>\n",
       "      <td>...</td>\n",
       "      <td>...</td>\n",
       "      <td>...</td>\n",
       "      <td>...</td>\n",
       "      <td>...</td>\n",
       "      <td>...</td>\n",
       "      <td>...</td>\n",
       "      <td>...</td>\n",
       "      <td>...</td>\n",
       "      <td>...</td>\n",
       "      <td>...</td>\n",
       "      <td>...</td>\n",
       "      <td>...</td>\n",
       "      <td>...</td>\n",
       "      <td>...</td>\n",
       "      <td>...</td>\n",
       "      <td>...</td>\n",
       "    </tr>\n",
       "    <tr>\n",
       "      <th>26293</th>\n",
       "      <td>64</td>\n",
       "      <td>F</td>\n",
       "      <td>USA</td>\n",
       "      <td>00:50:15</td>\n",
       "      <td>01:43:31</td>\n",
       "      <td>02:36:53</td>\n",
       "      <td>03:32:26</td>\n",
       "      <td>03:43:46</td>\n",
       "      <td>04:25:53</td>\n",
       "      <td>05:19:44</td>\n",
       "      <td>06:17:19</td>\n",
       "      <td>07:13:34</td>\n",
       "      <td>07:38:56</td>\n",
       "      <td>00:17:31</td>\n",
       "      <td>26594</td>\n",
       "      <td>12015</td>\n",
       "      <td>269</td>\n",
       "      <td>50.250000</td>\n",
       "      <td>458.933333</td>\n",
       "      <td>452.549834</td>\n",
       "    </tr>\n",
       "    <tr>\n",
       "      <th>26294</th>\n",
       "      <td>61</td>\n",
       "      <td>F</td>\n",
       "      <td>USA</td>\n",
       "      <td>00:48:36</td>\n",
       "      <td>01:39:39</td>\n",
       "      <td>02:39:13</td>\n",
       "      <td>03:35:58</td>\n",
       "      <td>03:47:55</td>\n",
       "      <td>04:32:44</td>\n",
       "      <td>05:31:58</td>\n",
       "      <td>06:28:56</td>\n",
       "      <td>07:26:19</td>\n",
       "      <td>07:51:30</td>\n",
       "      <td>00:17:59</td>\n",
       "      <td>26595</td>\n",
       "      <td>12016</td>\n",
       "      <td>270</td>\n",
       "      <td>48.600000</td>\n",
       "      <td>471.500000</td>\n",
       "      <td>437.433175</td>\n",
       "    </tr>\n",
       "    <tr>\n",
       "      <th>26295</th>\n",
       "      <td>66</td>\n",
       "      <td>F</td>\n",
       "      <td>USA</td>\n",
       "      <td>00:53:03</td>\n",
       "      <td>01:47:16</td>\n",
       "      <td>02:41:45</td>\n",
       "      <td>03:37:07</td>\n",
       "      <td>03:48:21</td>\n",
       "      <td>04:33:51</td>\n",
       "      <td>05:38:56</td>\n",
       "      <td>06:38:51</td>\n",
       "      <td>07:36:18</td>\n",
       "      <td>07:59:33</td>\n",
       "      <td>00:18:18</td>\n",
       "      <td>26596</td>\n",
       "      <td>12017</td>\n",
       "      <td>91</td>\n",
       "      <td>53.050000</td>\n",
       "      <td>479.550000</td>\n",
       "      <td>478.202346</td>\n",
       "    </tr>\n",
       "    <tr>\n",
       "      <th>26296</th>\n",
       "      <td>53</td>\n",
       "      <td>M</td>\n",
       "      <td>USA</td>\n",
       "      <td>00:49:04</td>\n",
       "      <td>01:40:12</td>\n",
       "      <td>02:33:31</td>\n",
       "      <td>03:31:41</td>\n",
       "      <td>03:43:35</td>\n",
       "      <td>04:29:20</td>\n",
       "      <td>05:31:11</td>\n",
       "      <td>06:33:35</td>\n",
       "      <td>07:35:38</td>\n",
       "      <td>08:00:37</td>\n",
       "      <td>00:18:20</td>\n",
       "      <td>26597</td>\n",
       "      <td>14580</td>\n",
       "      <td>2055</td>\n",
       "      <td>49.066667</td>\n",
       "      <td>480.616667</td>\n",
       "      <td>441.708594</td>\n",
       "    </tr>\n",
       "    <tr>\n",
       "      <th>26297</th>\n",
       "      <td>62</td>\n",
       "      <td>M</td>\n",
       "      <td>USA</td>\n",
       "      <td>00:40:14</td>\n",
       "      <td>01:28:18</td>\n",
       "      <td>02:26:46</td>\n",
       "      <td>03:28:41</td>\n",
       "      <td>03:40:36</td>\n",
       "      <td>04:36:06</td>\n",
       "      <td>05:43:44</td>\n",
       "      <td>06:51:31</td>\n",
       "      <td>07:41:28</td>\n",
       "      <td>08:06:01</td>\n",
       "      <td>00:18:33</td>\n",
       "      <td>26598</td>\n",
       "      <td>14581</td>\n",
       "      <td>898</td>\n",
       "      <td>40.233333</td>\n",
       "      <td>486.016667</td>\n",
       "      <td>360.781025</td>\n",
       "    </tr>\n",
       "  </tbody>\n",
       "</table>\n",
       "<p>26298 rows × 20 columns</p>\n",
       "</div>"
      ],
      "text/plain": [
       "       Age M/F Country        5K       10K       15K       20K      Half  \\\n",
       "0       25   M     ETH  00:14:43  00:29:43  00:44:57  01:00:29  01:04:02   \n",
       "1       30   M     ETH  00:14:43  00:29:43  00:44:58  01:00:28  01:04:01   \n",
       "2       29   M     KEN  00:14:43  00:29:43  00:44:57  01:00:29  01:04:02   \n",
       "3       28   M     KEN  00:14:43  00:29:44  00:45:01  01:00:29  01:04:02   \n",
       "4       32   M     KEN  00:14:43  00:29:44  00:44:58  01:00:28  01:04:01   \n",
       "...    ...  ..     ...       ...       ...       ...       ...       ...   \n",
       "26293   64   F     USA  00:50:15  01:43:31  02:36:53  03:32:26  03:43:46   \n",
       "26294   61   F     USA  00:48:36  01:39:39  02:39:13  03:35:58  03:47:55   \n",
       "26295   66   F     USA  00:53:03  01:47:16  02:41:45  03:37:07  03:48:21   \n",
       "26296   53   M     USA  00:49:04  01:40:12  02:33:31  03:31:41  03:43:35   \n",
       "26297   62   M     USA  00:40:14  01:28:18  02:26:46  03:28:41  03:40:36   \n",
       "\n",
       "            25K       30K       35K       40K    Finish      Pace  Overall  \\\n",
       "0      01:16:07  01:32:00  01:47:59  02:02:39  02:09:17  00:04:56        1   \n",
       "1      01:16:07  01:31:59  01:47:59  02:02:42  02:09:48  00:04:58        2   \n",
       "2      01:16:07  01:32:00  01:47:59  02:03:01  02:10:22  00:04:59        3   \n",
       "3      01:16:07  01:32:00  01:48:03  02:03:47  02:10:47  00:05:00        4   \n",
       "4      01:16:07  01:32:00  01:47:59  02:03:27  02:10:49  00:05:00        5   \n",
       "...         ...       ...       ...       ...       ...       ...      ...   \n",
       "26293  04:25:53  05:19:44  06:17:19  07:13:34  07:38:56  00:17:31    26594   \n",
       "26294  04:32:44  05:31:58  06:28:56  07:26:19  07:51:30  00:17:59    26595   \n",
       "26295  04:33:51  05:38:56  06:38:51  07:36:18  07:59:33  00:18:18    26596   \n",
       "26296  04:29:20  05:31:11  06:33:35  07:35:38  08:00:37  00:18:20    26597   \n",
       "26297  04:36:06  05:43:44  06:51:31  07:41:28  08:06:01  00:18:33    26598   \n",
       "\n",
       "       Gender  Division  5k_tot_minutes  tot_minutes  regression  \n",
       "0           1         1       14.716667   129.283333  127.007239  \n",
       "1           2         2       14.716667   129.800000  127.007239  \n",
       "2           3         3       14.716667   130.366667  127.007239  \n",
       "3           4         4       14.716667   130.783333  127.007239  \n",
       "4           5         5       14.716667   130.816667  127.007239  \n",
       "...       ...       ...             ...          ...         ...  \n",
       "26293   12015       269       50.250000   458.933333  452.549834  \n",
       "26294   12016       270       48.600000   471.500000  437.433175  \n",
       "26295   12017        91       53.050000   479.550000  478.202346  \n",
       "26296   14580      2055       49.066667   480.616667  441.708594  \n",
       "26297   14581       898       40.233333   486.016667  360.781025  \n",
       "\n",
       "[26298 rows x 20 columns]"
      ]
     },
     "execution_count": 25,
     "metadata": {},
     "output_type": "execute_result"
    }
   ],
   "source": [
    "marathon_results_df = pd.read_csv('marathon_results.csv')\n",
    "# Convert 5k time and finish time to minutes\n",
    "marathon_results_df['5k_tot_minutes'] = pd.to_timedelta(marathon_results_df['5K']).dt.total_seconds()/60\n",
    "marathon_results_df['tot_minutes'] = pd.to_timedelta(marathon_results_df['Finish']).dt.total_seconds()/60\n",
    "\n",
    "# Create a linear regression for desired variables\n",
    "reg1 = LinearRegression()\n",
    "\n",
    "reg1.fit(marathon_results_df[['5k_tot_minutes']],marathon_results_df['tot_minutes'])\n",
    "# This column will be our predicted finish time\n",
    "marathon_results_df['regression'] = reg1.predict(marathon_results_df[['5k_tot_minutes']])\n",
    "\n",
    "marathon_results_df"
   ]
  },
  {
   "cell_type": "markdown",
   "id": "16f7fbec",
   "metadata": {},
   "source": [
    "### How Accurate Are These Regression Predictions?\n",
    "\n",
    "To show how accurate our predictions were, we will use `Root Mean Squared Error(RMSE)` to show how far on average the regression model's predicted finish times varied from the actual finish times. To calculate the `RMSE`, we will first compute the `Mean Squared Error(MSE)` of the column `regression_error`, and then take the square root of it to obtain the `RMSE`.\n",
    "\n",
    "The `MSE` is calculated by taking the difference of the `regression` and `tot_minutes` column for each runner, squared, and then sum up all of these squared differences. We then divide by the total number of runners to find the average `MSE`. We will store these squared differences under the `regression_error_squared` column of our dataframe."
   ]
  },
  {
   "cell_type": "code",
   "execution_count": 26,
   "id": "a474126a",
   "metadata": {},
   "outputs": [
    {
     "data": {
      "text/plain": [
       "15.947372563465944"
      ]
     },
     "execution_count": 26,
     "metadata": {},
     "output_type": "execute_result"
    }
   ],
   "source": [
    "# Compute the squared error\n",
    "marathon_results_df['regression_error_squared'] = (marathon_results_df['regression'] - \n",
    "                                                   marathon_results_df['tot_minutes']) ** 2\n",
    "\n",
    "# Get all of the values from this column \n",
    "regression_error_squared = marathon_results_df['regression_error_squared'].values \n",
    "# Compute Mean Squared Error\n",
    "mse = np.mean(regression_error_squared)\n",
    "# Compute Root Mean Squared Error\n",
    "rmse = np.sqrt(mse)\n",
    "rmse"
   ]
  },
  {
   "cell_type": "markdown",
   "id": "3bc0ad2a",
   "metadata": {},
   "source": [
    "We can see that our regression model was able to predict the finish time of a runner with about `+/- 16` minutes of error, on average."
   ]
  },
  {
   "cell_type": "markdown",
   "id": "5356706e",
   "metadata": {},
   "source": [
    "### Using Age and 5K Times"
   ]
  },
  {
   "cell_type": "code",
   "execution_count": 27,
   "id": "dc24a55b",
   "metadata": {},
   "outputs": [
    {
     "data": {
      "text/plain": [
       "15.831065146565205"
      ]
     },
     "execution_count": 27,
     "metadata": {},
     "output_type": "execute_result"
    }
   ],
   "source": [
    "marathon_results_df = pd.read_csv('marathon_results.csv')\n",
    "marathon_results_df['5k_tot_minutes'] = pd.to_timedelta(marathon_results_df['5K']).dt.total_seconds()/60\n",
    "marathon_results_df['tot_minutes'] = pd.to_timedelta(marathon_results_df['Finish']).dt.total_seconds()/60\n",
    "\n",
    "reg3 = LinearRegression()\n",
    "\n",
    "reg3.fit(marathon_results_df[['Age','5k_tot_minutes']],marathon_results_df['tot_minutes'])\n",
    "marathon_results_df['regression'] = reg3.predict(marathon_results_df[['Age','5k_tot_minutes']])\n",
    "marathon_results_df['regression_error_squared'] = (marathon_results_df['regression'] - \n",
    "                                                   marathon_results_df['tot_minutes']) ** 2\n",
    "\n",
    "regression_error_squared = marathon_results_df['regression_error_squared'].values \n",
    "mse = np.mean(regression_error_squared)\n",
    "rmse = np.sqrt(mse)\n",
    "rmse"
   ]
  },
  {
   "cell_type": "markdown",
   "id": "ae52c0e3",
   "metadata": {},
   "source": [
    "### Using Age and Halfway Times"
   ]
  },
  {
   "cell_type": "code",
   "execution_count": 28,
   "id": "9031f664",
   "metadata": {},
   "outputs": [
    {
     "data": {
      "text/plain": [
       "10.390138987177714"
      ]
     },
     "execution_count": 28,
     "metadata": {},
     "output_type": "execute_result"
    }
   ],
   "source": [
    "marathon_results_df = pd.read_csv('marathon_results.csv')\n",
    "marathon_results_df['Half_tot_minutes'] = pd.to_timedelta(marathon_results_df['Half']).dt.total_seconds()/60\n",
    "marathon_results_df['tot_minutes'] = pd.to_timedelta(marathon_results_df['Finish']).dt.total_seconds()/60\n",
    "\n",
    "reg4 = LinearRegression()\n",
    "\n",
    "reg4.fit(marathon_results_df[['Age','Half_tot_minutes']],marathon_results_df['tot_minutes'])\n",
    "marathon_results_df['regression'] = reg4.predict(marathon_results_df[['Age','Half_tot_minutes']])\n",
    "marathon_results_df['regression_error_squared'] = (marathon_results_df['regression'] - \n",
    "                                                   marathon_results_df['tot_minutes']) ** 2\n",
    "\n",
    "regression_error_squared = marathon_results_df['regression_error_squared'].values \n",
    "mse = np.mean(regression_error_squared)\n",
    "rmse = np.sqrt(mse)\n",
    "rmse"
   ]
  },
  {
   "cell_type": "markdown",
   "id": "40e32aee",
   "metadata": {},
   "source": [
    "### Applying Linear Regression When Using Categorical Values\n",
    "\n",
    "When we look at our dataset we can see that the `M/F` column, which signifies whether the runner was male or females, has values of either `M` or `F`. When using linear regression, we will need actual `integer` or `float` values to calculate our regression. So we will have to assign a `1` to males and `0` to females (or vice versa) in order to do this, because they are categorical values. `[2]`\n",
    "\n",
    "However doing this can skew our regression model, as it would introduce an implcit relationship between males and females, saying that the sex with a value of `1` would be considered to be \"1 more unit greater\" than the sex that we assign a value of zero to. And we know that this won't be inherently true, as the sex of a runner is not exactly a true predictor of their finish times due to the different genetics, fitness level, strength, experience, etc. having the real impact on how fast a runner can finish the marathon.\n",
    "\n",
    "To be able to label and analyze these categorical values in our regression model, we will use `one-hot encoding` for categorical values. One-hot encoding will avoid the problem previously stated by creating separate binary variables for each category, with each variable indicating whether or not the runner belongs to that category. This will prevent any implicit numerical ordering from skewing the results of our regression. `[2]`\n",
    "\n",
    "To do this we will use `pandas.get_dummies()` `[3]`, which creates binary columns for each unique value in a categorical column of a Pandas dataframe. The `get_dummies()` function also has a neat parameter named `prefix` than will name every column with any prefix you want, followed by the different values of each category. Let's apply this to our dataframe and first see how well a linear regression model looking solely at gender preforms:"
   ]
  },
  {
   "cell_type": "code",
   "execution_count": 29,
   "id": "ea8131c2",
   "metadata": {},
   "outputs": [
    {
     "data": {
      "text/html": [
       "<div>\n",
       "<style scoped>\n",
       "    .dataframe tbody tr th:only-of-type {\n",
       "        vertical-align: middle;\n",
       "    }\n",
       "\n",
       "    .dataframe tbody tr th {\n",
       "        vertical-align: top;\n",
       "    }\n",
       "\n",
       "    .dataframe thead th {\n",
       "        text-align: right;\n",
       "    }\n",
       "</style>\n",
       "<table border=\"1\" class=\"dataframe\">\n",
       "  <thead>\n",
       "    <tr style=\"text-align: right;\">\n",
       "      <th></th>\n",
       "      <th>Age</th>\n",
       "      <th>M/F</th>\n",
       "      <th>Country</th>\n",
       "      <th>5K</th>\n",
       "      <th>10K</th>\n",
       "      <th>15K</th>\n",
       "      <th>20K</th>\n",
       "      <th>Half</th>\n",
       "      <th>25K</th>\n",
       "      <th>30K</th>\n",
       "      <th>35K</th>\n",
       "      <th>40K</th>\n",
       "      <th>Finish</th>\n",
       "      <th>Pace</th>\n",
       "      <th>Overall</th>\n",
       "      <th>Gender</th>\n",
       "      <th>Division</th>\n",
       "      <th>Sex_1H_F</th>\n",
       "      <th>Sex_1H_M</th>\n",
       "      <th>tot_minutes</th>\n",
       "    </tr>\n",
       "  </thead>\n",
       "  <tbody>\n",
       "    <tr>\n",
       "      <th>0</th>\n",
       "      <td>25</td>\n",
       "      <td>M</td>\n",
       "      <td>ETH</td>\n",
       "      <td>00:14:43</td>\n",
       "      <td>00:29:43</td>\n",
       "      <td>00:44:57</td>\n",
       "      <td>01:00:29</td>\n",
       "      <td>01:04:02</td>\n",
       "      <td>01:16:07</td>\n",
       "      <td>01:32:00</td>\n",
       "      <td>01:47:59</td>\n",
       "      <td>02:02:39</td>\n",
       "      <td>02:09:17</td>\n",
       "      <td>00:04:56</td>\n",
       "      <td>1</td>\n",
       "      <td>1</td>\n",
       "      <td>1</td>\n",
       "      <td>0</td>\n",
       "      <td>1</td>\n",
       "      <td>129.283333</td>\n",
       "    </tr>\n",
       "    <tr>\n",
       "      <th>1</th>\n",
       "      <td>30</td>\n",
       "      <td>M</td>\n",
       "      <td>ETH</td>\n",
       "      <td>00:14:43</td>\n",
       "      <td>00:29:43</td>\n",
       "      <td>00:44:58</td>\n",
       "      <td>01:00:28</td>\n",
       "      <td>01:04:01</td>\n",
       "      <td>01:16:07</td>\n",
       "      <td>01:31:59</td>\n",
       "      <td>01:47:59</td>\n",
       "      <td>02:02:42</td>\n",
       "      <td>02:09:48</td>\n",
       "      <td>00:04:58</td>\n",
       "      <td>2</td>\n",
       "      <td>2</td>\n",
       "      <td>2</td>\n",
       "      <td>0</td>\n",
       "      <td>1</td>\n",
       "      <td>129.800000</td>\n",
       "    </tr>\n",
       "    <tr>\n",
       "      <th>2</th>\n",
       "      <td>29</td>\n",
       "      <td>M</td>\n",
       "      <td>KEN</td>\n",
       "      <td>00:14:43</td>\n",
       "      <td>00:29:43</td>\n",
       "      <td>00:44:57</td>\n",
       "      <td>01:00:29</td>\n",
       "      <td>01:04:02</td>\n",
       "      <td>01:16:07</td>\n",
       "      <td>01:32:00</td>\n",
       "      <td>01:47:59</td>\n",
       "      <td>02:03:01</td>\n",
       "      <td>02:10:22</td>\n",
       "      <td>00:04:59</td>\n",
       "      <td>3</td>\n",
       "      <td>3</td>\n",
       "      <td>3</td>\n",
       "      <td>0</td>\n",
       "      <td>1</td>\n",
       "      <td>130.366667</td>\n",
       "    </tr>\n",
       "    <tr>\n",
       "      <th>3</th>\n",
       "      <td>28</td>\n",
       "      <td>M</td>\n",
       "      <td>KEN</td>\n",
       "      <td>00:14:43</td>\n",
       "      <td>00:29:44</td>\n",
       "      <td>00:45:01</td>\n",
       "      <td>01:00:29</td>\n",
       "      <td>01:04:02</td>\n",
       "      <td>01:16:07</td>\n",
       "      <td>01:32:00</td>\n",
       "      <td>01:48:03</td>\n",
       "      <td>02:03:47</td>\n",
       "      <td>02:10:47</td>\n",
       "      <td>00:05:00</td>\n",
       "      <td>4</td>\n",
       "      <td>4</td>\n",
       "      <td>4</td>\n",
       "      <td>0</td>\n",
       "      <td>1</td>\n",
       "      <td>130.783333</td>\n",
       "    </tr>\n",
       "    <tr>\n",
       "      <th>4</th>\n",
       "      <td>32</td>\n",
       "      <td>M</td>\n",
       "      <td>KEN</td>\n",
       "      <td>00:14:43</td>\n",
       "      <td>00:29:44</td>\n",
       "      <td>00:44:58</td>\n",
       "      <td>01:00:28</td>\n",
       "      <td>01:04:01</td>\n",
       "      <td>01:16:07</td>\n",
       "      <td>01:32:00</td>\n",
       "      <td>01:47:59</td>\n",
       "      <td>02:03:27</td>\n",
       "      <td>02:10:49</td>\n",
       "      <td>00:05:00</td>\n",
       "      <td>5</td>\n",
       "      <td>5</td>\n",
       "      <td>5</td>\n",
       "      <td>0</td>\n",
       "      <td>1</td>\n",
       "      <td>130.816667</td>\n",
       "    </tr>\n",
       "    <tr>\n",
       "      <th>...</th>\n",
       "      <td>...</td>\n",
       "      <td>...</td>\n",
       "      <td>...</td>\n",
       "      <td>...</td>\n",
       "      <td>...</td>\n",
       "      <td>...</td>\n",
       "      <td>...</td>\n",
       "      <td>...</td>\n",
       "      <td>...</td>\n",
       "      <td>...</td>\n",
       "      <td>...</td>\n",
       "      <td>...</td>\n",
       "      <td>...</td>\n",
       "      <td>...</td>\n",
       "      <td>...</td>\n",
       "      <td>...</td>\n",
       "      <td>...</td>\n",
       "      <td>...</td>\n",
       "      <td>...</td>\n",
       "      <td>...</td>\n",
       "    </tr>\n",
       "    <tr>\n",
       "      <th>26293</th>\n",
       "      <td>64</td>\n",
       "      <td>F</td>\n",
       "      <td>USA</td>\n",
       "      <td>00:50:15</td>\n",
       "      <td>01:43:31</td>\n",
       "      <td>02:36:53</td>\n",
       "      <td>03:32:26</td>\n",
       "      <td>03:43:46</td>\n",
       "      <td>04:25:53</td>\n",
       "      <td>05:19:44</td>\n",
       "      <td>06:17:19</td>\n",
       "      <td>07:13:34</td>\n",
       "      <td>07:38:56</td>\n",
       "      <td>00:17:31</td>\n",
       "      <td>26594</td>\n",
       "      <td>12015</td>\n",
       "      <td>269</td>\n",
       "      <td>1</td>\n",
       "      <td>0</td>\n",
       "      <td>458.933333</td>\n",
       "    </tr>\n",
       "    <tr>\n",
       "      <th>26294</th>\n",
       "      <td>61</td>\n",
       "      <td>F</td>\n",
       "      <td>USA</td>\n",
       "      <td>00:48:36</td>\n",
       "      <td>01:39:39</td>\n",
       "      <td>02:39:13</td>\n",
       "      <td>03:35:58</td>\n",
       "      <td>03:47:55</td>\n",
       "      <td>04:32:44</td>\n",
       "      <td>05:31:58</td>\n",
       "      <td>06:28:56</td>\n",
       "      <td>07:26:19</td>\n",
       "      <td>07:51:30</td>\n",
       "      <td>00:17:59</td>\n",
       "      <td>26595</td>\n",
       "      <td>12016</td>\n",
       "      <td>270</td>\n",
       "      <td>1</td>\n",
       "      <td>0</td>\n",
       "      <td>471.500000</td>\n",
       "    </tr>\n",
       "    <tr>\n",
       "      <th>26295</th>\n",
       "      <td>66</td>\n",
       "      <td>F</td>\n",
       "      <td>USA</td>\n",
       "      <td>00:53:03</td>\n",
       "      <td>01:47:16</td>\n",
       "      <td>02:41:45</td>\n",
       "      <td>03:37:07</td>\n",
       "      <td>03:48:21</td>\n",
       "      <td>04:33:51</td>\n",
       "      <td>05:38:56</td>\n",
       "      <td>06:38:51</td>\n",
       "      <td>07:36:18</td>\n",
       "      <td>07:59:33</td>\n",
       "      <td>00:18:18</td>\n",
       "      <td>26596</td>\n",
       "      <td>12017</td>\n",
       "      <td>91</td>\n",
       "      <td>1</td>\n",
       "      <td>0</td>\n",
       "      <td>479.550000</td>\n",
       "    </tr>\n",
       "    <tr>\n",
       "      <th>26296</th>\n",
       "      <td>53</td>\n",
       "      <td>M</td>\n",
       "      <td>USA</td>\n",
       "      <td>00:49:04</td>\n",
       "      <td>01:40:12</td>\n",
       "      <td>02:33:31</td>\n",
       "      <td>03:31:41</td>\n",
       "      <td>03:43:35</td>\n",
       "      <td>04:29:20</td>\n",
       "      <td>05:31:11</td>\n",
       "      <td>06:33:35</td>\n",
       "      <td>07:35:38</td>\n",
       "      <td>08:00:37</td>\n",
       "      <td>00:18:20</td>\n",
       "      <td>26597</td>\n",
       "      <td>14580</td>\n",
       "      <td>2055</td>\n",
       "      <td>0</td>\n",
       "      <td>1</td>\n",
       "      <td>480.616667</td>\n",
       "    </tr>\n",
       "    <tr>\n",
       "      <th>26297</th>\n",
       "      <td>62</td>\n",
       "      <td>M</td>\n",
       "      <td>USA</td>\n",
       "      <td>00:40:14</td>\n",
       "      <td>01:28:18</td>\n",
       "      <td>02:26:46</td>\n",
       "      <td>03:28:41</td>\n",
       "      <td>03:40:36</td>\n",
       "      <td>04:36:06</td>\n",
       "      <td>05:43:44</td>\n",
       "      <td>06:51:31</td>\n",
       "      <td>07:41:28</td>\n",
       "      <td>08:06:01</td>\n",
       "      <td>00:18:33</td>\n",
       "      <td>26598</td>\n",
       "      <td>14581</td>\n",
       "      <td>898</td>\n",
       "      <td>0</td>\n",
       "      <td>1</td>\n",
       "      <td>486.016667</td>\n",
       "    </tr>\n",
       "  </tbody>\n",
       "</table>\n",
       "<p>26298 rows × 20 columns</p>\n",
       "</div>"
      ],
      "text/plain": [
       "       Age M/F Country        5K       10K       15K       20K      Half  \\\n",
       "0       25   M     ETH  00:14:43  00:29:43  00:44:57  01:00:29  01:04:02   \n",
       "1       30   M     ETH  00:14:43  00:29:43  00:44:58  01:00:28  01:04:01   \n",
       "2       29   M     KEN  00:14:43  00:29:43  00:44:57  01:00:29  01:04:02   \n",
       "3       28   M     KEN  00:14:43  00:29:44  00:45:01  01:00:29  01:04:02   \n",
       "4       32   M     KEN  00:14:43  00:29:44  00:44:58  01:00:28  01:04:01   \n",
       "...    ...  ..     ...       ...       ...       ...       ...       ...   \n",
       "26293   64   F     USA  00:50:15  01:43:31  02:36:53  03:32:26  03:43:46   \n",
       "26294   61   F     USA  00:48:36  01:39:39  02:39:13  03:35:58  03:47:55   \n",
       "26295   66   F     USA  00:53:03  01:47:16  02:41:45  03:37:07  03:48:21   \n",
       "26296   53   M     USA  00:49:04  01:40:12  02:33:31  03:31:41  03:43:35   \n",
       "26297   62   M     USA  00:40:14  01:28:18  02:26:46  03:28:41  03:40:36   \n",
       "\n",
       "            25K       30K       35K       40K    Finish      Pace  Overall  \\\n",
       "0      01:16:07  01:32:00  01:47:59  02:02:39  02:09:17  00:04:56        1   \n",
       "1      01:16:07  01:31:59  01:47:59  02:02:42  02:09:48  00:04:58        2   \n",
       "2      01:16:07  01:32:00  01:47:59  02:03:01  02:10:22  00:04:59        3   \n",
       "3      01:16:07  01:32:00  01:48:03  02:03:47  02:10:47  00:05:00        4   \n",
       "4      01:16:07  01:32:00  01:47:59  02:03:27  02:10:49  00:05:00        5   \n",
       "...         ...       ...       ...       ...       ...       ...      ...   \n",
       "26293  04:25:53  05:19:44  06:17:19  07:13:34  07:38:56  00:17:31    26594   \n",
       "26294  04:32:44  05:31:58  06:28:56  07:26:19  07:51:30  00:17:59    26595   \n",
       "26295  04:33:51  05:38:56  06:38:51  07:36:18  07:59:33  00:18:18    26596   \n",
       "26296  04:29:20  05:31:11  06:33:35  07:35:38  08:00:37  00:18:20    26597   \n",
       "26297  04:36:06  05:43:44  06:51:31  07:41:28  08:06:01  00:18:33    26598   \n",
       "\n",
       "       Gender  Division  Sex_1H_F  Sex_1H_M  tot_minutes  \n",
       "0           1         1         0         1   129.283333  \n",
       "1           2         2         0         1   129.800000  \n",
       "2           3         3         0         1   130.366667  \n",
       "3           4         4         0         1   130.783333  \n",
       "4           5         5         0         1   130.816667  \n",
       "...       ...       ...       ...       ...          ...  \n",
       "26293   12015       269         1         0   458.933333  \n",
       "26294   12016       270         1         0   471.500000  \n",
       "26295   12017        91         1         0   479.550000  \n",
       "26296   14580      2055         0         1   480.616667  \n",
       "26297   14581       898         0         1   486.016667  \n",
       "\n",
       "[26298 rows x 20 columns]"
      ]
     },
     "execution_count": 29,
     "metadata": {},
     "output_type": "execute_result"
    }
   ],
   "source": [
    "marathon_results_df = pd.read_csv('marathon_results.csv')\n",
    "# Apply one-hot encoding to the 'M/F' column (this creates new dataframe)\n",
    "one_hot_encoded = pd.get_dummies(marathon_results_df['M/F'], prefix='Sex_1H')\n",
    "# Concatenate the two dataframes\n",
    "marathon_results_df = pd.concat([marathon_results_df, one_hot_encoded], axis=1) \n",
    "marathon_results_df['tot_minutes'] = pd.to_timedelta(marathon_results_df['Finish']).dt.total_seconds()/60\n",
    "marathon_results_df"
   ]
  },
  {
   "cell_type": "markdown",
   "id": "bfe2322a",
   "metadata": {},
   "source": [
    "We can see now exactly how the `get_dummies()` function works, and now the categorical value for sex of the runner has been assigned either `0 1` for males and `1 0` for females. Now let's see how well a regression model using only gender works:"
   ]
  },
  {
   "cell_type": "code",
   "execution_count": 30,
   "id": "eb916bdf",
   "metadata": {
    "scrolled": true
   },
   "outputs": [
    {
     "data": {
      "text/plain": [
       "38.787866871688564"
      ]
     },
     "execution_count": 30,
     "metadata": {},
     "output_type": "execute_result"
    }
   ],
   "source": [
    "reg5 = LinearRegression()\n",
    "\n",
    "reg5.fit(marathon_results_df[['Sex_1H_M','Sex_1H_F']],marathon_results_df['tot_minutes'])\n",
    "marathon_results_df['regression'] = reg5.predict(marathon_results_df[['Sex_1H_M','Sex_1H_F']])\n",
    "marathon_results_df['regression_error_squared'] = (marathon_results_df['regression'] - \n",
    "                                                   marathon_results_df['tot_minutes']) ** 2\n",
    "\n",
    "regression_error_squared = marathon_results_df['regression_error_squared'].values \n",
    "mse = np.mean(regression_error_squared)\n",
    "rmse = np.sqrt(mse)\n",
    "rmse"
   ]
  },
  {
   "cell_type": "markdown",
   "id": "4405b18d",
   "metadata": {},
   "source": [
    "We can see that using only genders produces a much higher `Root-Mean Squared Error` value than our previous regression models. This helps to prove our previous point that the gender of the runner is not a true predictor of marathon performance. "
   ]
  },
  {
   "cell_type": "markdown",
   "id": "2b8c4a19",
   "metadata": {},
   "source": [
    "### Using Age, Gender, 5K, and Halfway Times\n",
    "\n",
    "Let's see if we can improve upon this by looking at gender, age, 5K times, and halfway times to see if a model that only looks at pre-race data as well as data from the first half of the race can accurately predict the results of a runner."
   ]
  },
  {
   "cell_type": "code",
   "execution_count": 31,
   "id": "46337929",
   "metadata": {},
   "outputs": [
    {
     "data": {
      "text/plain": [
       "9.757739778056738"
      ]
     },
     "execution_count": 31,
     "metadata": {},
     "output_type": "execute_result"
    }
   ],
   "source": [
    "marathon_results_df = pd.read_csv('marathon_results.csv')\n",
    "one_hot_encoded = pd.get_dummies(marathon_results_df['M/F'], prefix='Sex_1H')\n",
    "marathon_results_df = pd.concat([marathon_results_df, one_hot_encoded], axis=1) \n",
    "marathon_results_df['5k_tot_minutes'] = pd.to_timedelta(marathon_results_df['5K']).dt.total_seconds()/60\n",
    "marathon_results_df['Halfway_minutes'] = pd.to_timedelta(marathon_results_df['Half']).dt.total_seconds()/60\n",
    "marathon_results_df['tot_minutes'] = pd.to_timedelta(marathon_results_df['Finish']).dt.total_seconds()/60\n",
    "\n",
    "reg6 = LinearRegression()\n",
    "\n",
    "reg6.fit(marathon_results_df[['Age','Sex_1H_M','Sex_1H_F','5k_tot_minutes','Halfway_minutes']],marathon_results_df['tot_minutes'])\n",
    "marathon_results_df['regression'] = reg6.predict(marathon_results_df[['Age','Sex_1H_M','Sex_1H_F','5k_tot_minutes','Halfway_minutes']])\n",
    "marathon_results_df['regression_error'] = (marathon_results_df['regression'] - marathon_results_df['tot_minutes'])\n",
    "marathon_results_df['regression_error_squared'] = (marathon_results_df['regression'] - \n",
    "                                                   marathon_results_df['tot_minutes']) ** 2\n",
    "\n",
    "regression_error_squared = marathon_results_df['regression_error_squared'].values \n",
    "mse = np.mean(regression_error_squared)\n",
    "rmse = np.sqrt(mse)\n",
    "rmse"
   ]
  },
  {
   "cell_type": "markdown",
   "id": "baa012e5",
   "metadata": {},
   "source": [
    "We can see that this improves our model quite a bit, on average the model was able to predict the finish times of the runner to within `+/- 9.75` minutes. Lets see how the frequencies for the regression errors looks like:"
   ]
  },
  {
   "cell_type": "code",
   "execution_count": 32,
   "id": "1534691f",
   "metadata": {},
   "outputs": [
    {
     "data": {
      "image/png": "[encoded data removed]",
      "text/plain": [
       "<Figure size 700x500 with 1 Axes>"
      ]
     },
     "metadata": {},
     "output_type": "display_data"
    }
   ],
   "source": [
    "plt.figure(figsize=(7,5),dpi=100)\n",
    "plt.plot(marathon_results_df.index,abs(marathon_results_df['regression_error']),label='Regression Error')\n",
    "plt.xlabel('Runner #')\n",
    "plt.ylabel('|Regression Error|')\n",
    "plt.legend()\n",
    "plt.title('Regression Error for Every Runner in the Dataset')\n",
    "plt.show()"
   ]
  },
  {
   "cell_type": "markdown",
   "id": "bd387b0d",
   "metadata": {},
   "source": [
    "We can see here that the regression error using age, gender, 5k, and halfway times increases as we go down the list of runners finish times. This may be because runners who finished with a higher race time could have been \n",
    "less able to run the full course of a marathon at steady pace versus the more talented runners who finished with a low race time. These runners who were slower most likely had a slower pace in the 2nd half of the race when compared to the first half. Since our model only used their first half times, it was unable to accurately predict finish times for runners whose pace worsened in the second half. Our model worked well with the top runners, who most likely kept a relatively similiar pace throughout the entire race.\n",
    "\n",
    "## Age, Gender, and Quarter Split Times\n",
    "\n",
    "Let's see if using three times, 10k, 20k, and 30k, along with age and gender to see if this improves our model. 10k, 20k, and 30k approximately represent the first three quarters of the race."
   ]
  },
  {
   "cell_type": "code",
   "execution_count": 33,
   "id": "b516c517",
   "metadata": {},
   "outputs": [
    {
     "data": {
      "text/plain": [
       "6.063717269469273"
      ]
     },
     "execution_count": 33,
     "metadata": {},
     "output_type": "execute_result"
    }
   ],
   "source": [
    "marathon_results_df = pd.read_csv('marathon_results.csv')\n",
    "one_hot_encoded = pd.get_dummies(marathon_results_df['M/F'], prefix='Sex_1H')\n",
    "marathon_results_df = pd.concat([marathon_results_df, one_hot_encoded], axis=1) \n",
    "marathon_results_df['10k_tot_minutes'] = pd.to_timedelta(marathon_results_df['10K']).dt.total_seconds()/60\n",
    "marathon_results_df['20k_tot_minutes'] = pd.to_timedelta(marathon_results_df['20K']).dt.total_seconds()/60\n",
    "marathon_results_df['30k_tot_minutes'] = pd.to_timedelta(marathon_results_df['30K']).dt.total_seconds()/60\n",
    "marathon_results_df['tot_minutes'] = pd.to_timedelta(marathon_results_df['Finish']).dt.total_seconds()/60\n",
    "\n",
    "reg7 = LinearRegression()\n",
    "\n",
    "reg7.fit(marathon_results_df[['Age','Sex_1H_M','Sex_1H_F','10k_tot_minutes','20k_tot_minutes','30k_tot_minutes']],marathon_results_df['tot_minutes'])\n",
    "marathon_results_df['regression'] = reg7.predict(marathon_results_df[['Age','Sex_1H_M','Sex_1H_F','10k_tot_minutes','20k_tot_minutes','30k_tot_minutes']])\n",
    "marathon_results_df['regression_error'] = (marathon_results_df['regression'] - marathon_results_df['tot_minutes'])\n",
    "marathon_results_df['regression_error_squared'] = (marathon_results_df['regression'] - \n",
    "                                                   marathon_results_df['tot_minutes']) ** 2\n",
    "\n",
    "regression_error_squared = marathon_results_df['regression_error_squared'].values \n",
    "mse = np.mean(regression_error_squared)\n",
    "rmse = np.sqrt(mse)\n",
    "rmse"
   ]
  },
  {
   "cell_type": "markdown",
   "id": "5f16c517",
   "metadata": {},
   "source": [
    "We can see that our model improved by a noticeable margin, able to predict the finish time of a runner to within `+/- 6` minutes on average. Let's see if the distributions of the regression error improved:"
   ]
  },
  {
   "cell_type": "code",
   "execution_count": 34,
   "id": "8a03b003",
   "metadata": {},
   "outputs": [
    {
     "data": {
      "image/png": "[encoded data removed]",
      "text/plain": [
       "<Figure size 700x500 with 1 Axes>"
      ]
     },
     "metadata": {},
     "output_type": "display_data"
    }
   ],
   "source": [
    "plt.figure(figsize=(7,5),dpi=100)\n",
    "plt.plot(marathon_results_df.index,abs(marathon_results_df['regression_error']),label='Regression Error')\n",
    "plt.xlabel('Runner #')\n",
    "plt.ylabel('|Regression Error|')\n",
    "plt.legend()\n",
    "plt.title('Regression Error for Every Runner in the Dataset')\n",
    "plt.show()"
   ]
  },
  {
   "cell_type": "markdown",
   "id": "ff85aa03",
   "metadata": {},
   "source": [
    "We can see that our model was better able to predict the finish time of about the first 70-80% of the runners in the marathon. We do not see large spikes in the regression error until around the bottom 10% of the runners, whose pace most likely increasingly slowed as the race went on. "
   ]
  },
  {
   "cell_type": "markdown",
   "id": "a4a896c2",
   "metadata": {},
   "source": [
    "## Conclusion\n",
    "\n",
    "In this report we explored several different methods to predict both the sex and finish time of a runner given different datapoints. We started by using Kernel Density Estimates in conjunction with Bayesian Inference to predict whether or not a runner was a female by first looking at their finish times (1-D), and then their age and finish times (2-D). When using 1-dimensional KDE, we were able to  able to predict if a runner was female at about a `65%` success rate. When using the 2-dimensional KDE, we were able to improve the classification accuracy up to `76%` rate.\n",
    "\n",
    "We then used a k-Nearest Neighbor classifier to predict the sex of a runner. We started with a 1-D kNN, which was able to predict the sex of a runner with a `61%` accuracy. When switching to a 2-D k-NN, our accuracy improved to `74%`. \n",
    "\n",
    "Lastly, we wused linear regression modeling to predict the finish time of a runner given certain parameters. When using only 5k times, our regression model was able to predict the finish time of a runner to within about `+/-16` minutes. To improve upon this, we looked at multiple parameters such as the runner's age and halfway time splits. When doing this we were able to improve our model to be predicting the finish times to within about `+/-10` minutes. We ended by looking at the age of the runner, categorical data such as the sex of a runner, and all of their 1/4 time splits in the race. This model used one-hot encoding to be able to assign a value to the runner's `M/F` column which only had string values of either `M` or `F`. This model was much more accurate, able to predict the runner's finish time to within `+/-6` minutes on average."
   ]
  },
  {
   "cell_type": "markdown",
   "id": "2e7b13bc",
   "metadata": {},
   "source": [
    "## Code"
   ]
  },
  {
   "cell_type": "code",
   "execution_count": null,
   "id": "0584e6f9",
   "metadata": {},
   "outputs": [],
   "source": [
    "mport pandas as pd\n",
    "import numpy as np\n",
    "from sklearn.neighbors import KNeighborsClassifier\n",
    "from sklearn.model_selection import train_test_split\n",
    "from scipy.stats import norm, gaussian_kde\n",
    "import matplotlib.pyplot as plt\n",
    "from sklearn.linear_model import LinearRegression\n",
    "\n",
    "marathon_results_df = pd.read_csv('marathon_results.csv')\n",
    "marathon_results_df['tot_minutes'] = pd.to_timedelta(marathon_results_df['Finish']).dt.total_seconds()/60\n",
    "marathon_results_df.head(1)\n",
    "\n",
    "marathon_train_df,marathon_test_df = train_test_split(marathon_results_df,test_size=0.2,random_state=123)\n",
    "\n",
    "male_times_df = marathon_train_df[marathon_train_df['M/F']=='M']\n",
    "female_times_df = marathon_train_df[marathon_train_df['M/F']=='F']"
   ]
  },
  {
   "cell_type": "markdown",
   "id": "b82a9a34",
   "metadata": {},
   "source": [
    "## 1-D KDE"
   ]
  },
  {
   "cell_type": "code",
   "execution_count": null,
   "id": "485e4b76",
   "metadata": {},
   "outputs": [],
   "source": [
    "prob_male = len(male_times) / (len(male_times)+len(female_times))\n",
    "prob_female = len(female_times) / (len(male_times)+len(female_times))\n",
    "print('Males: {:}%'.format(prob_male*100))\n",
    "print('Females: {:}%'.format(prob_female*100))\n",
    "\n",
    "def bayes_prediction_1D_KDE(testing_data,kde_males,kde_females):\n",
    "    runner_gender_predictions = []\n",
    "    correct = 0\n",
    "    \n",
    "    # Iterate through each row of the dataframe\n",
    "    for index,row in testing_data.iterrows():\n",
    "        predicted_gender = ''\n",
    "        tot_min = row['tot_minutes']\n",
    "        gender = row['M/F']\n",
    "\n",
    "        # Compute the kde of a total time for males/females\n",
    "        prob_tot_minutes_given_male = kde_males(tot_min)\n",
    "        prob_tot_minutes_given_female = kde_females(tot_min)\n",
    "        # Compute P(totalMinutes)\n",
    "        prob_tot_minutes = (prob_tot_minutes_given_female * prob_female) + (prob_tot_minutes_given_male * prob_male)\n",
    "        # Now compute bayes for male/female\n",
    "        probability_female_given_tot_minutes = (prob_tot_minutes_given_female * prob_female) / prob_tot_minutes\n",
    "        probability_male_given_tot_minutes = (prob_tot_minutes_given_male * prob_male) / prob_tot_minutes\n",
    "\n",
    "\n",
    "        # If probability for bayes female > bayes male, say that the runner was female and vice versa\n",
    "        if probability_female_given_tot_minutes > probability_male_given_tot_minutes:\n",
    "            predicted_gender = 'F'\n",
    "        elif probability_female_given_tot_minutes < probability_male_given_tot_minutes: \n",
    "            predicted_gender = 'M'\n",
    "        if predicted_gender == gender:\n",
    "            correct += 1\n",
    "        runner_gender_predictions.append(predicted_gender)\n",
    "            \n",
    "    return((correct/len(testing_data))*100,runner_gender_predictions)\n",
    "\n",
    "# Calculate the KDE for males and females\n",
    "kde_males = gaussian_kde(male_times,bw_method=.1)\n",
    "kde_females = gaussian_kde(female_times,bw_method=.1)\n",
    "\n",
    "bayes_prediction_1D_KDE(marathon_test_df,kde_males,kde_females)[0]\n",
    "\n",
    "#class_acc_kde_1d = []\n",
    "#for i in range(1,21,1): \n",
    "    #bw = i/10\n",
    "    #kde_males_1D = gaussian_kde(male_times_df['tot_minutes'], bw_method=bw)\n",
    "    #kde_females_1D = gaussian_kde(female_times_df['tot_minutes'], bw_method=bw)\n",
    "    #accuracy = bayes_prediction_1D_KDE(marathon_test_df,kde_males_1D,kde_females_1D)[0]\n",
    "    #class_acc_kde_1d.append((bw,accuracy))\n",
    "\n",
    "#with open('accuracy_kde1D.txt','w') as f:\n",
    "    #for line in class_acc_kde_1d:\n",
    "        #f.write('{:} | {:}'.format(line[0],line[1]))\n",
    "        #f.write('\\n')\n",
    "\n",
    "\n",
    "with open('accuracy_kde1D.txt','r') as f:\n",
    "    # These values get stored in the file as a string with format: bandwidth | accuracy\n",
    "    # Split on ' | ' and convert to float for visualization\n",
    "    results_1D = np.array([value.strip().split(' | ') for value in f],dtype=float)\n",
    "\n",
    "# ---- Graphing Results ----\n",
    "x_1d = [value[0] for value in results_1D]\n",
    "y_1d = [value[1] for value in results_1D]\n",
    "\n",
    "\n",
    "plt.figure(figsize=(7,5),dpi=100)\n",
    "plt.plot(x_1d,y_1d,label='Accuracy')\n",
    "plt.xticks(ticks=x_2d)\n",
    "plt.xlabel('Bandwidth Size')\n",
    "plt.ylabel('Classification Accuracy (%)')\n",
    "plt.title('Classification Accuracy of 1-D KDE With Differing Bandwidth Size')\n",
    "plt.legend()\n",
    "# Create a grid on the plot for visualization, 'alpha' parameter sets opacity\n",
    "plt.grid(True,alpha=0.25)\n",
    "plt.show()"
   ]
  },
  {
   "cell_type": "markdown",
   "id": "05d37d67",
   "metadata": {},
   "source": [
    "## 2-D KDE"
   ]
  },
  {
   "cell_type": "code",
   "execution_count": null,
   "id": "081136ef",
   "metadata": {},
   "outputs": [],
   "source": [
    "def bayes_prediction_2D_KDE(testing_data,kde_males,kde_females):\n",
    "    runner_gender_predictions = []\n",
    "    correct = 0\n",
    "    \n",
    "    for index,row in testing_data.iterrows():\n",
    "        predicted_gender = ''\n",
    "        tot_min = row['tot_minutes']\n",
    "        gender = row['M/F']\n",
    "        age = row['Age']\n",
    "\n",
    "        prob_tot_minutes_age_given_male = kde_males((tot_min,age)) \n",
    "        prob_tot_minutes_age_given_female = kde_females((tot_min,age))\n",
    "        prob_tot_minutes_age = (prob_tot_minutes_age_given_female * prob_female) + (prob_tot_minutes_age_given_male * prob_male)\n",
    "        probability_female_given_tot_minutes_age = (prob_tot_minutes_age_given_female * prob_female) / prob_tot_minutes_age\n",
    "        probability_male_given_tot_minutes_age = (prob_tot_minutes_age_given_male * prob_male) / prob_tot_minutes_age\n",
    "\n",
    "\n",
    "        if probability_female_given_tot_minutes_age > probability_male_given_tot_minutes_age:\n",
    "            predicted_gender = 'F'\n",
    "        elif probability_female_given_tot_minutes_age < probability_male_given_tot_minutes_age: \n",
    "            predicted_gender = 'M'\n",
    "        if predicted_gender == gender:\n",
    "            correct += 1\n",
    "        runner_gender_predictions.append(predicted_gender)\n",
    "\n",
    "    return((correct/len(testing_data))*100,runner_gender_predictions)\n",
    "\n",
    "kde_males_2D = gaussian_kde(male_times_df[['tot_minutes','Age']].T, bw_method=.1)\n",
    "kde_females_2D = gaussian_kde(female_times_df[['tot_minutes','Age']].T, bw_method=.1)\n",
    "\n",
    "bayes_prediction_2D_KDE(marathon_test_df,kde_males_2D,kde_females_2D)[0]\n",
    "\n",
    "#class_acc_kde_2d = []\n",
    "#for i in range(1,21,1): \n",
    "    #bw = i/10\n",
    "    #kde_males_2D = gaussian_kde(male_times_df[['tot_minutes','Age']].T, bw_method=bw)\n",
    "    #kde_females_2D = gaussian_kde(female_times_df[['tot_minutes','Age']].T, bw_method=bw)\n",
    "    #accuracy = bayes_prediction_2D_KDE(marathon_test_df,kde_males_2D,kde_females_2D)[0]\n",
    "    #class_acc_kde_2d.append((bw,accuracy))\n",
    "\n",
    "\n",
    "#with open('accuracy_kde2D.txt','w') as f:\n",
    "    #for line in class_acc_kde_2d:\n",
    "        #f.write('{:} | {:}'.format(line[0],line[1]))\n",
    "        #f.write('\\n')\n",
    "\n",
    "with open('accuracy_kde2D.txt','r') as f:\n",
    "    results_2D = np.array([value.strip().split(' | ') for value in f],dtype=float)\n",
    "\n",
    "x_2d = [value[0] for value in results_2D]\n",
    "y_2d = [value[1] for value in results_2D]\n",
    "\n",
    "\n",
    "plt.figure(figsize=(7,5),dpi=100)\n",
    "plt.plot(x_2d,y_2d,label='Accuracy')\n",
    "plt.xticks(ticks=x_2d)\n",
    "plt.xlabel('Bandwidth Size')\n",
    "plt.ylabel('Classification Accuracy (%)')\n",
    "plt.title('Classification Accuracy of 2-D KDE With Differing Bandwidth Size')\n",
    "plt.legend()\n",
    "plt.grid(True,alpha=0.25)\n",
    "plt.show()"
   ]
  },
  {
   "cell_type": "markdown",
   "id": "47b9740f",
   "metadata": {},
   "source": [
    "## kNN "
   ]
  },
  {
   "cell_type": "code",
   "execution_count": null,
   "id": "325df610",
   "metadata": {},
   "outputs": [],
   "source": [
    "male_times_df = marathon_train_df[marathon_train_df['M/F']=='M']\n",
    "female_times_df = marathon_train_df[marathon_train_df['M/F']=='F']\n",
    "\n",
    "kde_male = gaussian_kde(male_times_df['tot_minutes'], bw_method=.01)\n",
    "kde_female = gaussian_kde(female_times_df['tot_minutes'], bw_method=.01)\n",
    "\n",
    "plt.figure(figsize=(7, 5),dpi=100)\n",
    "x = np.linspace(male_times_df['tot_minutes'].min(),male_times_df['tot_minutes'].max(),400)\n",
    "plt.plot(x, kde_male(x),label='Males',color='green')\n",
    "plt.plot(x, kde_female(x),label='Females',color='purple')\n",
    "plt.grid(True,alpha=0.5)\n",
    "plt.xlabel('Range of Finish Time in Minutes')\n",
    "plt.ylabel('Kernel Density Estimate')\n",
    "plt.title('Kernel Density Estimates for Male and Female Finish Times')\n",
    "plt.legend()\n",
    "plt.show()\n",
    "\n",
    "k=10\n",
    "neigh=KNeighborsClassifier(n_neighbors=k)\n",
    "neigh.fit(marathon_train_df[['tot_minutes']],marathon_train_df['M/F'])\n",
    "\n",
    "# 1-D kNN\n",
    "knn_pred = neigh.predict(marathon_test_df[['tot_minutes']])\n",
    "# This line creates a boolean array 'compare' whose values are either True or False, true if the prediction\n",
    "# is equal to the actual runner data, and false if not\n",
    "compare = np.array(knn_pred) == np.array(marathon_test_df['M/F'])\n",
    "# The .sum() method will compute how many True values are in the the 'compare' array\n",
    "compare.sum() / len(compare) * 100\n",
    "\n",
    "k=10\n",
    "neigh=KNeighborsClassifier(n_neighbors=k)\n",
    "neigh.fit(marathon_train_df[['tot_minutes','Age']],marathon_train_df['M/F'])\n",
    "\n",
    "# 2-D kNN\n",
    "knn_pred = neigh.predict(marathon_test_df[['tot_minutes','Age']])\n",
    "compare = np.array(knn_pred) == np.array(marathon_test_df['M/F'])\n",
    "compare.sum() / len(compare) * 100"
   ]
  },
  {
   "cell_type": "markdown",
   "id": "6a3739d1",
   "metadata": {},
   "source": [
    "## Linear Regression"
   ]
  },
  {
   "cell_type": "code",
   "execution_count": null,
   "id": "e95f1db5",
   "metadata": {},
   "outputs": [],
   "source": [
    "marathon_results_df = pd.read_csv('marathon_results.csv')\n",
    "# Convert 5k time and finish time to minutes\n",
    "marathon_results_df['5k_tot_minutes'] = pd.to_timedelta(marathon_results_df['5K']).dt.total_seconds()/60\n",
    "marathon_results_df['tot_minutes'] = pd.to_timedelta(marathon_results_df['Finish']).dt.total_seconds()/60\n",
    "\n",
    "# Create a linear regression for desired variables\n",
    "reg1 = LinearRegression()\n",
    "\n",
    "reg1.fit(marathon_results_df[['5k_tot_minutes']],marathon_results_df['tot_minutes'])\n",
    "# This column will be our predicted finish time\n",
    "marathon_results_df['regression'] = reg1.predict(marathon_results_df[['5k_tot_minutes']])\n",
    "\n",
    "marathon_results_df\n",
    "\n",
    "# Compute the squared error\n",
    "marathon_results_df['regression_error_squared'] = (marathon_results_df['regression'] - \n",
    "                                                   marathon_results_df['tot_minutes']) ** 2\n",
    "\n",
    "# Get all of the values from this column \n",
    "regression_error_squared = marathon_results_df['regression_error_squared'].values \n",
    "# Compute Mean Squared Error\n",
    "mse = np.mean(regression_error_squared)\n",
    "# Compute Root Mean Squared Error\n",
    "rmse = np.sqrt(mse)\n",
    "rmse\n"
   ]
  },
  {
   "cell_type": "code",
   "execution_count": null,
   "id": "18b9e1b6",
   "metadata": {},
   "outputs": [],
   "source": [
    "marathon_results_df = pd.read_csv('marathon_results.csv')\n",
    "marathon_results_df['5k_tot_minutes'] = pd.to_timedelta(marathon_results_df['5K']).dt.total_seconds()/60\n",
    "marathon_results_df['tot_minutes'] = pd.to_timedelta(marathon_results_df['Finish']).dt.total_seconds()/60\n",
    "\n",
    "reg3 = LinearRegression()\n",
    "\n",
    "reg3.fit(marathon_results_df[['Age','5k_tot_minutes']],marathon_results_df['tot_minutes'])\n",
    "marathon_results_df['regression'] = reg3.predict(marathon_results_df[['Age','5k_tot_minutes']])\n",
    "marathon_results_df['regression_error_squared'] = (marathon_results_df['regression'] - \n",
    "                                                   marathon_results_df['tot_minutes']) ** 2\n",
    "\n",
    "regression_error_squared = marathon_results_df['regression_error_squared'].values \n",
    "mse = np.mean(regression_error_squared)\n",
    "rmse = np.sqrt(mse)\n",
    "rmse"
   ]
  },
  {
   "cell_type": "code",
   "execution_count": null,
   "id": "7a4af2a8",
   "metadata": {},
   "outputs": [],
   "source": [
    "marathon_results_df = pd.read_csv('marathon_results.csv')\n",
    "marathon_results_df['Half_tot_minutes'] = pd.to_timedelta(marathon_results_df['Half']).dt.total_seconds()/60\n",
    "marathon_results_df['tot_minutes'] = pd.to_timedelta(marathon_results_df['Finish']).dt.total_seconds()/60\n",
    "\n",
    "reg4 = LinearRegression()\n",
    "\n",
    "reg4.fit(marathon_results_df[['Age','Half_tot_minutes']],marathon_results_df['tot_minutes'])\n",
    "marathon_results_df['regression'] = reg4.predict(marathon_results_df[['Age','Half_tot_minutes']])\n",
    "marathon_results_df['regression_error_squared'] = (marathon_results_df['regression'] - \n",
    "                                                   marathon_results_df['tot_minutes']) ** 2\n",
    "\n",
    "regression_error_squared = marathon_results_df['regression_error_squared'].values \n",
    "mse = np.mean(regression_error_squared)\n",
    "rmse = np.sqrt(mse)\n",
    "rmse\n"
   ]
  },
  {
   "cell_type": "code",
   "execution_count": null,
   "id": "e6744e9c",
   "metadata": {},
   "outputs": [],
   "source": [
    "marathon_results_df = pd.read_csv('marathon_results.csv')\n",
    "# Apply one-hot encoding to the 'M/F' column (this creates new dataframe)\n",
    "one_hot_encoded = pd.get_dummies(marathon_results_df['M/F'], prefix='Sex_1H')\n",
    "# Concatenate the two dataframes\n",
    "marathon_results_df = pd.concat([marathon_results_df, one_hot_encoded], axis=1) \n",
    "marathon_results_df['tot_minutes'] = pd.to_timedelta(marathon_results_df['Finish']).dt.total_seconds()/60\n",
    "marathon_results_df\n",
    "\n",
    "reg5 = LinearRegression()\n",
    "\n",
    "reg5.fit(marathon_results_df[['Sex_1H_M','Sex_1H_F']],marathon_results_df['tot_minutes'])\n",
    "marathon_results_df['regression'] = reg5.predict(marathon_results_df[['Sex_1H_M','Sex_1H_F']])\n",
    "marathon_results_df['regression_error_squared'] = (marathon_results_df['regression'] - \n",
    "                                                   marathon_results_df['tot_minutes']) ** 2\n",
    "\n",
    "regression_error_squared = marathon_results_df['regression_error_squared'].values \n",
    "mse = np.mean(regression_error_squared)\n",
    "rmse = np.sqrt(mse)\n",
    "rmse\n"
   ]
  },
  {
   "cell_type": "code",
   "execution_count": null,
   "id": "24d17228",
   "metadata": {},
   "outputs": [],
   "source": [
    "marathon_results_df = pd.read_csv('marathon_results.csv')\n",
    "one_hot_encoded = pd.get_dummies(marathon_results_df['M/F'], prefix='Sex_1H')\n",
    "marathon_results_df = pd.concat([marathon_results_df, one_hot_encoded], axis=1) \n",
    "marathon_results_df['5k_tot_minutes'] = pd.to_timedelta(marathon_results_df['5K']).dt.total_seconds()/60\n",
    "marathon_results_df['Halfway_minutes'] = pd.to_timedelta(marathon_results_df['Half']).dt.total_seconds()/60\n",
    "marathon_results_df['tot_minutes'] = pd.to_timedelta(marathon_results_df['Finish']).dt.total_seconds()/60\n",
    "\n",
    "reg6 = LinearRegression()\n",
    "\n",
    "reg6.fit(marathon_results_df[['Age','Sex_1H_M','Sex_1H_F','5k_tot_minutes','Halfway_minutes']],marathon_results_df['tot_minutes'])\n",
    "marathon_results_df['regression'] = reg6.predict(marathon_results_df[['Age','Sex_1H_M','Sex_1H_F','5k_tot_minutes','Halfway_minutes']])\n",
    "marathon_results_df['regression_error'] = (marathon_results_df['regression'] - marathon_results_df['tot_minutes'])\n",
    "marathon_results_df['regression_error_squared'] = (marathon_results_df['regression'] - \n",
    "                                                   marathon_results_df['tot_minutes']) ** 2\n",
    "\n",
    "regression_error_squared = marathon_results_df['regression_error_squared'].values \n",
    "mse = np.mean(regression_error_squared)\n",
    "rmse = np.sqrt(mse)\n",
    "rmse\n",
    "\n",
    "# --- Graphing Data ---\n",
    "\n",
    "plt.figure(figsize=(7,5),dpi=100)\n",
    "plt.plot(marathon_results_df.index,abs(marathon_results_df['regression_error']),label='Regression Error')\n",
    "plt.xlabel('Runner #')\n",
    "plt.ylabel('|Regression Error|')\n",
    "plt.legend()\n",
    "plt.title('Regression Error for Every Runner in the Dataset')\n",
    "plt.show()"
   ]
  },
  {
   "cell_type": "code",
   "execution_count": null,
   "id": "9f273c28",
   "metadata": {},
   "outputs": [],
   "source": [
    "marathon_results_df = pd.read_csv('marathon_results.csv')\n",
    "one_hot_encoded = pd.get_dummies(marathon_results_df['M/F'], prefix='Sex_1H')\n",
    "marathon_results_df = pd.concat([marathon_results_df, one_hot_encoded], axis=1) \n",
    "marathon_results_df['10k_tot_minutes'] = pd.to_timedelta(marathon_results_df['10K']).dt.total_seconds()/60\n",
    "marathon_results_df['20k_tot_minutes'] = pd.to_timedelta(marathon_results_df['20K']).dt.total_seconds()/60\n",
    "marathon_results_df['30k_tot_minutes'] = pd.to_timedelta(marathon_results_df['30K']).dt.total_seconds()/60\n",
    "marathon_results_df['tot_minutes'] = pd.to_timedelta(marathon_results_df['Finish']).dt.total_seconds()/60\n",
    "\n",
    "reg7 = LinearRegression()\n",
    "\n",
    "reg7.fit(marathon_results_df[['Age','Sex_1H_M','Sex_1H_F','10k_tot_minutes','20k_tot_minutes','30k_tot_minutes']],marathon_results_df['tot_minutes'])\n",
    "marathon_results_df['regression'] = reg7.predict(marathon_results_df[['Age','Sex_1H_M','Sex_1H_F','10k_tot_minutes','20k_tot_minutes','30k_tot_minutes']])\n",
    "marathon_results_df['regression_error'] = (marathon_results_df['regression'] - marathon_results_df['tot_minutes'])\n",
    "marathon_results_df['regression_error_squared'] = (marathon_results_df['regression'] - \n",
    "                                                   marathon_results_df['tot_minutes']) ** 2\n",
    "\n",
    "regression_error_squared = marathon_results_df['regression_error_squared'].values \n",
    "mse = np.mean(regression_error_squared)\n",
    "rmse = np.sqrt(mse)\n",
    "rmse\n",
    "\n",
    "# --- Graphing Data ---\n",
    "\n",
    "plt.figure(figsize=(7,5),dpi=100)\n",
    "plt.plot(marathon_results_df.index,abs(marathon_results_df['regression_error']),label='Regression Error')\n",
    "plt.xlabel('Runner #')\n",
    "plt.ylabel('|Regression Error|')\n",
    "plt.legend()\n",
    "plt.title('Regression Error for Every Runner in the Dataset')\n",
    "plt.show()"
   ]
  },
  {
   "cell_type": "markdown",
   "id": "251b39fb",
   "metadata": {},
   "source": [
    "## References\n",
    "\n",
    "1. Guenther, W. C. (n.d.). Bayesian methods in environmental science: A tutorial. In J. Michael (Ed.), Statistical methods in environmental research (pp. 143-177). Duke University. Retrieved May 6, 2023, from https://sites.nicholas.duke.edu/statsreview/jmc/\n",
    "\n",
    "2. Brownlee, J. (2019, October 7). Why one-hot encode data in machine learning? Machine Learning Mastery. https://machinelearningmastery.com/why-one-hot-encode-data-in-machine-learning/\n",
    "\n",
    "3. pandas.get_dummies. (n.d.). pandas 1.3.1 documentation. Retrieved May 13, 2023, from https://pandas.pydata.org/docs/reference/api/pandas.get_dummies.html"
   ]
  }
 ],
 "metadata": {
  "kernelspec": {
   "display_name": "Python 3 (ipykernel)",
   "language": "python",
   "name": "python3"
  },
  "language_info": {
   "codemirror_mode": {
    "name": "ipython",
    "version": 3
   },
   "file_extension": ".py",
   "mimetype": "text/x-python",
   "name": "python",
   "nbconvert_exporter": "python",
   "pygments_lexer": "ipython3",
   "version": "3.7.16"
  }
 },
 "nbformat": 4,
 "nbformat_minor": 5
}
